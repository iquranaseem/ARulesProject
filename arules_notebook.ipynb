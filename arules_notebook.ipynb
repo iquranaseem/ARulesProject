{
 "cells": [
  {
   "cell_type": "code",
   "execution_count": 45,
   "id": "c6261621",
   "metadata": {},
   "outputs": [
    {
     "name": "stdout",
     "output_type": "stream",
     "text": [
      "usage: conda [-h] [--no-plugins] [-V] COMMAND ...\n",
      "conda: error: argument COMMAND: invalid choice: 'activate' (choose from 'clean', 'compare', 'config', 'create', 'info', 'init', 'install', 'list', 'notices', 'package', 'remove', 'uninstall', 'rename', 'run', 'search', 'update', 'upgrade', 'build', 'convert', 'debug', 'develop', 'doctor', 'index', 'inspect', 'metapackage', 'render', 'skeleton', 'verify', 'content-trust', 'server', 'pack', 'env', 'repo', 'token')\n",
      "\n",
      "Note: you may need to restart the kernel to use updated packages.\n"
     ]
    }
   ],
   "source": [
    "conda activate Project"
   ]
  },
  {
   "cell_type": "code",
   "execution_count": 46,
   "id": "2a6d919d",
   "metadata": {
    "scrolled": false
   },
   "outputs": [
    {
     "name": "stdout",
     "output_type": "stream",
     "text": [
      "Requirement already satisfied: numpy in /Users/iquranaseem/anaconda3/envs/Project/lib/python3.9/site-packages (1.21.6)\n",
      "Note: you may need to restart the kernel to use updated packages.\n"
     ]
    }
   ],
   "source": [
    "pip install numpy"
   ]
  },
  {
   "cell_type": "code",
   "execution_count": 47,
   "id": "25e56b3a",
   "metadata": {},
   "outputs": [
    {
     "name": "stdout",
     "output_type": "stream",
     "text": [
      "Requirement already satisfied: pycaret in /Users/iquranaseem/anaconda3/envs/Project/lib/python3.9/site-packages (3.0.4)\n",
      "Requirement already satisfied: ipython>=5.5.0 in /Users/iquranaseem/anaconda3/envs/Project/lib/python3.9/site-packages (from pycaret) (8.12.2)\n",
      "Requirement already satisfied: ipywidgets>=7.6.5 in /Users/iquranaseem/anaconda3/envs/Project/lib/python3.9/site-packages (from pycaret) (8.1.0)\n",
      "Requirement already satisfied: tqdm>=4.62.0 in /Users/iquranaseem/anaconda3/envs/Project/lib/python3.9/site-packages (from pycaret) (4.66.1)\n",
      "Requirement already satisfied: numpy<1.24,>=1.21 in /Users/iquranaseem/anaconda3/envs/Project/lib/python3.9/site-packages (from pycaret) (1.21.6)\n",
      "Requirement already satisfied: pandas<2.0.0,>=1.3.0 in /Users/iquranaseem/anaconda3/envs/Project/lib/python3.9/site-packages (from pycaret) (1.4.4)\n",
      "Requirement already satisfied: jinja2>=1.2 in /Users/iquranaseem/anaconda3/envs/Project/lib/python3.9/site-packages (from pycaret) (3.1.2)\n",
      "Requirement already satisfied: scipy<2.0.0 in /Users/iquranaseem/anaconda3/envs/Project/lib/python3.9/site-packages (from pycaret) (1.7.3)\n",
      "Collecting joblib>=1.2.0 (from pycaret)\n",
      "  Obtaining dependency information for joblib>=1.2.0 from https://files.pythonhosted.org/packages/10/40/d551139c85db202f1f384ba8bcf96aca2f329440a844f924c8a0040b6d02/joblib-1.3.2-py3-none-any.whl.metadata\n",
      "  Using cached joblib-1.3.2-py3-none-any.whl.metadata (5.4 kB)\n",
      "Requirement already satisfied: scikit-learn<1.3.0,>=1.0 in /Users/iquranaseem/anaconda3/envs/Project/lib/python3.9/site-packages (from pycaret) (1.1.3)\n",
      "Requirement already satisfied: pyod>=1.0.8 in /Users/iquranaseem/anaconda3/envs/Project/lib/python3.9/site-packages (from pycaret) (1.1.0)\n",
      "Requirement already satisfied: imbalanced-learn>=0.8.1 in /Users/iquranaseem/anaconda3/envs/Project/lib/python3.9/site-packages (from pycaret) (0.9.1)\n",
      "Requirement already satisfied: category-encoders>=2.4.0 in /Users/iquranaseem/anaconda3/envs/Project/lib/python3.9/site-packages (from pycaret) (2.6.2)\n",
      "Requirement already satisfied: lightgbm>=3.0.0 in /Users/iquranaseem/anaconda3/envs/Project/lib/python3.9/site-packages (from pycaret) (4.0.0)\n",
      "Requirement already satisfied: numba>=0.55.0 in /Users/iquranaseem/anaconda3/envs/Project/lib/python3.9/site-packages (from pycaret) (0.55.2)\n",
      "Requirement already satisfied: requests>=2.27.1 in /Users/iquranaseem/anaconda3/envs/Project/lib/python3.9/site-packages (from pycaret) (2.31.0)\n",
      "Requirement already satisfied: psutil>=5.9.0 in /Users/iquranaseem/anaconda3/envs/Project/lib/python3.9/site-packages (from pycaret) (5.9.0)\n",
      "Requirement already satisfied: markupsafe>=2.0.1 in /Users/iquranaseem/anaconda3/envs/Project/lib/python3.9/site-packages (from pycaret) (2.1.1)\n",
      "Requirement already satisfied: importlib-metadata>=4.12.0 in /Users/iquranaseem/anaconda3/envs/Project/lib/python3.9/site-packages (from pycaret) (6.8.0)\n",
      "Requirement already satisfied: nbformat>=4.2.0 in /Users/iquranaseem/anaconda3/envs/Project/lib/python3.9/site-packages (from pycaret) (5.7.0)\n",
      "Requirement already satisfied: cloudpickle in /Users/iquranaseem/anaconda3/envs/Project/lib/python3.9/site-packages (from pycaret) (2.2.1)\n",
      "Requirement already satisfied: deprecation>=2.1.0 in /Users/iquranaseem/anaconda3/envs/Project/lib/python3.9/site-packages (from pycaret) (2.1.0)\n",
      "Requirement already satisfied: xxhash in /Users/iquranaseem/anaconda3/envs/Project/lib/python3.9/site-packages (from pycaret) (3.3.0)\n",
      "Requirement already satisfied: matplotlib>=3.3.0 in /Users/iquranaseem/anaconda3/envs/Project/lib/python3.9/site-packages (from pycaret) (3.7.2)\n",
      "Requirement already satisfied: scikit-plot>=0.3.7 in /Users/iquranaseem/anaconda3/envs/Project/lib/python3.9/site-packages (from pycaret) (0.3.7)\n",
      "Requirement already satisfied: yellowbrick>=1.4 in /Users/iquranaseem/anaconda3/envs/Project/lib/python3.9/site-packages (from pycaret) (1.5)\n",
      "Requirement already satisfied: plotly>=5.0.0 in /Users/iquranaseem/anaconda3/envs/Project/lib/python3.9/site-packages (from pycaret) (5.16.1)\n",
      "Requirement already satisfied: kaleido>=0.2.1 in /Users/iquranaseem/anaconda3/envs/Project/lib/python3.9/site-packages (from pycaret) (0.2.1)\n",
      "Requirement already satisfied: schemdraw==0.15 in /Users/iquranaseem/anaconda3/envs/Project/lib/python3.9/site-packages (from pycaret) (0.15)\n",
      "Requirement already satisfied: plotly-resampler>=0.8.3.1 in /Users/iquranaseem/anaconda3/envs/Project/lib/python3.9/site-packages (from pycaret) (0.9.1)\n",
      "Requirement already satisfied: statsmodels>=0.12.1 in /Users/iquranaseem/anaconda3/envs/Project/lib/python3.9/site-packages (from pycaret) (0.14.0)\n",
      "Collecting sktime!=0.17.1,!=0.17.2,!=0.18.0,>=0.16.1 (from pycaret)\n",
      "  Obtaining dependency information for sktime!=0.17.1,!=0.17.2,!=0.18.0,>=0.16.1 from https://files.pythonhosted.org/packages/bc/6f/ae8d2e9779e517679b1cfa7542f7eaaa3b9c6582c9c13237b16378fff1e2/sktime-0.22.0-py3-none-any.whl.metadata\n",
      "  Using cached sktime-0.22.0-py3-none-any.whl.metadata (25 kB)\n",
      "Requirement already satisfied: tbats>=1.1.3 in /Users/iquranaseem/anaconda3/envs/Project/lib/python3.9/site-packages (from pycaret) (1.1.3)\n",
      "Requirement already satisfied: pmdarima!=1.8.1,<3.0.0,>=1.8.0 in /Users/iquranaseem/anaconda3/envs/Project/lib/python3.9/site-packages (from pycaret) (2.0.3)\n",
      "Requirement already satisfied: wurlitzer in /Users/iquranaseem/anaconda3/envs/Project/lib/python3.9/site-packages (from pycaret) (3.0.3)\n",
      "Requirement already satisfied: patsy>=0.5.1 in /Users/iquranaseem/anaconda3/envs/Project/lib/python3.9/site-packages (from category-encoders>=2.4.0->pycaret) (0.5.3)\n",
      "Requirement already satisfied: packaging in /Users/iquranaseem/anaconda3/envs/Project/lib/python3.9/site-packages (from deprecation>=2.1.0->pycaret) (23.0)\n",
      "Requirement already satisfied: threadpoolctl>=2.0.0 in /Users/iquranaseem/anaconda3/envs/Project/lib/python3.9/site-packages (from imbalanced-learn>=0.8.1->pycaret) (3.2.0)\n",
      "Requirement already satisfied: zipp>=0.5 in /Users/iquranaseem/anaconda3/envs/Project/lib/python3.9/site-packages (from importlib-metadata>=4.12.0->pycaret) (3.16.2)\n",
      "Requirement already satisfied: backcall in /Users/iquranaseem/anaconda3/envs/Project/lib/python3.9/site-packages (from ipython>=5.5.0->pycaret) (0.2.0)\n",
      "Requirement already satisfied: decorator in /Users/iquranaseem/anaconda3/envs/Project/lib/python3.9/site-packages (from ipython>=5.5.0->pycaret) (5.1.1)\n",
      "Requirement already satisfied: jedi>=0.16 in /Users/iquranaseem/anaconda3/envs/Project/lib/python3.9/site-packages (from ipython>=5.5.0->pycaret) (0.18.1)\n",
      "Requirement already satisfied: matplotlib-inline in /Users/iquranaseem/anaconda3/envs/Project/lib/python3.9/site-packages (from ipython>=5.5.0->pycaret) (0.1.6)\n",
      "Requirement already satisfied: pickleshare in /Users/iquranaseem/anaconda3/envs/Project/lib/python3.9/site-packages (from ipython>=5.5.0->pycaret) (0.7.5)\n",
      "Requirement already satisfied: prompt-toolkit!=3.0.37,<3.1.0,>=3.0.30 in /Users/iquranaseem/anaconda3/envs/Project/lib/python3.9/site-packages (from ipython>=5.5.0->pycaret) (3.0.36)\n",
      "Requirement already satisfied: pygments>=2.4.0 in /Users/iquranaseem/anaconda3/envs/Project/lib/python3.9/site-packages (from ipython>=5.5.0->pycaret) (2.15.1)\n",
      "Requirement already satisfied: stack-data in /Users/iquranaseem/anaconda3/envs/Project/lib/python3.9/site-packages (from ipython>=5.5.0->pycaret) (0.2.0)\n",
      "Requirement already satisfied: traitlets>=5 in /Users/iquranaseem/anaconda3/envs/Project/lib/python3.9/site-packages (from ipython>=5.5.0->pycaret) (5.7.1)\n",
      "Requirement already satisfied: typing-extensions in /Users/iquranaseem/anaconda3/envs/Project/lib/python3.9/site-packages (from ipython>=5.5.0->pycaret) (4.7.1)\n",
      "Requirement already satisfied: pexpect>4.3 in /Users/iquranaseem/anaconda3/envs/Project/lib/python3.9/site-packages (from ipython>=5.5.0->pycaret) (4.8.0)\n",
      "Requirement already satisfied: appnope in /Users/iquranaseem/anaconda3/envs/Project/lib/python3.9/site-packages (from ipython>=5.5.0->pycaret) (0.1.2)\n",
      "Requirement already satisfied: comm>=0.1.3 in /Users/iquranaseem/anaconda3/envs/Project/lib/python3.9/site-packages (from ipywidgets>=7.6.5->pycaret) (0.1.4)\n",
      "Requirement already satisfied: widgetsnbextension~=4.0.7 in /Users/iquranaseem/anaconda3/envs/Project/lib/python3.9/site-packages (from ipywidgets>=7.6.5->pycaret) (4.0.8)\n",
      "Requirement already satisfied: jupyterlab-widgets~=3.0.7 in /Users/iquranaseem/anaconda3/envs/Project/lib/python3.9/site-packages (from ipywidgets>=7.6.5->pycaret) (3.0.8)\n",
      "Requirement already satisfied: contourpy>=1.0.1 in /Users/iquranaseem/anaconda3/envs/Project/lib/python3.9/site-packages (from matplotlib>=3.3.0->pycaret) (1.1.0)\n",
      "Requirement already satisfied: cycler>=0.10 in /Users/iquranaseem/anaconda3/envs/Project/lib/python3.9/site-packages (from matplotlib>=3.3.0->pycaret) (0.11.0)\n",
      "Requirement already satisfied: fonttools>=4.22.0 in /Users/iquranaseem/anaconda3/envs/Project/lib/python3.9/site-packages (from matplotlib>=3.3.0->pycaret) (4.42.1)\n",
      "Requirement already satisfied: kiwisolver>=1.0.1 in /Users/iquranaseem/anaconda3/envs/Project/lib/python3.9/site-packages (from matplotlib>=3.3.0->pycaret) (1.4.5)\n",
      "Requirement already satisfied: pillow>=6.2.0 in /Users/iquranaseem/anaconda3/envs/Project/lib/python3.9/site-packages (from matplotlib>=3.3.0->pycaret) (10.0.0)\n",
      "Requirement already satisfied: pyparsing<3.1,>=2.3.1 in /Users/iquranaseem/anaconda3/envs/Project/lib/python3.9/site-packages (from matplotlib>=3.3.0->pycaret) (3.0.9)\n",
      "Requirement already satisfied: python-dateutil>=2.7 in /Users/iquranaseem/anaconda3/envs/Project/lib/python3.9/site-packages (from matplotlib>=3.3.0->pycaret) (2.8.2)\n",
      "Requirement already satisfied: importlib-resources>=3.2.0 in /Users/iquranaseem/anaconda3/envs/Project/lib/python3.9/site-packages (from matplotlib>=3.3.0->pycaret) (6.0.1)\n",
      "Requirement already satisfied: fastjsonschema in /Users/iquranaseem/anaconda3/envs/Project/lib/python3.9/site-packages (from nbformat>=4.2.0->pycaret) (2.16.2)\n",
      "Requirement already satisfied: jsonschema>=2.6 in /Users/iquranaseem/anaconda3/envs/Project/lib/python3.9/site-packages (from nbformat>=4.2.0->pycaret) (2.6.0)\n",
      "Requirement already satisfied: jupyter-core in /Users/iquranaseem/anaconda3/envs/Project/lib/python3.9/site-packages (from nbformat>=4.2.0->pycaret) (5.3.0)\n",
      "Requirement already satisfied: llvmlite<0.39,>=0.38.0rc1 in /Users/iquranaseem/anaconda3/envs/Project/lib/python3.9/site-packages (from numba>=0.55.0->pycaret) (0.38.1)\n",
      "Requirement already satisfied: setuptools in /Users/iquranaseem/anaconda3/envs/Project/lib/python3.9/site-packages (from numba>=0.55.0->pycaret) (68.1.2)\n",
      "Requirement already satisfied: pytz>=2020.1 in /Users/iquranaseem/anaconda3/envs/Project/lib/python3.9/site-packages (from pandas<2.0.0,>=1.3.0->pycaret) (2023.3)\n",
      "Requirement already satisfied: tenacity>=6.2.0 in /Users/iquranaseem/anaconda3/envs/Project/lib/python3.9/site-packages (from plotly>=5.0.0->pycaret) (8.2.3)\n",
      "Requirement already satisfied: dash<3.0.0,>=2.11.0 in /Users/iquranaseem/anaconda3/envs/Project/lib/python3.9/site-packages (from plotly-resampler>=0.8.3.1->pycaret) (2.12.1)\n",
      "Requirement already satisfied: orjson<4.0.0,>=3.8.0 in /Users/iquranaseem/anaconda3/envs/Project/lib/python3.9/site-packages (from plotly-resampler>=0.8.3.1->pycaret) (3.9.5)\n",
      "Requirement already satisfied: trace-updater>=0.0.8 in /Users/iquranaseem/anaconda3/envs/Project/lib/python3.9/site-packages (from plotly-resampler>=0.8.3.1->pycaret) (0.0.9.1)\n",
      "Requirement already satisfied: tsdownsample==0.1.2 in /Users/iquranaseem/anaconda3/envs/Project/lib/python3.9/site-packages (from plotly-resampler>=0.8.3.1->pycaret) (0.1.2)\n",
      "Requirement already satisfied: Cython!=0.29.18,!=0.29.31,>=0.29 in /Users/iquranaseem/anaconda3/envs/Project/lib/python3.9/site-packages (from pmdarima!=1.8.1,<3.0.0,>=1.8.0->pycaret) (3.0.2)\n",
      "Requirement already satisfied: urllib3 in /Users/iquranaseem/anaconda3/envs/Project/lib/python3.9/site-packages (from pmdarima!=1.8.1,<3.0.0,>=1.8.0->pycaret) (2.0.4)\n",
      "Requirement already satisfied: six in /Users/iquranaseem/anaconda3/envs/Project/lib/python3.9/site-packages (from pyod>=1.0.8->pycaret) (1.16.0)\n",
      "Requirement already satisfied: charset-normalizer<4,>=2 in /Users/iquranaseem/anaconda3/envs/Project/lib/python3.9/site-packages (from requests>=2.27.1->pycaret) (3.2.0)\n",
      "Requirement already satisfied: idna<4,>=2.5 in /Users/iquranaseem/anaconda3/envs/Project/lib/python3.9/site-packages (from requests>=2.27.1->pycaret) (3.4)\n",
      "Requirement already satisfied: certifi>=2017.4.17 in /Users/iquranaseem/anaconda3/envs/Project/lib/python3.9/site-packages (from requests>=2.27.1->pycaret) (2023.7.22)\n",
      "Requirement already satisfied: scikit-base<0.6.0 in /Users/iquranaseem/anaconda3/envs/Project/lib/python3.9/site-packages (from sktime!=0.17.1,!=0.17.2,!=0.18.0,>=0.16.1->pycaret) (0.5.1)\n",
      "Requirement already satisfied: Flask<2.3.0,>=1.0.4 in /Users/iquranaseem/anaconda3/envs/Project/lib/python3.9/site-packages (from dash<3.0.0,>=2.11.0->plotly-resampler>=0.8.3.1->pycaret) (2.2.5)\n",
      "Requirement already satisfied: Werkzeug<2.3.0 in /Users/iquranaseem/anaconda3/envs/Project/lib/python3.9/site-packages (from dash<3.0.0,>=2.11.0->plotly-resampler>=0.8.3.1->pycaret) (2.2.3)\n",
      "Requirement already satisfied: dash-html-components==2.0.0 in /Users/iquranaseem/anaconda3/envs/Project/lib/python3.9/site-packages (from dash<3.0.0,>=2.11.0->plotly-resampler>=0.8.3.1->pycaret) (2.0.0)\n",
      "Requirement already satisfied: dash-core-components==2.0.0 in /Users/iquranaseem/anaconda3/envs/Project/lib/python3.9/site-packages (from dash<3.0.0,>=2.11.0->plotly-resampler>=0.8.3.1->pycaret) (2.0.0)\n",
      "Requirement already satisfied: dash-table==5.0.0 in /Users/iquranaseem/anaconda3/envs/Project/lib/python3.9/site-packages (from dash<3.0.0,>=2.11.0->plotly-resampler>=0.8.3.1->pycaret) (5.0.0)\n",
      "Requirement already satisfied: retrying in /Users/iquranaseem/anaconda3/envs/Project/lib/python3.9/site-packages (from dash<3.0.0,>=2.11.0->plotly-resampler>=0.8.3.1->pycaret) (1.3.4)\n",
      "Requirement already satisfied: ansi2html in /Users/iquranaseem/anaconda3/envs/Project/lib/python3.9/site-packages (from dash<3.0.0,>=2.11.0->plotly-resampler>=0.8.3.1->pycaret) (1.8.0)\n",
      "Requirement already satisfied: nest-asyncio in /Users/iquranaseem/anaconda3/envs/Project/lib/python3.9/site-packages (from dash<3.0.0,>=2.11.0->plotly-resampler>=0.8.3.1->pycaret) (1.5.6)\n",
      "Requirement already satisfied: parso<0.9.0,>=0.8.0 in /Users/iquranaseem/anaconda3/envs/Project/lib/python3.9/site-packages (from jedi>=0.16->ipython>=5.5.0->pycaret) (0.8.3)\n",
      "Requirement already satisfied: ptyprocess>=0.5 in /Users/iquranaseem/anaconda3/envs/Project/lib/python3.9/site-packages (from pexpect>4.3->ipython>=5.5.0->pycaret) (0.7.0)\n",
      "Requirement already satisfied: wcwidth in /Users/iquranaseem/anaconda3/envs/Project/lib/python3.9/site-packages (from prompt-toolkit!=3.0.37,<3.1.0,>=3.0.30->ipython>=5.5.0->pycaret) (0.2.5)\n",
      "Requirement already satisfied: platformdirs>=2.5 in /Users/iquranaseem/anaconda3/envs/Project/lib/python3.9/site-packages (from jupyter-core->nbformat>=4.2.0->pycaret) (3.10.0)\n",
      "Requirement already satisfied: executing in /Users/iquranaseem/anaconda3/envs/Project/lib/python3.9/site-packages (from stack-data->ipython>=5.5.0->pycaret) (0.8.3)\n",
      "Requirement already satisfied: asttokens in /Users/iquranaseem/anaconda3/envs/Project/lib/python3.9/site-packages (from stack-data->ipython>=5.5.0->pycaret) (2.0.5)\n",
      "Requirement already satisfied: pure-eval in /Users/iquranaseem/anaconda3/envs/Project/lib/python3.9/site-packages (from stack-data->ipython>=5.5.0->pycaret) (0.2.2)\n",
      "Requirement already satisfied: itsdangerous>=2.0 in /Users/iquranaseem/anaconda3/envs/Project/lib/python3.9/site-packages (from Flask<2.3.0,>=1.0.4->dash<3.0.0,>=2.11.0->plotly-resampler>=0.8.3.1->pycaret) (2.1.2)\n",
      "Requirement already satisfied: click>=8.0 in /Users/iquranaseem/anaconda3/envs/Project/lib/python3.9/site-packages (from Flask<2.3.0,>=1.0.4->dash<3.0.0,>=2.11.0->plotly-resampler>=0.8.3.1->pycaret) (8.1.7)\n",
      "Using cached joblib-1.3.2-py3-none-any.whl (302 kB)\n",
      "Using cached sktime-0.22.0-py3-none-any.whl (17.5 MB)\n",
      "Installing collected packages: joblib, sktime\n",
      "  Attempting uninstall: joblib\n",
      "    Found existing installation: joblib 1.0.1\n",
      "    Uninstalling joblib-1.0.1:\n",
      "      Successfully uninstalled joblib-1.0.1\n",
      "  Attempting uninstall: sktime\n",
      "    Found existing installation: sktime 0.10.1\n",
      "    Uninstalling sktime-0.10.1:\n",
      "      Successfully uninstalled sktime-0.10.1\n",
      "\u001b[31mERROR: pip's dependency resolver does not currently take into account all the packages that are installed. This behaviour is the source of the following dependency conflicts.\n",
      "pycaret-ts-alpha 3.0.0.dev1649017462 requires joblib~=1.0.1, but you have joblib 1.3.2 which is incompatible.\n",
      "pycaret-ts-alpha 3.0.0.dev1649017462 requires sktime==0.10.1, but you have sktime 0.22.0 which is incompatible.\u001b[0m\u001b[31m\n",
      "\u001b[0mSuccessfully installed joblib-1.3.2 sktime-0.22.0\n"
     ]
    }
   ],
   "source": [
    "!pip install pycaret"
   ]
  },
  {
   "cell_type": "code",
   "execution_count": 48,
   "id": "a9ff2e70",
   "metadata": {},
   "outputs": [
    {
     "name": "stdout",
     "output_type": "stream",
     "text": [
      "/Users/iquranaseem/Desktop/Project\n"
     ]
    }
   ],
   "source": [
    "cd /Users/iquranaseem/Desktop/Project"
   ]
  },
  {
   "cell_type": "code",
   "execution_count": 49,
   "id": "3bfec35c",
   "metadata": {},
   "outputs": [
    {
     "name": "stdout",
     "output_type": "stream",
     "text": [
      "Requirement already satisfied: pycaret-ts-alpha in /Users/iquranaseem/anaconda3/envs/Project/lib/python3.9/site-packages (3.0.0.dev1649017462)\n",
      "Requirement already satisfied: ipython>=5.5.0 in /Users/iquranaseem/anaconda3/envs/Project/lib/python3.9/site-packages (from pycaret-ts-alpha) (8.12.2)\n",
      "Requirement already satisfied: numpy~=1.21 in /Users/iquranaseem/anaconda3/envs/Project/lib/python3.9/site-packages (from pycaret-ts-alpha) (1.21.6)\n",
      "Requirement already satisfied: pandas<1.5.0,>=1.3.0 in /Users/iquranaseem/anaconda3/envs/Project/lib/python3.9/site-packages (from pycaret-ts-alpha) (1.4.4)\n",
      "Requirement already satisfied: scipy~=1.7.3 in /Users/iquranaseem/anaconda3/envs/Project/lib/python3.9/site-packages (from pycaret-ts-alpha) (1.7.3)\n",
      "Collecting joblib~=1.0.1 (from pycaret-ts-alpha)\n",
      "  Using cached joblib-1.0.1-py3-none-any.whl (303 kB)\n",
      "Requirement already satisfied: scikit-learn>=1.0.2 in /Users/iquranaseem/anaconda3/envs/Project/lib/python3.9/site-packages (from pycaret-ts-alpha) (1.1.3)\n",
      "Requirement already satisfied: pyod>=0.9.8 in /Users/iquranaseem/anaconda3/envs/Project/lib/python3.9/site-packages (from pycaret-ts-alpha) (1.1.0)\n",
      "Requirement already satisfied: imbalanced-learn>=0.8.1 in /Users/iquranaseem/anaconda3/envs/Project/lib/python3.9/site-packages (from pycaret-ts-alpha) (0.9.1)\n",
      "Requirement already satisfied: category-encoders>=2.4.0 in /Users/iquranaseem/anaconda3/envs/Project/lib/python3.9/site-packages (from pycaret-ts-alpha) (2.6.2)\n",
      "Requirement already satisfied: lightgbm>=3.0.0 in /Users/iquranaseem/anaconda3/envs/Project/lib/python3.9/site-packages (from pycaret-ts-alpha) (4.0.0)\n",
      "Requirement already satisfied: numba~=0.55.0 in /Users/iquranaseem/anaconda3/envs/Project/lib/python3.9/site-packages (from pycaret-ts-alpha) (0.55.2)\n",
      "Requirement already satisfied: matplotlib>=3.3.0 in /Users/iquranaseem/anaconda3/envs/Project/lib/python3.9/site-packages (from pycaret-ts-alpha) (3.7.2)\n",
      "Requirement already satisfied: scikit-plot>=0.3.7 in /Users/iquranaseem/anaconda3/envs/Project/lib/python3.9/site-packages (from pycaret-ts-alpha) (0.3.7)\n",
      "Requirement already satisfied: yellowbrick>=1.4 in /Users/iquranaseem/anaconda3/envs/Project/lib/python3.9/site-packages (from pycaret-ts-alpha) (1.5)\n",
      "Requirement already satisfied: plotly>=5.0.0 in /Users/iquranaseem/anaconda3/envs/Project/lib/python3.9/site-packages (from pycaret-ts-alpha) (5.16.1)\n",
      "Requirement already satisfied: kaleido>=0.2.1 in /Users/iquranaseem/anaconda3/envs/Project/lib/python3.9/site-packages (from pycaret-ts-alpha) (0.2.1)\n",
      "Requirement already satisfied: statsmodels>=0.12.1 in /Users/iquranaseem/anaconda3/envs/Project/lib/python3.9/site-packages (from pycaret-ts-alpha) (0.14.0)\n",
      "Collecting sktime==0.10.1 (from pycaret-ts-alpha)\n",
      "  Using cached sktime-0.10.1-py3-none-any.whl (6.5 MB)\n",
      "Requirement already satisfied: tbats>=1.1.0 in /Users/iquranaseem/anaconda3/envs/Project/lib/python3.9/site-packages (from pycaret-ts-alpha) (1.1.3)\n",
      "Requirement already satisfied: pmdarima>=1.8.0 in /Users/iquranaseem/anaconda3/envs/Project/lib/python3.9/site-packages (from pycaret-ts-alpha) (2.0.3)\n",
      "Requirement already satisfied: deprecated>=1.2.13 in /Users/iquranaseem/anaconda3/envs/Project/lib/python3.9/site-packages (from sktime==0.10.1->pycaret-ts-alpha) (1.2.14)\n",
      "Requirement already satisfied: patsy>=0.5.1 in /Users/iquranaseem/anaconda3/envs/Project/lib/python3.9/site-packages (from category-encoders>=2.4.0->pycaret-ts-alpha) (0.5.3)\n",
      "Requirement already satisfied: threadpoolctl>=2.0.0 in /Users/iquranaseem/anaconda3/envs/Project/lib/python3.9/site-packages (from imbalanced-learn>=0.8.1->pycaret-ts-alpha) (3.2.0)\n",
      "Requirement already satisfied: backcall in /Users/iquranaseem/anaconda3/envs/Project/lib/python3.9/site-packages (from ipython>=5.5.0->pycaret-ts-alpha) (0.2.0)\n",
      "Requirement already satisfied: decorator in /Users/iquranaseem/anaconda3/envs/Project/lib/python3.9/site-packages (from ipython>=5.5.0->pycaret-ts-alpha) (5.1.1)\n",
      "Requirement already satisfied: jedi>=0.16 in /Users/iquranaseem/anaconda3/envs/Project/lib/python3.9/site-packages (from ipython>=5.5.0->pycaret-ts-alpha) (0.18.1)\n",
      "Requirement already satisfied: matplotlib-inline in /Users/iquranaseem/anaconda3/envs/Project/lib/python3.9/site-packages (from ipython>=5.5.0->pycaret-ts-alpha) (0.1.6)\n",
      "Requirement already satisfied: pickleshare in /Users/iquranaseem/anaconda3/envs/Project/lib/python3.9/site-packages (from ipython>=5.5.0->pycaret-ts-alpha) (0.7.5)\n",
      "Requirement already satisfied: prompt-toolkit!=3.0.37,<3.1.0,>=3.0.30 in /Users/iquranaseem/anaconda3/envs/Project/lib/python3.9/site-packages (from ipython>=5.5.0->pycaret-ts-alpha) (3.0.36)\n",
      "Requirement already satisfied: pygments>=2.4.0 in /Users/iquranaseem/anaconda3/envs/Project/lib/python3.9/site-packages (from ipython>=5.5.0->pycaret-ts-alpha) (2.15.1)\n",
      "Requirement already satisfied: stack-data in /Users/iquranaseem/anaconda3/envs/Project/lib/python3.9/site-packages (from ipython>=5.5.0->pycaret-ts-alpha) (0.2.0)\n",
      "Requirement already satisfied: traitlets>=5 in /Users/iquranaseem/anaconda3/envs/Project/lib/python3.9/site-packages (from ipython>=5.5.0->pycaret-ts-alpha) (5.7.1)\n",
      "Requirement already satisfied: typing-extensions in /Users/iquranaseem/anaconda3/envs/Project/lib/python3.9/site-packages (from ipython>=5.5.0->pycaret-ts-alpha) (4.7.1)\n",
      "Requirement already satisfied: pexpect>4.3 in /Users/iquranaseem/anaconda3/envs/Project/lib/python3.9/site-packages (from ipython>=5.5.0->pycaret-ts-alpha) (4.8.0)\n",
      "Requirement already satisfied: appnope in /Users/iquranaseem/anaconda3/envs/Project/lib/python3.9/site-packages (from ipython>=5.5.0->pycaret-ts-alpha) (0.1.2)\n",
      "Requirement already satisfied: contourpy>=1.0.1 in /Users/iquranaseem/anaconda3/envs/Project/lib/python3.9/site-packages (from matplotlib>=3.3.0->pycaret-ts-alpha) (1.1.0)\n",
      "Requirement already satisfied: cycler>=0.10 in /Users/iquranaseem/anaconda3/envs/Project/lib/python3.9/site-packages (from matplotlib>=3.3.0->pycaret-ts-alpha) (0.11.0)\n",
      "Requirement already satisfied: fonttools>=4.22.0 in /Users/iquranaseem/anaconda3/envs/Project/lib/python3.9/site-packages (from matplotlib>=3.3.0->pycaret-ts-alpha) (4.42.1)\n",
      "Requirement already satisfied: kiwisolver>=1.0.1 in /Users/iquranaseem/anaconda3/envs/Project/lib/python3.9/site-packages (from matplotlib>=3.3.0->pycaret-ts-alpha) (1.4.5)\n",
      "Requirement already satisfied: packaging>=20.0 in /Users/iquranaseem/anaconda3/envs/Project/lib/python3.9/site-packages (from matplotlib>=3.3.0->pycaret-ts-alpha) (23.0)\n",
      "Requirement already satisfied: pillow>=6.2.0 in /Users/iquranaseem/anaconda3/envs/Project/lib/python3.9/site-packages (from matplotlib>=3.3.0->pycaret-ts-alpha) (10.0.0)\n",
      "Requirement already satisfied: pyparsing<3.1,>=2.3.1 in /Users/iquranaseem/anaconda3/envs/Project/lib/python3.9/site-packages (from matplotlib>=3.3.0->pycaret-ts-alpha) (3.0.9)\n",
      "Requirement already satisfied: python-dateutil>=2.7 in /Users/iquranaseem/anaconda3/envs/Project/lib/python3.9/site-packages (from matplotlib>=3.3.0->pycaret-ts-alpha) (2.8.2)\n",
      "Requirement already satisfied: importlib-resources>=3.2.0 in /Users/iquranaseem/anaconda3/envs/Project/lib/python3.9/site-packages (from matplotlib>=3.3.0->pycaret-ts-alpha) (6.0.1)\n",
      "Requirement already satisfied: llvmlite<0.39,>=0.38.0rc1 in /Users/iquranaseem/anaconda3/envs/Project/lib/python3.9/site-packages (from numba~=0.55.0->pycaret-ts-alpha) (0.38.1)\n",
      "Requirement already satisfied: setuptools in /Users/iquranaseem/anaconda3/envs/Project/lib/python3.9/site-packages (from numba~=0.55.0->pycaret-ts-alpha) (68.1.2)\n",
      "Requirement already satisfied: pytz>=2020.1 in /Users/iquranaseem/anaconda3/envs/Project/lib/python3.9/site-packages (from pandas<1.5.0,>=1.3.0->pycaret-ts-alpha) (2023.3)\n",
      "Requirement already satisfied: tenacity>=6.2.0 in /Users/iquranaseem/anaconda3/envs/Project/lib/python3.9/site-packages (from plotly>=5.0.0->pycaret-ts-alpha) (8.2.3)\n",
      "Requirement already satisfied: Cython!=0.29.18,!=0.29.31,>=0.29 in /Users/iquranaseem/anaconda3/envs/Project/lib/python3.9/site-packages (from pmdarima>=1.8.0->pycaret-ts-alpha) (3.0.2)\n",
      "Requirement already satisfied: urllib3 in /Users/iquranaseem/anaconda3/envs/Project/lib/python3.9/site-packages (from pmdarima>=1.8.0->pycaret-ts-alpha) (2.0.4)\n",
      "Requirement already satisfied: six in /Users/iquranaseem/anaconda3/envs/Project/lib/python3.9/site-packages (from pyod>=0.9.8->pycaret-ts-alpha) (1.16.0)\n",
      "Requirement already satisfied: wrapt<2,>=1.10 in /Users/iquranaseem/anaconda3/envs/Project/lib/python3.9/site-packages (from deprecated>=1.2.13->sktime==0.10.1->pycaret-ts-alpha) (1.15.0)\n",
      "Requirement already satisfied: zipp>=3.1.0 in /Users/iquranaseem/anaconda3/envs/Project/lib/python3.9/site-packages (from importlib-resources>=3.2.0->matplotlib>=3.3.0->pycaret-ts-alpha) (3.16.2)\n",
      "Requirement already satisfied: parso<0.9.0,>=0.8.0 in /Users/iquranaseem/anaconda3/envs/Project/lib/python3.9/site-packages (from jedi>=0.16->ipython>=5.5.0->pycaret-ts-alpha) (0.8.3)\n",
      "Requirement already satisfied: ptyprocess>=0.5 in /Users/iquranaseem/anaconda3/envs/Project/lib/python3.9/site-packages (from pexpect>4.3->ipython>=5.5.0->pycaret-ts-alpha) (0.7.0)\n",
      "Requirement already satisfied: wcwidth in /Users/iquranaseem/anaconda3/envs/Project/lib/python3.9/site-packages (from prompt-toolkit!=3.0.37,<3.1.0,>=3.0.30->ipython>=5.5.0->pycaret-ts-alpha) (0.2.5)\n",
      "Requirement already satisfied: executing in /Users/iquranaseem/anaconda3/envs/Project/lib/python3.9/site-packages (from stack-data->ipython>=5.5.0->pycaret-ts-alpha) (0.8.3)\n",
      "Requirement already satisfied: asttokens in /Users/iquranaseem/anaconda3/envs/Project/lib/python3.9/site-packages (from stack-data->ipython>=5.5.0->pycaret-ts-alpha) (2.0.5)\n",
      "Requirement already satisfied: pure-eval in /Users/iquranaseem/anaconda3/envs/Project/lib/python3.9/site-packages (from stack-data->ipython>=5.5.0->pycaret-ts-alpha) (0.2.2)\n",
      "Installing collected packages: joblib, sktime\n",
      "  Attempting uninstall: joblib\n",
      "    Found existing installation: joblib 1.3.2\n",
      "    Uninstalling joblib-1.3.2:\n",
      "      Successfully uninstalled joblib-1.3.2\n",
      "  Attempting uninstall: sktime\n",
      "    Found existing installation: sktime 0.22.0\n",
      "    Uninstalling sktime-0.22.0:\n",
      "      Successfully uninstalled sktime-0.22.0\n",
      "\u001b[31mERROR: pip's dependency resolver does not currently take into account all the packages that are installed. This behaviour is the source of the following dependency conflicts.\n",
      "pycaret 3.0.4 requires joblib>=1.2.0, but you have joblib 1.0.1 which is incompatible.\n",
      "pycaret 3.0.4 requires sktime!=0.17.1,!=0.17.2,!=0.18.0,>=0.16.1, but you have sktime 0.10.1 which is incompatible.\u001b[0m\u001b[31m\n",
      "\u001b[0mSuccessfully installed joblib-1.0.1 sktime-0.10.1\n"
     ]
    }
   ],
   "source": [
    "!pip install pycaret-ts-alpha"
   ]
  },
  {
   "cell_type": "code",
   "execution_count": 50,
   "id": "f98ebd81",
   "metadata": {},
   "outputs": [
    {
     "data": {
      "text/html": [
       "<div>\n",
       "<style scoped>\n",
       "    .dataframe tbody tr th:only-of-type {\n",
       "        vertical-align: middle;\n",
       "    }\n",
       "\n",
       "    .dataframe tbody tr th {\n",
       "        vertical-align: top;\n",
       "    }\n",
       "\n",
       "    .dataframe thead th {\n",
       "        text-align: right;\n",
       "    }\n",
       "</style>\n",
       "<table border=\"1\" class=\"dataframe\">\n",
       "  <thead>\n",
       "    <tr style=\"text-align: right;\">\n",
       "      <th></th>\n",
       "      <th>Member_number</th>\n",
       "      <th>Date</th>\n",
       "      <th>itemDescription</th>\n",
       "    </tr>\n",
       "  </thead>\n",
       "  <tbody>\n",
       "    <tr>\n",
       "      <th>0</th>\n",
       "      <td>1808</td>\n",
       "      <td>21-07-2015</td>\n",
       "      <td>tropical fruit</td>\n",
       "    </tr>\n",
       "    <tr>\n",
       "      <th>1</th>\n",
       "      <td>2552</td>\n",
       "      <td>05-01-2015</td>\n",
       "      <td>whole milk</td>\n",
       "    </tr>\n",
       "    <tr>\n",
       "      <th>2</th>\n",
       "      <td>2300</td>\n",
       "      <td>19-09-2015</td>\n",
       "      <td>pip fruit</td>\n",
       "    </tr>\n",
       "    <tr>\n",
       "      <th>3</th>\n",
       "      <td>1187</td>\n",
       "      <td>12-12-2015</td>\n",
       "      <td>other vegetables</td>\n",
       "    </tr>\n",
       "    <tr>\n",
       "      <th>4</th>\n",
       "      <td>3037</td>\n",
       "      <td>01-02-2015</td>\n",
       "      <td>whole milk</td>\n",
       "    </tr>\n",
       "  </tbody>\n",
       "</table>\n",
       "</div>"
      ],
      "text/plain": [
       "   Member_number        Date   itemDescription\n",
       "0           1808  21-07-2015    tropical fruit\n",
       "1           2552  05-01-2015        whole milk\n",
       "2           2300  19-09-2015         pip fruit\n",
       "3           1187  12-12-2015  other vegetables\n",
       "4           3037  01-02-2015        whole milk"
      ]
     },
     "metadata": {},
     "output_type": "display_data"
    }
   ],
   "source": [
    "from pycaret.datasets import get_data\n",
    "\n",
    "# Load the dataset\n",
    "data = get_data(\"Groceries\")\n"
   ]
  },
  {
   "cell_type": "code",
   "execution_count": 51,
   "id": "b619e471",
   "metadata": {},
   "outputs": [
    {
     "name": "stdout",
     "output_type": "stream",
     "text": [
      "PyCaret version: 3.0.0\n",
      "Apyori version: 1.1.2\n"
     ]
    }
   ],
   "source": [
    "import pycaret\n",
    "import apyori\n",
    "\n",
    "print(\"PyCaret version:\", pycaret.__version__)\n",
    "print(\"Apyori version:\", apyori.__version__)\n"
   ]
  },
  {
   "cell_type": "markdown",
   "id": "378b94e3",
   "metadata": {},
   "source": [
    "## Setup"
   ]
  },
  {
   "cell_type": "code",
   "execution_count": 52,
   "id": "0a3b540b",
   "metadata": {},
   "outputs": [
    {
     "data": {
      "text/html": [
       "<style type=\"text/css\">\n",
       "</style>\n",
       "<table id=\"T_06cfe\">\n",
       "  <thead>\n",
       "    <tr>\n",
       "      <th id=\"T_06cfe_level0_col0\" class=\"col_heading level0 col0\" >Description</th>\n",
       "      <th id=\"T_06cfe_level0_col1\" class=\"col_heading level0 col1\" >Value</th>\n",
       "    </tr>\n",
       "  </thead>\n",
       "  <tbody>\n",
       "    <tr>\n",
       "      <td id=\"T_06cfe_row0_col0\" class=\"data row0 col0\" >session_id</td>\n",
       "      <td id=\"T_06cfe_row0_col1\" class=\"data row0 col1\" >2262</td>\n",
       "    </tr>\n",
       "    <tr>\n",
       "      <td id=\"T_06cfe_row1_col0\" class=\"data row1 col0\" ># Transactions</td>\n",
       "      <td id=\"T_06cfe_row1_col1\" class=\"data row1 col1\" >3898</td>\n",
       "    </tr>\n",
       "    <tr>\n",
       "      <td id=\"T_06cfe_row2_col0\" class=\"data row2 col0\" ># Items</td>\n",
       "      <td id=\"T_06cfe_row2_col1\" class=\"data row2 col1\" >167</td>\n",
       "    </tr>\n",
       "    <tr>\n",
       "      <td id=\"T_06cfe_row3_col0\" class=\"data row3 col0\" >Ignore Items</td>\n",
       "      <td id=\"T_06cfe_row3_col1\" class=\"data row3 col1\" >None</td>\n",
       "    </tr>\n",
       "  </tbody>\n",
       "</table>\n"
      ],
      "text/plain": [
       "<pandas.io.formats.style.Styler at 0x1471d9a00>"
      ]
     },
     "metadata": {},
     "output_type": "display_data"
    }
   ],
   "source": [
    "from pycaret.arules import *\n",
    "import pandas as pd\n",
    "\n",
    "# Load your dataset into the 'data' variable\n",
    "data = pd.read_csv('Groceries.csv')\n",
    "\n",
    "# Set up the association rule mining task\n",
    "s = setup(data=data, transaction_id='Member_number', item_id='itemDescription')\n",
    "\n"
   ]
  },
  {
   "cell_type": "code",
   "execution_count": 53,
   "id": "67e420e9",
   "metadata": {},
   "outputs": [
    {
     "name": "stdout",
     "output_type": "stream",
     "text": [
      "           antecedents         consequents  antecedent support  \\\n",
      "0             (yogurt)        (whole milk)              0.2830   \n",
      "1      (bottled water)        (whole milk)              0.2137   \n",
      "2            (sausage)        (whole milk)              0.2060   \n",
      "3         (rolls/buns)        (whole milk)              0.3497   \n",
      "4   (other vegetables)        (whole milk)              0.3766   \n",
      "5     (tropical fruit)        (whole milk)              0.2337   \n",
      "6    (root vegetables)        (whole milk)              0.2306   \n",
      "7               (soda)        (whole milk)              0.3135   \n",
      "8             (yogurt)  (other vegetables)              0.2830   \n",
      "9         (rolls/buns)  (other vegetables)              0.3497   \n",
      "10        (whole milk)  (other vegetables)              0.4582   \n",
      "11              (soda)  (other vegetables)              0.3135   \n",
      "12            (yogurt)        (rolls/buns)              0.2830   \n",
      "13        (whole milk)        (rolls/buns)              0.4582   \n",
      "14  (other vegetables)        (rolls/buns)              0.3766   \n",
      "15              (soda)        (rolls/buns)              0.3135   \n",
      "16        (rolls/buns)              (soda)              0.3497   \n",
      "17        (whole milk)              (soda)              0.4582   \n",
      "18  (other vegetables)              (soda)              0.3766   \n",
      "19        (whole milk)            (yogurt)              0.4582   \n",
      "20  (other vegetables)            (yogurt)              0.3766   \n",
      "21        (rolls/buns)            (yogurt)              0.3497   \n",
      "\n",
      "    consequent support  support  confidence    lift  leverage  conviction  \\\n",
      "0               0.4582   0.1506      0.5322  1.1615    0.0209      1.1582   \n",
      "1               0.4582   0.1124      0.5258  1.1476    0.0145      1.1426   \n",
      "2               0.4582   0.1070      0.5193  1.1334    0.0126      1.1271   \n",
      "3               0.4582   0.1786      0.5106  1.1145    0.0183      1.1072   \n",
      "4               0.4582   0.1914      0.5082  1.1091    0.0188      1.1016   \n",
      "5               0.4582   0.1165      0.4984  1.0877    0.0094      1.0801   \n",
      "6               0.4582   0.1131      0.4905  1.0706    0.0075      1.0635   \n",
      "7               0.4582   0.1511      0.4820  1.0520    0.0075      1.0460   \n",
      "8               0.3766   0.1203      0.4252  1.1290    0.0138      1.0846   \n",
      "9               0.3766   0.1467      0.4197  1.1143    0.0151      1.0742   \n",
      "10              0.3766   0.1914      0.4177  1.1091    0.0188      1.0706   \n",
      "11              0.3766   0.1242      0.3961  1.0517    0.0061      1.0322   \n",
      "12              0.3497   0.1113      0.3935  1.1253    0.0124      1.0722   \n",
      "13              0.3497   0.1786      0.3897  1.1145    0.0183      1.0656   \n",
      "14              0.3497   0.1467      0.3896  1.1143    0.0151      1.0655   \n",
      "15              0.3497   0.1198      0.3822  1.0929    0.0102      1.0526   \n",
      "16              0.3135   0.1198      0.3426  1.0929    0.0102      1.0443   \n",
      "17              0.3135   0.1511      0.3298  1.0520    0.0075      1.0243   \n",
      "18              0.3135   0.1242      0.3297  1.0517    0.0061      1.0242   \n",
      "19              0.2830   0.1506      0.3287  1.1615    0.0209      1.0681   \n",
      "20              0.2830   0.1203      0.3195  1.1290    0.0138      1.0537   \n",
      "21              0.2830   0.1113      0.3184  1.1253    0.0124      1.0520   \n",
      "\n",
      "    zhangs_metric  \n",
      "0          0.1939  \n",
      "1          0.1636  \n",
      "2          0.1482  \n",
      "3          0.1580  \n",
      "4          0.1578  \n",
      "5          0.1052  \n",
      "6          0.0857  \n",
      "7          0.0720  \n",
      "8          0.1594  \n",
      "9          0.1578  \n",
      "10         0.1816  \n",
      "11         0.0716  \n",
      "12         0.1553  \n",
      "13         0.1896  \n",
      "14         0.1646  \n",
      "15         0.1239  \n",
      "16         0.1307  \n",
      "17         0.0912  \n",
      "18         0.0788  \n",
      "19         0.2566  \n",
      "20         0.1833  \n",
      "21         0.1712  \n"
     ]
    }
   ],
   "source": [
    "# The `create_model` function runs the algorithm and return the rules in pandas DataFrame based on the selection parameters defined in the `create_model`. In this example we have used selection metric `confidence` with threshold and support of 0.5.\n",
    "\n",
    "# train model\n",
    "\n",
    "arules = create_model(metric='confidence', threshold=0.3, min_support=0.1)\n",
    "print(arules)\n",
    "# Save the 'arules' DataFrame to a CSV file\n",
    "arules.to_csv(\"arules.csv\", index=False)\n"
   ]
  },
  {
   "attachments": {},
   "cell_type": "markdown",
   "id": "019241b0",
   "metadata": {},
   "source": [
    "## Categorising the food"
   ]
  },
  {
   "cell_type": "code",
   "execution_count": 54,
   "id": "a21758eb",
   "metadata": {},
   "outputs": [],
   "source": [
    "food_categories = {\n",
    "    frozenset({'yogurt'}): \"dairy\",\n",
    "    frozenset({'bottled water'}): \"beverage\",\n",
    "    frozenset({'sausage'}): \"meat\",\n",
    "    frozenset({'rolls/buns'}): \"carbs\",\n",
    "    frozenset({'other vegetables'}): \"fruit and veg\",\n",
    "    frozenset({'tropical fruit'}): \"fruit and veg\",\n",
    "    frozenset({'root vegetables'}): \"fruit and veg\",\n",
    "    frozenset({'soda'}): \"beverage\",\n",
    "    frozenset({'whole milk'}): \"dairy\" \n",
    "}"
   ]
  },
  {
   "cell_type": "code",
   "execution_count": 55,
   "id": "50bbb20d",
   "metadata": {},
   "outputs": [
    {
     "name": "stdout",
     "output_type": "stream",
     "text": [
      "           antecedents         consequents  antecedent support  \\\n",
      "0             (yogurt)        (whole milk)              0.2830   \n",
      "1      (bottled water)        (whole milk)              0.2137   \n",
      "2            (sausage)        (whole milk)              0.2060   \n",
      "3         (rolls/buns)        (whole milk)              0.3497   \n",
      "4   (other vegetables)        (whole milk)              0.3766   \n",
      "5     (tropical fruit)        (whole milk)              0.2337   \n",
      "6    (root vegetables)        (whole milk)              0.2306   \n",
      "7               (soda)        (whole milk)              0.3135   \n",
      "8             (yogurt)  (other vegetables)              0.2830   \n",
      "9         (rolls/buns)  (other vegetables)              0.3497   \n",
      "10        (whole milk)  (other vegetables)              0.4582   \n",
      "11              (soda)  (other vegetables)              0.3135   \n",
      "12            (yogurt)        (rolls/buns)              0.2830   \n",
      "13        (whole milk)        (rolls/buns)              0.4582   \n",
      "14  (other vegetables)        (rolls/buns)              0.3766   \n",
      "15              (soda)        (rolls/buns)              0.3135   \n",
      "16        (rolls/buns)              (soda)              0.3497   \n",
      "17        (whole milk)              (soda)              0.4582   \n",
      "18  (other vegetables)              (soda)              0.3766   \n",
      "19        (whole milk)            (yogurt)              0.4582   \n",
      "20  (other vegetables)            (yogurt)              0.3766   \n",
      "21        (rolls/buns)            (yogurt)              0.3497   \n",
      "\n",
      "    consequent support  support  confidence    lift  leverage  conviction  \\\n",
      "0               0.4582   0.1506      0.5322  1.1615    0.0209      1.1582   \n",
      "1               0.4582   0.1124      0.5258  1.1476    0.0145      1.1426   \n",
      "2               0.4582   0.1070      0.5193  1.1334    0.0126      1.1271   \n",
      "3               0.4582   0.1786      0.5106  1.1145    0.0183      1.1072   \n",
      "4               0.4582   0.1914      0.5082  1.1091    0.0188      1.1016   \n",
      "5               0.4582   0.1165      0.4984  1.0877    0.0094      1.0801   \n",
      "6               0.4582   0.1131      0.4905  1.0706    0.0075      1.0635   \n",
      "7               0.4582   0.1511      0.4820  1.0520    0.0075      1.0460   \n",
      "8               0.3766   0.1203      0.4252  1.1290    0.0138      1.0846   \n",
      "9               0.3766   0.1467      0.4197  1.1143    0.0151      1.0742   \n",
      "10              0.3766   0.1914      0.4177  1.1091    0.0188      1.0706   \n",
      "11              0.3766   0.1242      0.3961  1.0517    0.0061      1.0322   \n",
      "12              0.3497   0.1113      0.3935  1.1253    0.0124      1.0722   \n",
      "13              0.3497   0.1786      0.3897  1.1145    0.0183      1.0656   \n",
      "14              0.3497   0.1467      0.3896  1.1143    0.0151      1.0655   \n",
      "15              0.3497   0.1198      0.3822  1.0929    0.0102      1.0526   \n",
      "16              0.3135   0.1198      0.3426  1.0929    0.0102      1.0443   \n",
      "17              0.3135   0.1511      0.3298  1.0520    0.0075      1.0243   \n",
      "18              0.3135   0.1242      0.3297  1.0517    0.0061      1.0242   \n",
      "19              0.2830   0.1506      0.3287  1.1615    0.0209      1.0681   \n",
      "20              0.2830   0.1203      0.3195  1.1290    0.0138      1.0537   \n",
      "21              0.2830   0.1113      0.3184  1.1253    0.0124      1.0520   \n",
      "\n",
      "    zhangs_metric antecedents categories consequents categories same category  \n",
      "0          0.1939                  dairy                  dairy           Yes  \n",
      "1          0.1636               beverage                  dairy            No  \n",
      "2          0.1482                   meat                  dairy            No  \n",
      "3          0.1580                  carbs                  dairy            No  \n",
      "4          0.1578          fruit and veg                  dairy            No  \n",
      "5          0.1052          fruit and veg                  dairy            No  \n",
      "6          0.0857          fruit and veg                  dairy            No  \n",
      "7          0.0720               beverage                  dairy            No  \n",
      "8          0.1594                  dairy          fruit and veg            No  \n",
      "9          0.1578                  carbs          fruit and veg            No  \n",
      "10         0.1816                  dairy          fruit and veg            No  \n",
      "11         0.0716               beverage          fruit and veg            No  \n",
      "12         0.1553                  dairy                  carbs            No  \n",
      "13         0.1896                  dairy                  carbs            No  \n",
      "14         0.1646          fruit and veg                  carbs            No  \n",
      "15         0.1239               beverage                  carbs            No  \n",
      "16         0.1307                  carbs               beverage            No  \n",
      "17         0.0912                  dairy               beverage            No  \n",
      "18         0.0788          fruit and veg               beverage            No  \n",
      "19         0.2566                  dairy                  dairy           Yes  \n",
      "20         0.1833          fruit and veg                  dairy            No  \n",
      "21         0.1712                  carbs                  dairy            No  \n"
     ]
    }
   ],
   "source": [
    "import numpy as np\n",
    "\n",
    "arules[\"antecedents categories\"] = arules[\"antecedents\"].map(food_categories)\n",
    "arules[\"consequents categories\"] = arules[\"consequents\"].map(food_categories)\n",
    "\n",
    "# Check if 'antecedents categories' and 'consequents categories' are the same and create a new column 'same category'\n",
    "arules['same category'] = np.where(arules['antecedents categories'] == arules['consequents categories'], 'Yes', 'No')\n",
    "# Print the DataFrame to see the result\n",
    "print(arules)\n",
    "arules.to_csv(\"arules_as_categories.csv\")\n"
   ]
  },
  {
   "attachments": {},
   "cell_type": "markdown",
   "id": "4eb93457",
   "metadata": {},
   "source": [
    "## splitting the categorisation into two datasets"
   ]
  },
  {
   "cell_type": "code",
   "execution_count": 56,
   "id": "16565736",
   "metadata": {},
   "outputs": [
    {
     "name": "stdout",
     "output_type": "stream",
     "text": [
      "    Unnamed: 0                antecedents                consequents  \\\n",
      "0            0      frozenset({'yogurt'})  frozenset({'whole milk'})   \n",
      "19          19  frozenset({'whole milk'})      frozenset({'yogurt'})   \n",
      "\n",
      "    antecedent support  consequent support  support  confidence    lift  \\\n",
      "0               0.2830              0.4582   0.1506      0.5322  1.1615   \n",
      "19              0.4582              0.2830   0.1506      0.3287  1.1615   \n",
      "\n",
      "    leverage  conviction  zhangs_metric antecedents categories  \\\n",
      "0     0.0209      1.1582         0.1939                  dairy   \n",
      "19    0.0209      1.0681         0.2566                  dairy   \n",
      "\n",
      "   consequents categories  \n",
      "0                   dairy  \n",
      "19                  dairy  \n",
      "\n",
      "\n",
      "    Unnamed: 0                      antecedents  \\\n",
      "1            1     frozenset({'bottled water'})   \n",
      "2            2           frozenset({'sausage'})   \n",
      "3            3        frozenset({'rolls/buns'})   \n",
      "4            4  frozenset({'other vegetables'})   \n",
      "5            5    frozenset({'tropical fruit'})   \n",
      "6            6   frozenset({'root vegetables'})   \n",
      "7            7              frozenset({'soda'})   \n",
      "8            8            frozenset({'yogurt'})   \n",
      "9            9        frozenset({'rolls/buns'})   \n",
      "10          10        frozenset({'whole milk'})   \n",
      "11          11              frozenset({'soda'})   \n",
      "12          12            frozenset({'yogurt'})   \n",
      "13          13        frozenset({'whole milk'})   \n",
      "14          14  frozenset({'other vegetables'})   \n",
      "15          15              frozenset({'soda'})   \n",
      "16          16        frozenset({'rolls/buns'})   \n",
      "17          17        frozenset({'whole milk'})   \n",
      "18          18  frozenset({'other vegetables'})   \n",
      "20          20  frozenset({'other vegetables'})   \n",
      "21          21        frozenset({'rolls/buns'})   \n",
      "\n",
      "                        consequents  antecedent support  consequent support  \\\n",
      "1         frozenset({'whole milk'})              0.2137              0.4582   \n",
      "2         frozenset({'whole milk'})              0.2060              0.4582   \n",
      "3         frozenset({'whole milk'})              0.3497              0.4582   \n",
      "4         frozenset({'whole milk'})              0.3766              0.4582   \n",
      "5         frozenset({'whole milk'})              0.2337              0.4582   \n",
      "6         frozenset({'whole milk'})              0.2306              0.4582   \n",
      "7         frozenset({'whole milk'})              0.3135              0.4582   \n",
      "8   frozenset({'other vegetables'})              0.2830              0.3766   \n",
      "9   frozenset({'other vegetables'})              0.3497              0.3766   \n",
      "10  frozenset({'other vegetables'})              0.4582              0.3766   \n",
      "11  frozenset({'other vegetables'})              0.3135              0.3766   \n",
      "12        frozenset({'rolls/buns'})              0.2830              0.3497   \n",
      "13        frozenset({'rolls/buns'})              0.4582              0.3497   \n",
      "14        frozenset({'rolls/buns'})              0.3766              0.3497   \n",
      "15        frozenset({'rolls/buns'})              0.3135              0.3497   \n",
      "16              frozenset({'soda'})              0.3497              0.3135   \n",
      "17              frozenset({'soda'})              0.4582              0.3135   \n",
      "18              frozenset({'soda'})              0.3766              0.3135   \n",
      "20            frozenset({'yogurt'})              0.3766              0.2830   \n",
      "21            frozenset({'yogurt'})              0.3497              0.2830   \n",
      "\n",
      "    support  confidence    lift  leverage  conviction  zhangs_metric  \\\n",
      "1    0.1124      0.5258  1.1476    0.0145      1.1426         0.1636   \n",
      "2    0.1070      0.5193  1.1334    0.0126      1.1271         0.1482   \n",
      "3    0.1786      0.5106  1.1145    0.0183      1.1072         0.1580   \n",
      "4    0.1914      0.5082  1.1091    0.0188      1.1016         0.1578   \n",
      "5    0.1165      0.4984  1.0877    0.0094      1.0801         0.1052   \n",
      "6    0.1131      0.4905  1.0706    0.0075      1.0635         0.0857   \n",
      "7    0.1511      0.4820  1.0520    0.0075      1.0460         0.0720   \n",
      "8    0.1203      0.4252  1.1290    0.0138      1.0846         0.1594   \n",
      "9    0.1467      0.4197  1.1143    0.0151      1.0742         0.1578   \n",
      "10   0.1914      0.4177  1.1091    0.0188      1.0706         0.1816   \n",
      "11   0.1242      0.3961  1.0517    0.0061      1.0322         0.0716   \n",
      "12   0.1113      0.3935  1.1253    0.0124      1.0722         0.1553   \n",
      "13   0.1786      0.3897  1.1145    0.0183      1.0656         0.1896   \n",
      "14   0.1467      0.3896  1.1143    0.0151      1.0655         0.1646   \n",
      "15   0.1198      0.3822  1.0929    0.0102      1.0526         0.1239   \n",
      "16   0.1198      0.3426  1.0929    0.0102      1.0443         0.1307   \n",
      "17   0.1511      0.3298  1.0520    0.0075      1.0243         0.0912   \n",
      "18   0.1242      0.3297  1.0517    0.0061      1.0242         0.0788   \n",
      "20   0.1203      0.3195  1.1290    0.0138      1.0537         0.1833   \n",
      "21   0.1113      0.3184  1.1253    0.0124      1.0520         0.1712   \n",
      "\n",
      "   antecedents categories consequents categories  \n",
      "1                beverage                  dairy  \n",
      "2                    meat                  dairy  \n",
      "3                   carbs                  dairy  \n",
      "4           fruit and veg                  dairy  \n",
      "5           fruit and veg                  dairy  \n",
      "6           fruit and veg                  dairy  \n",
      "7                beverage                  dairy  \n",
      "8                   dairy          fruit and veg  \n",
      "9                   carbs          fruit and veg  \n",
      "10                  dairy          fruit and veg  \n",
      "11               beverage          fruit and veg  \n",
      "12                  dairy                  carbs  \n",
      "13                  dairy                  carbs  \n",
      "14          fruit and veg                  carbs  \n",
      "15               beverage                  carbs  \n",
      "16                  carbs               beverage  \n",
      "17                  dairy               beverage  \n",
      "18          fruit and veg               beverage  \n",
      "20          fruit and veg                  dairy  \n",
      "21                  carbs                  dairy  \n"
     ]
    }
   ],
   "source": [
    "import pandas as pd\n",
    "\n",
    "# Load the original dataset from a CSV file\n",
    "original_dataset = pd.read_csv(\"arules_as_categories.csv\")\n",
    "\n",
    "# Define the condition for splitting (e.g., 'YourColumnName' column contains 'Yes')\n",
    "condition = 'Yes'\n",
    "\n",
    "# Split the dataset based on the condition\n",
    "arules_same_category_condition = original_dataset[original_dataset['same category'] == condition]\n",
    "arules_different_category_condition = original_dataset[original_dataset['same category'] != condition]\n",
    "\n",
    "# Delete the 'same category' feature from both filtered datasets\n",
    "arules_same_category_condition.drop(columns=['same category'], inplace=True)\n",
    "arules_different_category_condition.drop(columns=['same category'], inplace=True)\n",
    "\n",
    "# Save the two datasets into separate CSV files\n",
    "arules_same_category_condition.to_csv(\"arules_same_category.csv\", index=False)\n",
    "arules_different_category_condition.to_csv(\"arules_different_category.csv\", index=False)\n",
    "\n",
    "print(arules_same_category_condition)\n",
    "print(\"\\n\")\n",
    "print(arules_different_category_condition)\n",
    "\n"
   ]
  },
  {
   "cell_type": "code",
   "execution_count": 57,
   "id": "45a96360",
   "metadata": {},
   "outputs": [
    {
     "name": "stdout",
     "output_type": "stream",
     "text": [
      "    Unnamed: 0                antecedents                consequents    lift  \\\n",
      "0            0      frozenset({'yogurt'})  frozenset({'whole milk'})  1.1615   \n",
      "19          19  frozenset({'whole milk'})      frozenset({'yogurt'})  1.1615   \n",
      "\n",
      "   antecedents categories consequents categories  \n",
      "0                   dairy                  dairy  \n",
      "19                  dairy                  dairy  \n"
     ]
    }
   ],
   "source": [
    "# Sort rules by lift in descending order for same category\n",
    "arules_same_category_lift = arules_same_category_condition.sort_values(by='lift', ascending=False)\n",
    "\n",
    "arules_same_category_lift = arules_same_category_condition.drop(columns=['antecedent support', 'consequent support', 'support', 'confidence', 'leverage', 'conviction', 'zhangs_metric' ])\n",
    "\n",
    "# Save the sorted rules to a CSV file\n",
    "arules_same_category_lift.to_csv('arules_same_category_lift.csv', index=False)\n",
    "print(arules_same_category_lift)"
   ]
  },
  {
   "cell_type": "code",
   "execution_count": 58,
   "id": "b4e0a49e",
   "metadata": {},
   "outputs": [
    {
     "name": "stdout",
     "output_type": "stream",
     "text": [
      "    Unnamed: 0                antecedents                consequents  support  \\\n",
      "0            0      frozenset({'yogurt'})  frozenset({'whole milk'})   0.1506   \n",
      "19          19  frozenset({'whole milk'})      frozenset({'yogurt'})   0.1506   \n",
      "\n",
      "   antecedents categories consequents categories  \n",
      "0                   dairy                  dairy  \n",
      "19                  dairy                  dairy  \n"
     ]
    }
   ],
   "source": [
    "# Sort rules by support in descending order for same category\n",
    "arules_same_category_support = arules_same_category_condition.sort_values(by='support', ascending=False)\n",
    "\n",
    "arules_same_category_support = arules_same_category_condition.drop(columns=['antecedent support', 'consequent support', 'lift', 'confidence', 'leverage', 'conviction', 'zhangs_metric' ])\n",
    "\n",
    "# Save the sorted rules to a CSV file\n",
    "arules_same_category_support.to_csv('arules_same_category_support.csv', index=False)\n",
    "print(arules_same_category_support)"
   ]
  },
  {
   "cell_type": "code",
   "execution_count": 59,
   "id": "258bb154",
   "metadata": {},
   "outputs": [
    {
     "name": "stdout",
     "output_type": "stream",
     "text": [
      "    Unnamed: 0                antecedents                consequents  \\\n",
      "0            0      frozenset({'yogurt'})  frozenset({'whole milk'})   \n",
      "19          19  frozenset({'whole milk'})      frozenset({'yogurt'})   \n",
      "\n",
      "    confidence antecedents categories consequents categories  \n",
      "0       0.5322                  dairy                  dairy  \n",
      "19      0.3287                  dairy                  dairy  \n"
     ]
    }
   ],
   "source": [
    "# Sort rules by confidence in descending order for same category\n",
    "arules_same_category_confidence = arules_same_category_condition.sort_values(by='support', ascending=False)\n",
    "\n",
    "arules_same_category_confidence = arules_same_category_condition.drop(columns=['antecedent support', 'consequent support', 'lift', 'support', 'leverage', 'conviction', 'zhangs_metric' ])\n",
    "\n",
    "# Save the sorted rules to a CSV file\n",
    "arules_same_category_confidence.to_csv('arules_same_category_confidence.csv', index=False)\n",
    "print(arules_same_category_confidence)"
   ]
  },
  {
   "cell_type": "code",
   "execution_count": 60,
   "id": "1b7fcaa8",
   "metadata": {},
   "outputs": [
    {
     "name": "stdout",
     "output_type": "stream",
     "text": [
      "    Unnamed: 0                      antecedents  \\\n",
      "1            1     frozenset({'bottled water'})   \n",
      "2            2           frozenset({'sausage'})   \n",
      "3            3        frozenset({'rolls/buns'})   \n",
      "4            4  frozenset({'other vegetables'})   \n",
      "5            5    frozenset({'tropical fruit'})   \n",
      "6            6   frozenset({'root vegetables'})   \n",
      "7            7              frozenset({'soda'})   \n",
      "8            8            frozenset({'yogurt'})   \n",
      "9            9        frozenset({'rolls/buns'})   \n",
      "10          10        frozenset({'whole milk'})   \n",
      "11          11              frozenset({'soda'})   \n",
      "12          12            frozenset({'yogurt'})   \n",
      "13          13        frozenset({'whole milk'})   \n",
      "14          14  frozenset({'other vegetables'})   \n",
      "15          15              frozenset({'soda'})   \n",
      "16          16        frozenset({'rolls/buns'})   \n",
      "17          17        frozenset({'whole milk'})   \n",
      "18          18  frozenset({'other vegetables'})   \n",
      "20          20  frozenset({'other vegetables'})   \n",
      "21          21        frozenset({'rolls/buns'})   \n",
      "\n",
      "                        consequents    lift antecedents categories  \\\n",
      "1         frozenset({'whole milk'})  1.1476               beverage   \n",
      "2         frozenset({'whole milk'})  1.1334                   meat   \n",
      "3         frozenset({'whole milk'})  1.1145                  carbs   \n",
      "4         frozenset({'whole milk'})  1.1091          fruit and veg   \n",
      "5         frozenset({'whole milk'})  1.0877          fruit and veg   \n",
      "6         frozenset({'whole milk'})  1.0706          fruit and veg   \n",
      "7         frozenset({'whole milk'})  1.0520               beverage   \n",
      "8   frozenset({'other vegetables'})  1.1290                  dairy   \n",
      "9   frozenset({'other vegetables'})  1.1143                  carbs   \n",
      "10  frozenset({'other vegetables'})  1.1091                  dairy   \n",
      "11  frozenset({'other vegetables'})  1.0517               beverage   \n",
      "12        frozenset({'rolls/buns'})  1.1253                  dairy   \n",
      "13        frozenset({'rolls/buns'})  1.1145                  dairy   \n",
      "14        frozenset({'rolls/buns'})  1.1143          fruit and veg   \n",
      "15        frozenset({'rolls/buns'})  1.0929               beverage   \n",
      "16              frozenset({'soda'})  1.0929                  carbs   \n",
      "17              frozenset({'soda'})  1.0520                  dairy   \n",
      "18              frozenset({'soda'})  1.0517          fruit and veg   \n",
      "20            frozenset({'yogurt'})  1.1290          fruit and veg   \n",
      "21            frozenset({'yogurt'})  1.1253                  carbs   \n",
      "\n",
      "   consequents categories  \n",
      "1                   dairy  \n",
      "2                   dairy  \n",
      "3                   dairy  \n",
      "4                   dairy  \n",
      "5                   dairy  \n",
      "6                   dairy  \n",
      "7                   dairy  \n",
      "8           fruit and veg  \n",
      "9           fruit and veg  \n",
      "10          fruit and veg  \n",
      "11          fruit and veg  \n",
      "12                  carbs  \n",
      "13                  carbs  \n",
      "14                  carbs  \n",
      "15                  carbs  \n",
      "16               beverage  \n",
      "17               beverage  \n",
      "18               beverage  \n",
      "20                  dairy  \n",
      "21                  dairy  \n"
     ]
    }
   ],
   "source": [
    "# Sort rules by lift in descending order for different category\n",
    "arules_different_category_lift = arules_different_category_condition.sort_values(by='lift', ascending=False)\n",
    "\n",
    "arules_different_category_lift = arules_different_category_condition.drop(columns=['antecedent support', 'consequent support', 'support', 'confidence', 'leverage', 'conviction', 'zhangs_metric' ])\n",
    "\n",
    "# Save the sorted rules to a CSV file\n",
    "arules_different_category_lift.to_csv('arules_different_category_lift.csv', index=False)\n",
    "print(arules_different_category_lift)"
   ]
  },
  {
   "cell_type": "code",
   "execution_count": 61,
   "id": "061b72d1",
   "metadata": {},
   "outputs": [
    {
     "name": "stdout",
     "output_type": "stream",
     "text": [
      "    Unnamed: 0                      antecedents  \\\n",
      "1            1     frozenset({'bottled water'})   \n",
      "2            2           frozenset({'sausage'})   \n",
      "3            3        frozenset({'rolls/buns'})   \n",
      "4            4  frozenset({'other vegetables'})   \n",
      "5            5    frozenset({'tropical fruit'})   \n",
      "6            6   frozenset({'root vegetables'})   \n",
      "7            7              frozenset({'soda'})   \n",
      "8            8            frozenset({'yogurt'})   \n",
      "9            9        frozenset({'rolls/buns'})   \n",
      "10          10        frozenset({'whole milk'})   \n",
      "11          11              frozenset({'soda'})   \n",
      "12          12            frozenset({'yogurt'})   \n",
      "13          13        frozenset({'whole milk'})   \n",
      "14          14  frozenset({'other vegetables'})   \n",
      "15          15              frozenset({'soda'})   \n",
      "16          16        frozenset({'rolls/buns'})   \n",
      "17          17        frozenset({'whole milk'})   \n",
      "18          18  frozenset({'other vegetables'})   \n",
      "20          20  frozenset({'other vegetables'})   \n",
      "21          21        frozenset({'rolls/buns'})   \n",
      "\n",
      "                        consequents  support antecedents categories  \\\n",
      "1         frozenset({'whole milk'})   0.1124               beverage   \n",
      "2         frozenset({'whole milk'})   0.1070                   meat   \n",
      "3         frozenset({'whole milk'})   0.1786                  carbs   \n",
      "4         frozenset({'whole milk'})   0.1914          fruit and veg   \n",
      "5         frozenset({'whole milk'})   0.1165          fruit and veg   \n",
      "6         frozenset({'whole milk'})   0.1131          fruit and veg   \n",
      "7         frozenset({'whole milk'})   0.1511               beverage   \n",
      "8   frozenset({'other vegetables'})   0.1203                  dairy   \n",
      "9   frozenset({'other vegetables'})   0.1467                  carbs   \n",
      "10  frozenset({'other vegetables'})   0.1914                  dairy   \n",
      "11  frozenset({'other vegetables'})   0.1242               beverage   \n",
      "12        frozenset({'rolls/buns'})   0.1113                  dairy   \n",
      "13        frozenset({'rolls/buns'})   0.1786                  dairy   \n",
      "14        frozenset({'rolls/buns'})   0.1467          fruit and veg   \n",
      "15        frozenset({'rolls/buns'})   0.1198               beverage   \n",
      "16              frozenset({'soda'})   0.1198                  carbs   \n",
      "17              frozenset({'soda'})   0.1511                  dairy   \n",
      "18              frozenset({'soda'})   0.1242          fruit and veg   \n",
      "20            frozenset({'yogurt'})   0.1203          fruit and veg   \n",
      "21            frozenset({'yogurt'})   0.1113                  carbs   \n",
      "\n",
      "   consequents categories  \n",
      "1                   dairy  \n",
      "2                   dairy  \n",
      "3                   dairy  \n",
      "4                   dairy  \n",
      "5                   dairy  \n",
      "6                   dairy  \n",
      "7                   dairy  \n",
      "8           fruit and veg  \n",
      "9           fruit and veg  \n",
      "10          fruit and veg  \n",
      "11          fruit and veg  \n",
      "12                  carbs  \n",
      "13                  carbs  \n",
      "14                  carbs  \n",
      "15                  carbs  \n",
      "16               beverage  \n",
      "17               beverage  \n",
      "18               beverage  \n",
      "20                  dairy  \n",
      "21                  dairy  \n"
     ]
    }
   ],
   "source": [
    "# Sort rules by lift in descending order for different category\n",
    "arules_different_category_support = arules_different_category_condition.sort_values(by='support', ascending=False)\n",
    "\n",
    "arules_different_category_support = arules_different_category_condition.drop(columns=['antecedent support', 'consequent support', 'lift', 'confidence', 'leverage', 'conviction', 'zhangs_metric' ])\n",
    "\n",
    "# Save the sorted rules to a CSV file\n",
    "arules_different_category_support.to_csv('arules_different_category_support.csv', index=False)\n",
    "print(arules_different_category_support)"
   ]
  },
  {
   "cell_type": "code",
   "execution_count": 62,
   "id": "08a05fce",
   "metadata": {},
   "outputs": [
    {
     "name": "stdout",
     "output_type": "stream",
     "text": [
      "    Unnamed: 0                      antecedents  \\\n",
      "1            1     frozenset({'bottled water'})   \n",
      "2            2           frozenset({'sausage'})   \n",
      "3            3        frozenset({'rolls/buns'})   \n",
      "4            4  frozenset({'other vegetables'})   \n",
      "5            5    frozenset({'tropical fruit'})   \n",
      "6            6   frozenset({'root vegetables'})   \n",
      "7            7              frozenset({'soda'})   \n",
      "8            8            frozenset({'yogurt'})   \n",
      "9            9        frozenset({'rolls/buns'})   \n",
      "10          10        frozenset({'whole milk'})   \n",
      "11          11              frozenset({'soda'})   \n",
      "12          12            frozenset({'yogurt'})   \n",
      "13          13        frozenset({'whole milk'})   \n",
      "14          14  frozenset({'other vegetables'})   \n",
      "15          15              frozenset({'soda'})   \n",
      "16          16        frozenset({'rolls/buns'})   \n",
      "17          17        frozenset({'whole milk'})   \n",
      "18          18  frozenset({'other vegetables'})   \n",
      "20          20  frozenset({'other vegetables'})   \n",
      "21          21        frozenset({'rolls/buns'})   \n",
      "\n",
      "                        consequents  confidence antecedents categories  \\\n",
      "1         frozenset({'whole milk'})      0.5258               beverage   \n",
      "2         frozenset({'whole milk'})      0.5193                   meat   \n",
      "3         frozenset({'whole milk'})      0.5106                  carbs   \n",
      "4         frozenset({'whole milk'})      0.5082          fruit and veg   \n",
      "5         frozenset({'whole milk'})      0.4984          fruit and veg   \n",
      "6         frozenset({'whole milk'})      0.4905          fruit and veg   \n",
      "7         frozenset({'whole milk'})      0.4820               beverage   \n",
      "8   frozenset({'other vegetables'})      0.4252                  dairy   \n",
      "9   frozenset({'other vegetables'})      0.4197                  carbs   \n",
      "10  frozenset({'other vegetables'})      0.4177                  dairy   \n",
      "11  frozenset({'other vegetables'})      0.3961               beverage   \n",
      "12        frozenset({'rolls/buns'})      0.3935                  dairy   \n",
      "13        frozenset({'rolls/buns'})      0.3897                  dairy   \n",
      "14        frozenset({'rolls/buns'})      0.3896          fruit and veg   \n",
      "15        frozenset({'rolls/buns'})      0.3822               beverage   \n",
      "16              frozenset({'soda'})      0.3426                  carbs   \n",
      "17              frozenset({'soda'})      0.3298                  dairy   \n",
      "18              frozenset({'soda'})      0.3297          fruit and veg   \n",
      "20            frozenset({'yogurt'})      0.3195          fruit and veg   \n",
      "21            frozenset({'yogurt'})      0.3184                  carbs   \n",
      "\n",
      "   consequents categories  \n",
      "1                   dairy  \n",
      "2                   dairy  \n",
      "3                   dairy  \n",
      "4                   dairy  \n",
      "5                   dairy  \n",
      "6                   dairy  \n",
      "7                   dairy  \n",
      "8           fruit and veg  \n",
      "9           fruit and veg  \n",
      "10          fruit and veg  \n",
      "11          fruit and veg  \n",
      "12                  carbs  \n",
      "13                  carbs  \n",
      "14                  carbs  \n",
      "15                  carbs  \n",
      "16               beverage  \n",
      "17               beverage  \n",
      "18               beverage  \n",
      "20                  dairy  \n",
      "21                  dairy  \n"
     ]
    }
   ],
   "source": [
    "# Sort rules by lift in descending order for different category\n",
    "arules_different_category_confidence = arules_different_category_condition.sort_values(by='support', ascending=False)\n",
    "\n",
    "arules_different_category_confidence = arules_different_category_condition.drop(columns=['antecedent support', 'consequent support', 'lift', 'support', 'leverage', 'conviction', 'zhangs_metric' ])\n",
    "\n",
    "# Save the sorted rules to a CSV file\n",
    "arules_different_category_confidence.to_csv('arules_different_category_confidence.csv', index=False)\n",
    "print(arules_different_category_confidence)"
   ]
  },
  {
   "cell_type": "markdown",
   "id": "86936a87",
   "metadata": {},
   "source": [
    "## Plot Rules"
   ]
  },
  {
   "attachments": {},
   "cell_type": "markdown",
   "id": "262b3a05",
   "metadata": {},
   "source": [
    "# same category"
   ]
  },
  {
   "cell_type": "code",
   "execution_count": 63,
   "id": "ae9d2c84",
   "metadata": {},
   "outputs": [
    {
     "data": {
      "text/html": [
       "        <script type=\"text/javascript\">\n",
       "        window.PlotlyConfig = {MathJaxConfig: 'local'};\n",
       "        if (window.MathJax && window.MathJax.Hub && window.MathJax.Hub.Config) {window.MathJax.Hub.Config({SVG: {font: \"STIX-Web\"}});}\n",
       "        if (typeof require !== 'undefined') {\n",
       "        require.undef(\"plotly\");\n",
       "        requirejs.config({\n",
       "            paths: {\n",
       "                'plotly': ['https://cdn.plot.ly/plotly-2.25.2.min']\n",
       "            }\n",
       "        });\n",
       "        require(['plotly'], function(Plotly) {\n",
       "            window._Plotly = Plotly;\n",
       "        });\n",
       "        }\n",
       "        </script>\n",
       "        "
      ]
     },
     "metadata": {},
     "output_type": "display_data"
    },
    {
     "data": {
      "application/vnd.plotly.v1+json": {
       "config": {
        "plotlyServerURL": "https://plot.ly"
       },
       "data": [
        {
         "customdata": [
          [
           "yogurt",
           "whole milk"
          ],
          [
           "whole milk",
           "yogurt"
          ]
         ],
         "hovertemplate": "support=%{x}<br>confidence=%{y}<br>antecedents_short=%{text}<br>antecedents=%{customdata[0]}<br>consequents=%{customdata[1]}<br>lift=%{marker.color}<extra></extra>",
         "legendgroup": "",
         "marker": {
          "color": [
           1.1615,
           1.1615
          ],
          "coloraxis": "coloraxis",
          "opacity": 0.5,
          "symbol": "circle"
         },
         "mode": "markers+text",
         "name": "",
         "orientation": "v",
         "showlegend": false,
         "text": [
          "yogurt",
          "whole milk"
         ],
         "textposition": "top center",
         "type": "scatter",
         "x": [
          0.1506,
          0.1506
         ],
         "xaxis": "x",
         "y": [
          0.5322,
          0.3287
         ],
         "yaxis": "y"
        }
       ],
       "layout": {
        "coloraxis": {
         "colorbar": {
          "title": {
           "text": "lift"
          }
         },
         "colorscale": [
          [
           0,
           "#0d0887"
          ],
          [
           0.1111111111111111,
           "#46039f"
          ],
          [
           0.2222222222222222,
           "#7201a8"
          ],
          [
           0.3333333333333333,
           "#9c179e"
          ],
          [
           0.4444444444444444,
           "#bd3786"
          ],
          [
           0.5555555555555556,
           "#d8576b"
          ],
          [
           0.6666666666666666,
           "#ed7953"
          ],
          [
           0.7777777777777778,
           "#fb9f3a"
          ],
          [
           0.8888888888888888,
           "#fdca26"
          ],
          [
           1,
           "#f0f921"
          ]
         ]
        },
        "height": 800,
        "legend": {
         "tracegroupgap": 0
        },
        "margin": {
         "t": 60
        },
        "plot_bgcolor": "rgb(240,240,240)",
        "template": {
         "data": {
          "bar": [
           {
            "error_x": {
             "color": "#2a3f5f"
            },
            "error_y": {
             "color": "#2a3f5f"
            },
            "marker": {
             "line": {
              "color": "#E5ECF6",
              "width": 0.5
             },
             "pattern": {
              "fillmode": "overlay",
              "size": 10,
              "solidity": 0.2
             }
            },
            "type": "bar"
           }
          ],
          "barpolar": [
           {
            "marker": {
             "line": {
              "color": "#E5ECF6",
              "width": 0.5
             },
             "pattern": {
              "fillmode": "overlay",
              "size": 10,
              "solidity": 0.2
             }
            },
            "type": "barpolar"
           }
          ],
          "carpet": [
           {
            "aaxis": {
             "endlinecolor": "#2a3f5f",
             "gridcolor": "white",
             "linecolor": "white",
             "minorgridcolor": "white",
             "startlinecolor": "#2a3f5f"
            },
            "baxis": {
             "endlinecolor": "#2a3f5f",
             "gridcolor": "white",
             "linecolor": "white",
             "minorgridcolor": "white",
             "startlinecolor": "#2a3f5f"
            },
            "type": "carpet"
           }
          ],
          "choropleth": [
           {
            "colorbar": {
             "outlinewidth": 0,
             "ticks": ""
            },
            "type": "choropleth"
           }
          ],
          "contour": [
           {
            "colorbar": {
             "outlinewidth": 0,
             "ticks": ""
            },
            "colorscale": [
             [
              0,
              "#0d0887"
             ],
             [
              0.1111111111111111,
              "#46039f"
             ],
             [
              0.2222222222222222,
              "#7201a8"
             ],
             [
              0.3333333333333333,
              "#9c179e"
             ],
             [
              0.4444444444444444,
              "#bd3786"
             ],
             [
              0.5555555555555556,
              "#d8576b"
             ],
             [
              0.6666666666666666,
              "#ed7953"
             ],
             [
              0.7777777777777778,
              "#fb9f3a"
             ],
             [
              0.8888888888888888,
              "#fdca26"
             ],
             [
              1,
              "#f0f921"
             ]
            ],
            "type": "contour"
           }
          ],
          "contourcarpet": [
           {
            "colorbar": {
             "outlinewidth": 0,
             "ticks": ""
            },
            "type": "contourcarpet"
           }
          ],
          "heatmap": [
           {
            "colorbar": {
             "outlinewidth": 0,
             "ticks": ""
            },
            "colorscale": [
             [
              0,
              "#0d0887"
             ],
             [
              0.1111111111111111,
              "#46039f"
             ],
             [
              0.2222222222222222,
              "#7201a8"
             ],
             [
              0.3333333333333333,
              "#9c179e"
             ],
             [
              0.4444444444444444,
              "#bd3786"
             ],
             [
              0.5555555555555556,
              "#d8576b"
             ],
             [
              0.6666666666666666,
              "#ed7953"
             ],
             [
              0.7777777777777778,
              "#fb9f3a"
             ],
             [
              0.8888888888888888,
              "#fdca26"
             ],
             [
              1,
              "#f0f921"
             ]
            ],
            "type": "heatmap"
           }
          ],
          "heatmapgl": [
           {
            "colorbar": {
             "outlinewidth": 0,
             "ticks": ""
            },
            "colorscale": [
             [
              0,
              "#0d0887"
             ],
             [
              0.1111111111111111,
              "#46039f"
             ],
             [
              0.2222222222222222,
              "#7201a8"
             ],
             [
              0.3333333333333333,
              "#9c179e"
             ],
             [
              0.4444444444444444,
              "#bd3786"
             ],
             [
              0.5555555555555556,
              "#d8576b"
             ],
             [
              0.6666666666666666,
              "#ed7953"
             ],
             [
              0.7777777777777778,
              "#fb9f3a"
             ],
             [
              0.8888888888888888,
              "#fdca26"
             ],
             [
              1,
              "#f0f921"
             ]
            ],
            "type": "heatmapgl"
           }
          ],
          "histogram": [
           {
            "marker": {
             "pattern": {
              "fillmode": "overlay",
              "size": 10,
              "solidity": 0.2
             }
            },
            "type": "histogram"
           }
          ],
          "histogram2d": [
           {
            "colorbar": {
             "outlinewidth": 0,
             "ticks": ""
            },
            "colorscale": [
             [
              0,
              "#0d0887"
             ],
             [
              0.1111111111111111,
              "#46039f"
             ],
             [
              0.2222222222222222,
              "#7201a8"
             ],
             [
              0.3333333333333333,
              "#9c179e"
             ],
             [
              0.4444444444444444,
              "#bd3786"
             ],
             [
              0.5555555555555556,
              "#d8576b"
             ],
             [
              0.6666666666666666,
              "#ed7953"
             ],
             [
              0.7777777777777778,
              "#fb9f3a"
             ],
             [
              0.8888888888888888,
              "#fdca26"
             ],
             [
              1,
              "#f0f921"
             ]
            ],
            "type": "histogram2d"
           }
          ],
          "histogram2dcontour": [
           {
            "colorbar": {
             "outlinewidth": 0,
             "ticks": ""
            },
            "colorscale": [
             [
              0,
              "#0d0887"
             ],
             [
              0.1111111111111111,
              "#46039f"
             ],
             [
              0.2222222222222222,
              "#7201a8"
             ],
             [
              0.3333333333333333,
              "#9c179e"
             ],
             [
              0.4444444444444444,
              "#bd3786"
             ],
             [
              0.5555555555555556,
              "#d8576b"
             ],
             [
              0.6666666666666666,
              "#ed7953"
             ],
             [
              0.7777777777777778,
              "#fb9f3a"
             ],
             [
              0.8888888888888888,
              "#fdca26"
             ],
             [
              1,
              "#f0f921"
             ]
            ],
            "type": "histogram2dcontour"
           }
          ],
          "mesh3d": [
           {
            "colorbar": {
             "outlinewidth": 0,
             "ticks": ""
            },
            "type": "mesh3d"
           }
          ],
          "parcoords": [
           {
            "line": {
             "colorbar": {
              "outlinewidth": 0,
              "ticks": ""
             }
            },
            "type": "parcoords"
           }
          ],
          "pie": [
           {
            "automargin": true,
            "type": "pie"
           }
          ],
          "scatter": [
           {
            "fillpattern": {
             "fillmode": "overlay",
             "size": 10,
             "solidity": 0.2
            },
            "type": "scatter"
           }
          ],
          "scatter3d": [
           {
            "line": {
             "colorbar": {
              "outlinewidth": 0,
              "ticks": ""
             }
            },
            "marker": {
             "colorbar": {
              "outlinewidth": 0,
              "ticks": ""
             }
            },
            "type": "scatter3d"
           }
          ],
          "scattercarpet": [
           {
            "marker": {
             "colorbar": {
              "outlinewidth": 0,
              "ticks": ""
             }
            },
            "type": "scattercarpet"
           }
          ],
          "scattergeo": [
           {
            "marker": {
             "colorbar": {
              "outlinewidth": 0,
              "ticks": ""
             }
            },
            "type": "scattergeo"
           }
          ],
          "scattergl": [
           {
            "marker": {
             "colorbar": {
              "outlinewidth": 0,
              "ticks": ""
             }
            },
            "type": "scattergl"
           }
          ],
          "scattermapbox": [
           {
            "marker": {
             "colorbar": {
              "outlinewidth": 0,
              "ticks": ""
             }
            },
            "type": "scattermapbox"
           }
          ],
          "scatterpolar": [
           {
            "marker": {
             "colorbar": {
              "outlinewidth": 0,
              "ticks": ""
             }
            },
            "type": "scatterpolar"
           }
          ],
          "scatterpolargl": [
           {
            "marker": {
             "colorbar": {
              "outlinewidth": 0,
              "ticks": ""
             }
            },
            "type": "scatterpolargl"
           }
          ],
          "scatterternary": [
           {
            "marker": {
             "colorbar": {
              "outlinewidth": 0,
              "ticks": ""
             }
            },
            "type": "scatterternary"
           }
          ],
          "surface": [
           {
            "colorbar": {
             "outlinewidth": 0,
             "ticks": ""
            },
            "colorscale": [
             [
              0,
              "#0d0887"
             ],
             [
              0.1111111111111111,
              "#46039f"
             ],
             [
              0.2222222222222222,
              "#7201a8"
             ],
             [
              0.3333333333333333,
              "#9c179e"
             ],
             [
              0.4444444444444444,
              "#bd3786"
             ],
             [
              0.5555555555555556,
              "#d8576b"
             ],
             [
              0.6666666666666666,
              "#ed7953"
             ],
             [
              0.7777777777777778,
              "#fb9f3a"
             ],
             [
              0.8888888888888888,
              "#fdca26"
             ],
             [
              1,
              "#f0f921"
             ]
            ],
            "type": "surface"
           }
          ],
          "table": [
           {
            "cells": {
             "fill": {
              "color": "#EBF0F8"
             },
             "line": {
              "color": "white"
             }
            },
            "header": {
             "fill": {
              "color": "#C8D4E3"
             },
             "line": {
              "color": "white"
             }
            },
            "type": "table"
           }
          ]
         },
         "layout": {
          "annotationdefaults": {
           "arrowcolor": "#2a3f5f",
           "arrowhead": 0,
           "arrowwidth": 1
          },
          "autotypenumbers": "strict",
          "coloraxis": {
           "colorbar": {
            "outlinewidth": 0,
            "ticks": ""
           }
          },
          "colorscale": {
           "diverging": [
            [
             0,
             "#8e0152"
            ],
            [
             0.1,
             "#c51b7d"
            ],
            [
             0.2,
             "#de77ae"
            ],
            [
             0.3,
             "#f1b6da"
            ],
            [
             0.4,
             "#fde0ef"
            ],
            [
             0.5,
             "#f7f7f7"
            ],
            [
             0.6,
             "#e6f5d0"
            ],
            [
             0.7,
             "#b8e186"
            ],
            [
             0.8,
             "#7fbc41"
            ],
            [
             0.9,
             "#4d9221"
            ],
            [
             1,
             "#276419"
            ]
           ],
           "sequential": [
            [
             0,
             "#0d0887"
            ],
            [
             0.1111111111111111,
             "#46039f"
            ],
            [
             0.2222222222222222,
             "#7201a8"
            ],
            [
             0.3333333333333333,
             "#9c179e"
            ],
            [
             0.4444444444444444,
             "#bd3786"
            ],
            [
             0.5555555555555556,
             "#d8576b"
            ],
            [
             0.6666666666666666,
             "#ed7953"
            ],
            [
             0.7777777777777778,
             "#fb9f3a"
            ],
            [
             0.8888888888888888,
             "#fdca26"
            ],
            [
             1,
             "#f0f921"
            ]
           ],
           "sequentialminus": [
            [
             0,
             "#0d0887"
            ],
            [
             0.1111111111111111,
             "#46039f"
            ],
            [
             0.2222222222222222,
             "#7201a8"
            ],
            [
             0.3333333333333333,
             "#9c179e"
            ],
            [
             0.4444444444444444,
             "#bd3786"
            ],
            [
             0.5555555555555556,
             "#d8576b"
            ],
            [
             0.6666666666666666,
             "#ed7953"
            ],
            [
             0.7777777777777778,
             "#fb9f3a"
            ],
            [
             0.8888888888888888,
             "#fdca26"
            ],
            [
             1,
             "#f0f921"
            ]
           ]
          },
          "colorway": [
           "#636efa",
           "#EF553B",
           "#00cc96",
           "#ab63fa",
           "#FFA15A",
           "#19d3f3",
           "#FF6692",
           "#B6E880",
           "#FF97FF",
           "#FECB52"
          ],
          "font": {
           "color": "#2a3f5f"
          },
          "geo": {
           "bgcolor": "white",
           "lakecolor": "white",
           "landcolor": "#E5ECF6",
           "showlakes": true,
           "showland": true,
           "subunitcolor": "white"
          },
          "hoverlabel": {
           "align": "left"
          },
          "hovermode": "closest",
          "mapbox": {
           "style": "light"
          },
          "paper_bgcolor": "white",
          "plot_bgcolor": "#E5ECF6",
          "polar": {
           "angularaxis": {
            "gridcolor": "white",
            "linecolor": "white",
            "ticks": ""
           },
           "bgcolor": "#E5ECF6",
           "radialaxis": {
            "gridcolor": "white",
            "linecolor": "white",
            "ticks": ""
           }
          },
          "scene": {
           "xaxis": {
            "backgroundcolor": "#E5ECF6",
            "gridcolor": "white",
            "gridwidth": 2,
            "linecolor": "white",
            "showbackground": true,
            "ticks": "",
            "zerolinecolor": "white"
           },
           "yaxis": {
            "backgroundcolor": "#E5ECF6",
            "gridcolor": "white",
            "gridwidth": 2,
            "linecolor": "white",
            "showbackground": true,
            "ticks": "",
            "zerolinecolor": "white"
           },
           "zaxis": {
            "backgroundcolor": "#E5ECF6",
            "gridcolor": "white",
            "gridwidth": 2,
            "linecolor": "white",
            "showbackground": true,
            "ticks": "",
            "zerolinecolor": "white"
           }
          },
          "shapedefaults": {
           "line": {
            "color": "#2a3f5f"
           }
          },
          "ternary": {
           "aaxis": {
            "gridcolor": "white",
            "linecolor": "white",
            "ticks": ""
           },
           "baxis": {
            "gridcolor": "white",
            "linecolor": "white",
            "ticks": ""
           },
           "bgcolor": "#E5ECF6",
           "caxis": {
            "gridcolor": "white",
            "linecolor": "white",
            "ticks": ""
           }
          },
          "title": {
           "x": 0.05
          },
          "xaxis": {
           "automargin": true,
           "gridcolor": "white",
           "linecolor": "white",
           "ticks": "",
           "title": {
            "standoff": 15
           },
           "zerolinecolor": "white",
           "zerolinewidth": 2
          },
          "yaxis": {
           "automargin": true,
           "gridcolor": "white",
           "linecolor": "white",
           "ticks": "",
           "title": {
            "standoff": 15
           },
           "zerolinecolor": "white",
           "zerolinewidth": 2
          }
         }
        },
        "title": {
         "text": "2D Plot of Support, Confidence and Lift"
        },
        "xaxis": {
         "anchor": "y",
         "domain": [
          0,
          1
         ],
         "title": {
          "text": "support"
         },
         "type": "log"
        },
        "yaxis": {
         "anchor": "x",
         "domain": [
          0,
          1
         ],
         "title": {
          "text": "confidence"
         }
        }
       }
      },
      "text/html": [
       "<div>                            <div id=\"2bfb8674-bfce-48e0-95f8-bf5ce3338c83\" class=\"plotly-graph-div\" style=\"height:800px; width:100%;\"></div>            <script type=\"text/javascript\">                require([\"plotly\"], function(Plotly) {                    window.PLOTLYENV=window.PLOTLYENV || {};                                    if (document.getElementById(\"2bfb8674-bfce-48e0-95f8-bf5ce3338c83\")) {                    Plotly.newPlot(                        \"2bfb8674-bfce-48e0-95f8-bf5ce3338c83\",                        [{\"customdata\":[[\"yogurt\",\"whole milk\"],[\"whole milk\",\"yogurt\"]],\"hovertemplate\":\"support=%{x}\\u003cbr\\u003econfidence=%{y}\\u003cbr\\u003eantecedents_short=%{text}\\u003cbr\\u003eantecedents=%{customdata[0]}\\u003cbr\\u003econsequents=%{customdata[1]}\\u003cbr\\u003elift=%{marker.color}\\u003cextra\\u003e\\u003c\\u002fextra\\u003e\",\"legendgroup\":\"\",\"marker\":{\"color\":[1.1615,1.1615],\"coloraxis\":\"coloraxis\",\"opacity\":0.5,\"symbol\":\"circle\"},\"mode\":\"markers+text\",\"name\":\"\",\"orientation\":\"v\",\"showlegend\":false,\"text\":[\"yogurt\",\"whole milk\"],\"x\":[0.1506,0.1506],\"xaxis\":\"x\",\"y\":[0.5322,0.3287],\"yaxis\":\"y\",\"type\":\"scatter\",\"textposition\":\"top center\"}],                        {\"template\":{\"data\":{\"histogram2dcontour\":[{\"type\":\"histogram2dcontour\",\"colorbar\":{\"outlinewidth\":0,\"ticks\":\"\"},\"colorscale\":[[0.0,\"#0d0887\"],[0.1111111111111111,\"#46039f\"],[0.2222222222222222,\"#7201a8\"],[0.3333333333333333,\"#9c179e\"],[0.4444444444444444,\"#bd3786\"],[0.5555555555555556,\"#d8576b\"],[0.6666666666666666,\"#ed7953\"],[0.7777777777777778,\"#fb9f3a\"],[0.8888888888888888,\"#fdca26\"],[1.0,\"#f0f921\"]]}],\"choropleth\":[{\"type\":\"choropleth\",\"colorbar\":{\"outlinewidth\":0,\"ticks\":\"\"}}],\"histogram2d\":[{\"type\":\"histogram2d\",\"colorbar\":{\"outlinewidth\":0,\"ticks\":\"\"},\"colorscale\":[[0.0,\"#0d0887\"],[0.1111111111111111,\"#46039f\"],[0.2222222222222222,\"#7201a8\"],[0.3333333333333333,\"#9c179e\"],[0.4444444444444444,\"#bd3786\"],[0.5555555555555556,\"#d8576b\"],[0.6666666666666666,\"#ed7953\"],[0.7777777777777778,\"#fb9f3a\"],[0.8888888888888888,\"#fdca26\"],[1.0,\"#f0f921\"]]}],\"heatmap\":[{\"type\":\"heatmap\",\"colorbar\":{\"outlinewidth\":0,\"ticks\":\"\"},\"colorscale\":[[0.0,\"#0d0887\"],[0.1111111111111111,\"#46039f\"],[0.2222222222222222,\"#7201a8\"],[0.3333333333333333,\"#9c179e\"],[0.4444444444444444,\"#bd3786\"],[0.5555555555555556,\"#d8576b\"],[0.6666666666666666,\"#ed7953\"],[0.7777777777777778,\"#fb9f3a\"],[0.8888888888888888,\"#fdca26\"],[1.0,\"#f0f921\"]]}],\"heatmapgl\":[{\"type\":\"heatmapgl\",\"colorbar\":{\"outlinewidth\":0,\"ticks\":\"\"},\"colorscale\":[[0.0,\"#0d0887\"],[0.1111111111111111,\"#46039f\"],[0.2222222222222222,\"#7201a8\"],[0.3333333333333333,\"#9c179e\"],[0.4444444444444444,\"#bd3786\"],[0.5555555555555556,\"#d8576b\"],[0.6666666666666666,\"#ed7953\"],[0.7777777777777778,\"#fb9f3a\"],[0.8888888888888888,\"#fdca26\"],[1.0,\"#f0f921\"]]}],\"contourcarpet\":[{\"type\":\"contourcarpet\",\"colorbar\":{\"outlinewidth\":0,\"ticks\":\"\"}}],\"contour\":[{\"type\":\"contour\",\"colorbar\":{\"outlinewidth\":0,\"ticks\":\"\"},\"colorscale\":[[0.0,\"#0d0887\"],[0.1111111111111111,\"#46039f\"],[0.2222222222222222,\"#7201a8\"],[0.3333333333333333,\"#9c179e\"],[0.4444444444444444,\"#bd3786\"],[0.5555555555555556,\"#d8576b\"],[0.6666666666666666,\"#ed7953\"],[0.7777777777777778,\"#fb9f3a\"],[0.8888888888888888,\"#fdca26\"],[1.0,\"#f0f921\"]]}],\"surface\":[{\"type\":\"surface\",\"colorbar\":{\"outlinewidth\":0,\"ticks\":\"\"},\"colorscale\":[[0.0,\"#0d0887\"],[0.1111111111111111,\"#46039f\"],[0.2222222222222222,\"#7201a8\"],[0.3333333333333333,\"#9c179e\"],[0.4444444444444444,\"#bd3786\"],[0.5555555555555556,\"#d8576b\"],[0.6666666666666666,\"#ed7953\"],[0.7777777777777778,\"#fb9f3a\"],[0.8888888888888888,\"#fdca26\"],[1.0,\"#f0f921\"]]}],\"mesh3d\":[{\"type\":\"mesh3d\",\"colorbar\":{\"outlinewidth\":0,\"ticks\":\"\"}}],\"scatter\":[{\"fillpattern\":{\"fillmode\":\"overlay\",\"size\":10,\"solidity\":0.2},\"type\":\"scatter\"}],\"parcoords\":[{\"type\":\"parcoords\",\"line\":{\"colorbar\":{\"outlinewidth\":0,\"ticks\":\"\"}}}],\"scatterpolargl\":[{\"type\":\"scatterpolargl\",\"marker\":{\"colorbar\":{\"outlinewidth\":0,\"ticks\":\"\"}}}],\"bar\":[{\"error_x\":{\"color\":\"#2a3f5f\"},\"error_y\":{\"color\":\"#2a3f5f\"},\"marker\":{\"line\":{\"color\":\"#E5ECF6\",\"width\":0.5},\"pattern\":{\"fillmode\":\"overlay\",\"size\":10,\"solidity\":0.2}},\"type\":\"bar\"}],\"scattergeo\":[{\"type\":\"scattergeo\",\"marker\":{\"colorbar\":{\"outlinewidth\":0,\"ticks\":\"\"}}}],\"scatterpolar\":[{\"type\":\"scatterpolar\",\"marker\":{\"colorbar\":{\"outlinewidth\":0,\"ticks\":\"\"}}}],\"histogram\":[{\"marker\":{\"pattern\":{\"fillmode\":\"overlay\",\"size\":10,\"solidity\":0.2}},\"type\":\"histogram\"}],\"scattergl\":[{\"type\":\"scattergl\",\"marker\":{\"colorbar\":{\"outlinewidth\":0,\"ticks\":\"\"}}}],\"scatter3d\":[{\"type\":\"scatter3d\",\"line\":{\"colorbar\":{\"outlinewidth\":0,\"ticks\":\"\"}},\"marker\":{\"colorbar\":{\"outlinewidth\":0,\"ticks\":\"\"}}}],\"scattermapbox\":[{\"type\":\"scattermapbox\",\"marker\":{\"colorbar\":{\"outlinewidth\":0,\"ticks\":\"\"}}}],\"scatterternary\":[{\"type\":\"scatterternary\",\"marker\":{\"colorbar\":{\"outlinewidth\":0,\"ticks\":\"\"}}}],\"scattercarpet\":[{\"type\":\"scattercarpet\",\"marker\":{\"colorbar\":{\"outlinewidth\":0,\"ticks\":\"\"}}}],\"carpet\":[{\"aaxis\":{\"endlinecolor\":\"#2a3f5f\",\"gridcolor\":\"white\",\"linecolor\":\"white\",\"minorgridcolor\":\"white\",\"startlinecolor\":\"#2a3f5f\"},\"baxis\":{\"endlinecolor\":\"#2a3f5f\",\"gridcolor\":\"white\",\"linecolor\":\"white\",\"minorgridcolor\":\"white\",\"startlinecolor\":\"#2a3f5f\"},\"type\":\"carpet\"}],\"table\":[{\"cells\":{\"fill\":{\"color\":\"#EBF0F8\"},\"line\":{\"color\":\"white\"}},\"header\":{\"fill\":{\"color\":\"#C8D4E3\"},\"line\":{\"color\":\"white\"}},\"type\":\"table\"}],\"barpolar\":[{\"marker\":{\"line\":{\"color\":\"#E5ECF6\",\"width\":0.5},\"pattern\":{\"fillmode\":\"overlay\",\"size\":10,\"solidity\":0.2}},\"type\":\"barpolar\"}],\"pie\":[{\"automargin\":true,\"type\":\"pie\"}]},\"layout\":{\"autotypenumbers\":\"strict\",\"colorway\":[\"#636efa\",\"#EF553B\",\"#00cc96\",\"#ab63fa\",\"#FFA15A\",\"#19d3f3\",\"#FF6692\",\"#B6E880\",\"#FF97FF\",\"#FECB52\"],\"font\":{\"color\":\"#2a3f5f\"},\"hovermode\":\"closest\",\"hoverlabel\":{\"align\":\"left\"},\"paper_bgcolor\":\"white\",\"plot_bgcolor\":\"#E5ECF6\",\"polar\":{\"bgcolor\":\"#E5ECF6\",\"angularaxis\":{\"gridcolor\":\"white\",\"linecolor\":\"white\",\"ticks\":\"\"},\"radialaxis\":{\"gridcolor\":\"white\",\"linecolor\":\"white\",\"ticks\":\"\"}},\"ternary\":{\"bgcolor\":\"#E5ECF6\",\"aaxis\":{\"gridcolor\":\"white\",\"linecolor\":\"white\",\"ticks\":\"\"},\"baxis\":{\"gridcolor\":\"white\",\"linecolor\":\"white\",\"ticks\":\"\"},\"caxis\":{\"gridcolor\":\"white\",\"linecolor\":\"white\",\"ticks\":\"\"}},\"coloraxis\":{\"colorbar\":{\"outlinewidth\":0,\"ticks\":\"\"}},\"colorscale\":{\"sequential\":[[0.0,\"#0d0887\"],[0.1111111111111111,\"#46039f\"],[0.2222222222222222,\"#7201a8\"],[0.3333333333333333,\"#9c179e\"],[0.4444444444444444,\"#bd3786\"],[0.5555555555555556,\"#d8576b\"],[0.6666666666666666,\"#ed7953\"],[0.7777777777777778,\"#fb9f3a\"],[0.8888888888888888,\"#fdca26\"],[1.0,\"#f0f921\"]],\"sequentialminus\":[[0.0,\"#0d0887\"],[0.1111111111111111,\"#46039f\"],[0.2222222222222222,\"#7201a8\"],[0.3333333333333333,\"#9c179e\"],[0.4444444444444444,\"#bd3786\"],[0.5555555555555556,\"#d8576b\"],[0.6666666666666666,\"#ed7953\"],[0.7777777777777778,\"#fb9f3a\"],[0.8888888888888888,\"#fdca26\"],[1.0,\"#f0f921\"]],\"diverging\":[[0,\"#8e0152\"],[0.1,\"#c51b7d\"],[0.2,\"#de77ae\"],[0.3,\"#f1b6da\"],[0.4,\"#fde0ef\"],[0.5,\"#f7f7f7\"],[0.6,\"#e6f5d0\"],[0.7,\"#b8e186\"],[0.8,\"#7fbc41\"],[0.9,\"#4d9221\"],[1,\"#276419\"]]},\"xaxis\":{\"gridcolor\":\"white\",\"linecolor\":\"white\",\"ticks\":\"\",\"title\":{\"standoff\":15},\"zerolinecolor\":\"white\",\"automargin\":true,\"zerolinewidth\":2},\"yaxis\":{\"gridcolor\":\"white\",\"linecolor\":\"white\",\"ticks\":\"\",\"title\":{\"standoff\":15},\"zerolinecolor\":\"white\",\"automargin\":true,\"zerolinewidth\":2},\"scene\":{\"xaxis\":{\"backgroundcolor\":\"#E5ECF6\",\"gridcolor\":\"white\",\"linecolor\":\"white\",\"showbackground\":true,\"ticks\":\"\",\"zerolinecolor\":\"white\",\"gridwidth\":2},\"yaxis\":{\"backgroundcolor\":\"#E5ECF6\",\"gridcolor\":\"white\",\"linecolor\":\"white\",\"showbackground\":true,\"ticks\":\"\",\"zerolinecolor\":\"white\",\"gridwidth\":2},\"zaxis\":{\"backgroundcolor\":\"#E5ECF6\",\"gridcolor\":\"white\",\"linecolor\":\"white\",\"showbackground\":true,\"ticks\":\"\",\"zerolinecolor\":\"white\",\"gridwidth\":2}},\"shapedefaults\":{\"line\":{\"color\":\"#2a3f5f\"}},\"annotationdefaults\":{\"arrowcolor\":\"#2a3f5f\",\"arrowhead\":0,\"arrowwidth\":1},\"geo\":{\"bgcolor\":\"white\",\"landcolor\":\"#E5ECF6\",\"subunitcolor\":\"white\",\"showland\":true,\"showlakes\":true,\"lakecolor\":\"white\"},\"title\":{\"x\":0.05},\"mapbox\":{\"style\":\"light\"}}},\"xaxis\":{\"anchor\":\"y\",\"domain\":[0.0,1.0],\"title\":{\"text\":\"support\"},\"type\":\"log\"},\"yaxis\":{\"anchor\":\"x\",\"domain\":[0.0,1.0],\"title\":{\"text\":\"confidence\"}},\"coloraxis\":{\"colorbar\":{\"title\":{\"text\":\"lift\"}},\"colorscale\":[[0.0,\"#0d0887\"],[0.1111111111111111,\"#46039f\"],[0.2222222222222222,\"#7201a8\"],[0.3333333333333333,\"#9c179e\"],[0.4444444444444444,\"#bd3786\"],[0.5555555555555556,\"#d8576b\"],[0.6666666666666666,\"#ed7953\"],[0.7777777777777778,\"#fb9f3a\"],[0.8888888888888888,\"#fdca26\"],[1.0,\"#f0f921\"]]},\"legend\":{\"tracegroupgap\":0},\"margin\":{\"t\":60},\"plot_bgcolor\":\"rgb(240,240,240)\",\"title\":{\"text\":\"2D Plot of Support, Confidence and Lift\"},\"height\":800},                        {\"responsive\": true}                    ).then(function(){\n",
       "                            \n",
       "var gd = document.getElementById('2bfb8674-bfce-48e0-95f8-bf5ce3338c83');\n",
       "var x = new MutationObserver(function (mutations, observer) {{\n",
       "        var display = window.getComputedStyle(gd).display;\n",
       "        if (!display || display === 'none') {{\n",
       "            console.log([gd, 'removed!']);\n",
       "            Plotly.purge(gd);\n",
       "            observer.disconnect();\n",
       "        }}\n",
       "}});\n",
       "\n",
       "// Listen for the removal of the full notebook cells\n",
       "var notebookContainer = gd.closest('#notebook-container');\n",
       "if (notebookContainer) {{\n",
       "    x.observe(notebookContainer, {childList: true});\n",
       "}}\n",
       "\n",
       "// Listen for the clearing of the current output cell\n",
       "var outputEl = gd.closest('.output');\n",
       "if (outputEl) {{\n",
       "    x.observe(outputEl, {childList: true});\n",
       "}}\n",
       "\n",
       "                        })                };                });            </script>        </div>"
      ]
     },
     "metadata": {},
     "output_type": "display_data"
    }
   ],
   "source": [
    "# 2d plot\n",
    "plot_model(arules_same_category_condition, plot = '2d')"
   ]
  },
  {
   "cell_type": "code",
   "execution_count": 64,
   "id": "c88bdba5",
   "metadata": {},
   "outputs": [
    {
     "data": {
      "text/html": [
       "        <script type=\"text/javascript\">\n",
       "        window.PlotlyConfig = {MathJaxConfig: 'local'};\n",
       "        if (window.MathJax && window.MathJax.Hub && window.MathJax.Hub.Config) {window.MathJax.Hub.Config({SVG: {font: \"STIX-Web\"}});}\n",
       "        if (typeof require !== 'undefined') {\n",
       "        require.undef(\"plotly\");\n",
       "        requirejs.config({\n",
       "            paths: {\n",
       "                'plotly': ['https://cdn.plot.ly/plotly-2.25.2.min']\n",
       "            }\n",
       "        });\n",
       "        require(['plotly'], function(Plotly) {\n",
       "            window._Plotly = Plotly;\n",
       "        });\n",
       "        }\n",
       "        </script>\n",
       "        "
      ]
     },
     "metadata": {},
     "output_type": "display_data"
    },
    {
     "data": {
      "application/vnd.plotly.v1+json": {
       "config": {
        "plotlyServerURL": "https://plot.ly"
       },
       "data": [
        {
         "customdata": [
          [
           "yogurt",
           "whole milk"
          ],
          [
           "whole milk",
           "yogurt"
          ]
         ],
         "hovertemplate": "support=%{x}<br>confidence=%{y}<br>lift=%{z}<br>antecedents=%{customdata[0]}<br>consequents=%{customdata[1]}<br>antecedent support=%{marker.color}<extra></extra>",
         "legendgroup": "",
         "marker": {
          "color": [
           0.283,
           0.4582
          ],
          "coloraxis": "coloraxis",
          "opacity": 0.7,
          "symbol": "circle"
         },
         "mode": "markers",
         "name": "",
         "scene": "scene",
         "showlegend": false,
         "type": "scatter3d",
         "x": [
          0.1506,
          0.1506
         ],
         "y": [
          0.5322,
          0.3287
         ],
         "z": [
          1.1615,
          1.1615
         ]
        }
       ],
       "layout": {
        "coloraxis": {
         "colorbar": {
          "title": {
           "text": "antecedent support"
          }
         },
         "colorscale": [
          [
           0,
           "#0d0887"
          ],
          [
           0.1111111111111111,
           "#46039f"
          ],
          [
           0.2222222222222222,
           "#7201a8"
          ],
          [
           0.3333333333333333,
           "#9c179e"
          ],
          [
           0.4444444444444444,
           "#bd3786"
          ],
          [
           0.5555555555555556,
           "#d8576b"
          ],
          [
           0.6666666666666666,
           "#ed7953"
          ],
          [
           0.7777777777777778,
           "#fb9f3a"
          ],
          [
           0.8888888888888888,
           "#fdca26"
          ],
          [
           1,
           "#f0f921"
          ]
         ]
        },
        "height": 800,
        "legend": {
         "tracegroupgap": 0
        },
        "scene": {
         "domain": {
          "x": [
           0,
           1
          ],
          "y": [
           0,
           1
          ]
         },
         "xaxis": {
          "title": {
           "text": "support"
          }
         },
         "yaxis": {
          "title": {
           "text": "confidence"
          }
         },
         "zaxis": {
          "title": {
           "text": "lift"
          }
         }
        },
        "template": {
         "data": {
          "bar": [
           {
            "error_x": {
             "color": "#2a3f5f"
            },
            "error_y": {
             "color": "#2a3f5f"
            },
            "marker": {
             "line": {
              "color": "#E5ECF6",
              "width": 0.5
             },
             "pattern": {
              "fillmode": "overlay",
              "size": 10,
              "solidity": 0.2
             }
            },
            "type": "bar"
           }
          ],
          "barpolar": [
           {
            "marker": {
             "line": {
              "color": "#E5ECF6",
              "width": 0.5
             },
             "pattern": {
              "fillmode": "overlay",
              "size": 10,
              "solidity": 0.2
             }
            },
            "type": "barpolar"
           }
          ],
          "carpet": [
           {
            "aaxis": {
             "endlinecolor": "#2a3f5f",
             "gridcolor": "white",
             "linecolor": "white",
             "minorgridcolor": "white",
             "startlinecolor": "#2a3f5f"
            },
            "baxis": {
             "endlinecolor": "#2a3f5f",
             "gridcolor": "white",
             "linecolor": "white",
             "minorgridcolor": "white",
             "startlinecolor": "#2a3f5f"
            },
            "type": "carpet"
           }
          ],
          "choropleth": [
           {
            "colorbar": {
             "outlinewidth": 0,
             "ticks": ""
            },
            "type": "choropleth"
           }
          ],
          "contour": [
           {
            "colorbar": {
             "outlinewidth": 0,
             "ticks": ""
            },
            "colorscale": [
             [
              0,
              "#0d0887"
             ],
             [
              0.1111111111111111,
              "#46039f"
             ],
             [
              0.2222222222222222,
              "#7201a8"
             ],
             [
              0.3333333333333333,
              "#9c179e"
             ],
             [
              0.4444444444444444,
              "#bd3786"
             ],
             [
              0.5555555555555556,
              "#d8576b"
             ],
             [
              0.6666666666666666,
              "#ed7953"
             ],
             [
              0.7777777777777778,
              "#fb9f3a"
             ],
             [
              0.8888888888888888,
              "#fdca26"
             ],
             [
              1,
              "#f0f921"
             ]
            ],
            "type": "contour"
           }
          ],
          "contourcarpet": [
           {
            "colorbar": {
             "outlinewidth": 0,
             "ticks": ""
            },
            "type": "contourcarpet"
           }
          ],
          "heatmap": [
           {
            "colorbar": {
             "outlinewidth": 0,
             "ticks": ""
            },
            "colorscale": [
             [
              0,
              "#0d0887"
             ],
             [
              0.1111111111111111,
              "#46039f"
             ],
             [
              0.2222222222222222,
              "#7201a8"
             ],
             [
              0.3333333333333333,
              "#9c179e"
             ],
             [
              0.4444444444444444,
              "#bd3786"
             ],
             [
              0.5555555555555556,
              "#d8576b"
             ],
             [
              0.6666666666666666,
              "#ed7953"
             ],
             [
              0.7777777777777778,
              "#fb9f3a"
             ],
             [
              0.8888888888888888,
              "#fdca26"
             ],
             [
              1,
              "#f0f921"
             ]
            ],
            "type": "heatmap"
           }
          ],
          "heatmapgl": [
           {
            "colorbar": {
             "outlinewidth": 0,
             "ticks": ""
            },
            "colorscale": [
             [
              0,
              "#0d0887"
             ],
             [
              0.1111111111111111,
              "#46039f"
             ],
             [
              0.2222222222222222,
              "#7201a8"
             ],
             [
              0.3333333333333333,
              "#9c179e"
             ],
             [
              0.4444444444444444,
              "#bd3786"
             ],
             [
              0.5555555555555556,
              "#d8576b"
             ],
             [
              0.6666666666666666,
              "#ed7953"
             ],
             [
              0.7777777777777778,
              "#fb9f3a"
             ],
             [
              0.8888888888888888,
              "#fdca26"
             ],
             [
              1,
              "#f0f921"
             ]
            ],
            "type": "heatmapgl"
           }
          ],
          "histogram": [
           {
            "marker": {
             "pattern": {
              "fillmode": "overlay",
              "size": 10,
              "solidity": 0.2
             }
            },
            "type": "histogram"
           }
          ],
          "histogram2d": [
           {
            "colorbar": {
             "outlinewidth": 0,
             "ticks": ""
            },
            "colorscale": [
             [
              0,
              "#0d0887"
             ],
             [
              0.1111111111111111,
              "#46039f"
             ],
             [
              0.2222222222222222,
              "#7201a8"
             ],
             [
              0.3333333333333333,
              "#9c179e"
             ],
             [
              0.4444444444444444,
              "#bd3786"
             ],
             [
              0.5555555555555556,
              "#d8576b"
             ],
             [
              0.6666666666666666,
              "#ed7953"
             ],
             [
              0.7777777777777778,
              "#fb9f3a"
             ],
             [
              0.8888888888888888,
              "#fdca26"
             ],
             [
              1,
              "#f0f921"
             ]
            ],
            "type": "histogram2d"
           }
          ],
          "histogram2dcontour": [
           {
            "colorbar": {
             "outlinewidth": 0,
             "ticks": ""
            },
            "colorscale": [
             [
              0,
              "#0d0887"
             ],
             [
              0.1111111111111111,
              "#46039f"
             ],
             [
              0.2222222222222222,
              "#7201a8"
             ],
             [
              0.3333333333333333,
              "#9c179e"
             ],
             [
              0.4444444444444444,
              "#bd3786"
             ],
             [
              0.5555555555555556,
              "#d8576b"
             ],
             [
              0.6666666666666666,
              "#ed7953"
             ],
             [
              0.7777777777777778,
              "#fb9f3a"
             ],
             [
              0.8888888888888888,
              "#fdca26"
             ],
             [
              1,
              "#f0f921"
             ]
            ],
            "type": "histogram2dcontour"
           }
          ],
          "mesh3d": [
           {
            "colorbar": {
             "outlinewidth": 0,
             "ticks": ""
            },
            "type": "mesh3d"
           }
          ],
          "parcoords": [
           {
            "line": {
             "colorbar": {
              "outlinewidth": 0,
              "ticks": ""
             }
            },
            "type": "parcoords"
           }
          ],
          "pie": [
           {
            "automargin": true,
            "type": "pie"
           }
          ],
          "scatter": [
           {
            "fillpattern": {
             "fillmode": "overlay",
             "size": 10,
             "solidity": 0.2
            },
            "type": "scatter"
           }
          ],
          "scatter3d": [
           {
            "line": {
             "colorbar": {
              "outlinewidth": 0,
              "ticks": ""
             }
            },
            "marker": {
             "colorbar": {
              "outlinewidth": 0,
              "ticks": ""
             }
            },
            "type": "scatter3d"
           }
          ],
          "scattercarpet": [
           {
            "marker": {
             "colorbar": {
              "outlinewidth": 0,
              "ticks": ""
             }
            },
            "type": "scattercarpet"
           }
          ],
          "scattergeo": [
           {
            "marker": {
             "colorbar": {
              "outlinewidth": 0,
              "ticks": ""
             }
            },
            "type": "scattergeo"
           }
          ],
          "scattergl": [
           {
            "marker": {
             "colorbar": {
              "outlinewidth": 0,
              "ticks": ""
             }
            },
            "type": "scattergl"
           }
          ],
          "scattermapbox": [
           {
            "marker": {
             "colorbar": {
              "outlinewidth": 0,
              "ticks": ""
             }
            },
            "type": "scattermapbox"
           }
          ],
          "scatterpolar": [
           {
            "marker": {
             "colorbar": {
              "outlinewidth": 0,
              "ticks": ""
             }
            },
            "type": "scatterpolar"
           }
          ],
          "scatterpolargl": [
           {
            "marker": {
             "colorbar": {
              "outlinewidth": 0,
              "ticks": ""
             }
            },
            "type": "scatterpolargl"
           }
          ],
          "scatterternary": [
           {
            "marker": {
             "colorbar": {
              "outlinewidth": 0,
              "ticks": ""
             }
            },
            "type": "scatterternary"
           }
          ],
          "surface": [
           {
            "colorbar": {
             "outlinewidth": 0,
             "ticks": ""
            },
            "colorscale": [
             [
              0,
              "#0d0887"
             ],
             [
              0.1111111111111111,
              "#46039f"
             ],
             [
              0.2222222222222222,
              "#7201a8"
             ],
             [
              0.3333333333333333,
              "#9c179e"
             ],
             [
              0.4444444444444444,
              "#bd3786"
             ],
             [
              0.5555555555555556,
              "#d8576b"
             ],
             [
              0.6666666666666666,
              "#ed7953"
             ],
             [
              0.7777777777777778,
              "#fb9f3a"
             ],
             [
              0.8888888888888888,
              "#fdca26"
             ],
             [
              1,
              "#f0f921"
             ]
            ],
            "type": "surface"
           }
          ],
          "table": [
           {
            "cells": {
             "fill": {
              "color": "#EBF0F8"
             },
             "line": {
              "color": "white"
             }
            },
            "header": {
             "fill": {
              "color": "#C8D4E3"
             },
             "line": {
              "color": "white"
             }
            },
            "type": "table"
           }
          ]
         },
         "layout": {
          "annotationdefaults": {
           "arrowcolor": "#2a3f5f",
           "arrowhead": 0,
           "arrowwidth": 1
          },
          "autotypenumbers": "strict",
          "coloraxis": {
           "colorbar": {
            "outlinewidth": 0,
            "ticks": ""
           }
          },
          "colorscale": {
           "diverging": [
            [
             0,
             "#8e0152"
            ],
            [
             0.1,
             "#c51b7d"
            ],
            [
             0.2,
             "#de77ae"
            ],
            [
             0.3,
             "#f1b6da"
            ],
            [
             0.4,
             "#fde0ef"
            ],
            [
             0.5,
             "#f7f7f7"
            ],
            [
             0.6,
             "#e6f5d0"
            ],
            [
             0.7,
             "#b8e186"
            ],
            [
             0.8,
             "#7fbc41"
            ],
            [
             0.9,
             "#4d9221"
            ],
            [
             1,
             "#276419"
            ]
           ],
           "sequential": [
            [
             0,
             "#0d0887"
            ],
            [
             0.1111111111111111,
             "#46039f"
            ],
            [
             0.2222222222222222,
             "#7201a8"
            ],
            [
             0.3333333333333333,
             "#9c179e"
            ],
            [
             0.4444444444444444,
             "#bd3786"
            ],
            [
             0.5555555555555556,
             "#d8576b"
            ],
            [
             0.6666666666666666,
             "#ed7953"
            ],
            [
             0.7777777777777778,
             "#fb9f3a"
            ],
            [
             0.8888888888888888,
             "#fdca26"
            ],
            [
             1,
             "#f0f921"
            ]
           ],
           "sequentialminus": [
            [
             0,
             "#0d0887"
            ],
            [
             0.1111111111111111,
             "#46039f"
            ],
            [
             0.2222222222222222,
             "#7201a8"
            ],
            [
             0.3333333333333333,
             "#9c179e"
            ],
            [
             0.4444444444444444,
             "#bd3786"
            ],
            [
             0.5555555555555556,
             "#d8576b"
            ],
            [
             0.6666666666666666,
             "#ed7953"
            ],
            [
             0.7777777777777778,
             "#fb9f3a"
            ],
            [
             0.8888888888888888,
             "#fdca26"
            ],
            [
             1,
             "#f0f921"
            ]
           ]
          },
          "colorway": [
           "#636efa",
           "#EF553B",
           "#00cc96",
           "#ab63fa",
           "#FFA15A",
           "#19d3f3",
           "#FF6692",
           "#B6E880",
           "#FF97FF",
           "#FECB52"
          ],
          "font": {
           "color": "#2a3f5f"
          },
          "geo": {
           "bgcolor": "white",
           "lakecolor": "white",
           "landcolor": "#E5ECF6",
           "showlakes": true,
           "showland": true,
           "subunitcolor": "white"
          },
          "hoverlabel": {
           "align": "left"
          },
          "hovermode": "closest",
          "mapbox": {
           "style": "light"
          },
          "paper_bgcolor": "white",
          "plot_bgcolor": "#E5ECF6",
          "polar": {
           "angularaxis": {
            "gridcolor": "white",
            "linecolor": "white",
            "ticks": ""
           },
           "bgcolor": "#E5ECF6",
           "radialaxis": {
            "gridcolor": "white",
            "linecolor": "white",
            "ticks": ""
           }
          },
          "scene": {
           "xaxis": {
            "backgroundcolor": "#E5ECF6",
            "gridcolor": "white",
            "gridwidth": 2,
            "linecolor": "white",
            "showbackground": true,
            "ticks": "",
            "zerolinecolor": "white"
           },
           "yaxis": {
            "backgroundcolor": "#E5ECF6",
            "gridcolor": "white",
            "gridwidth": 2,
            "linecolor": "white",
            "showbackground": true,
            "ticks": "",
            "zerolinecolor": "white"
           },
           "zaxis": {
            "backgroundcolor": "#E5ECF6",
            "gridcolor": "white",
            "gridwidth": 2,
            "linecolor": "white",
            "showbackground": true,
            "ticks": "",
            "zerolinecolor": "white"
           }
          },
          "shapedefaults": {
           "line": {
            "color": "#2a3f5f"
           }
          },
          "ternary": {
           "aaxis": {
            "gridcolor": "white",
            "linecolor": "white",
            "ticks": ""
           },
           "baxis": {
            "gridcolor": "white",
            "linecolor": "white",
            "ticks": ""
           },
           "bgcolor": "#E5ECF6",
           "caxis": {
            "gridcolor": "white",
            "linecolor": "white",
            "ticks": ""
           }
          },
          "title": {
           "x": 0.05
          },
          "xaxis": {
           "automargin": true,
           "gridcolor": "white",
           "linecolor": "white",
           "ticks": "",
           "title": {
            "standoff": 15
           },
           "zerolinecolor": "white",
           "zerolinewidth": 2
          },
          "yaxis": {
           "automargin": true,
           "gridcolor": "white",
           "linecolor": "white",
           "ticks": "",
           "title": {
            "standoff": 15
           },
           "zerolinecolor": "white",
           "zerolinewidth": 2
          }
         }
        },
        "title": {
         "text": "3d Plot for Rule Mining"
        },
        "width": 900
       }
      },
      "text/html": [
       "<div>                            <div id=\"14eb0d0f-9b1f-494e-9637-e6c9f6d0d8da\" class=\"plotly-graph-div\" style=\"height:800px; width:900px;\"></div>            <script type=\"text/javascript\">                require([\"plotly\"], function(Plotly) {                    window.PLOTLYENV=window.PLOTLYENV || {};                                    if (document.getElementById(\"14eb0d0f-9b1f-494e-9637-e6c9f6d0d8da\")) {                    Plotly.newPlot(                        \"14eb0d0f-9b1f-494e-9637-e6c9f6d0d8da\",                        [{\"customdata\":[[\"yogurt\",\"whole milk\"],[\"whole milk\",\"yogurt\"]],\"hovertemplate\":\"support=%{x}\\u003cbr\\u003econfidence=%{y}\\u003cbr\\u003elift=%{z}\\u003cbr\\u003eantecedents=%{customdata[0]}\\u003cbr\\u003econsequents=%{customdata[1]}\\u003cbr\\u003eantecedent support=%{marker.color}\\u003cextra\\u003e\\u003c\\u002fextra\\u003e\",\"legendgroup\":\"\",\"marker\":{\"color\":[0.283,0.4582],\"coloraxis\":\"coloraxis\",\"opacity\":0.7,\"symbol\":\"circle\"},\"mode\":\"markers\",\"name\":\"\",\"scene\":\"scene\",\"showlegend\":false,\"x\":[0.1506,0.1506],\"y\":[0.5322,0.3287],\"z\":[1.1615,1.1615],\"type\":\"scatter3d\"}],                        {\"template\":{\"data\":{\"histogram2dcontour\":[{\"type\":\"histogram2dcontour\",\"colorbar\":{\"outlinewidth\":0,\"ticks\":\"\"},\"colorscale\":[[0.0,\"#0d0887\"],[0.1111111111111111,\"#46039f\"],[0.2222222222222222,\"#7201a8\"],[0.3333333333333333,\"#9c179e\"],[0.4444444444444444,\"#bd3786\"],[0.5555555555555556,\"#d8576b\"],[0.6666666666666666,\"#ed7953\"],[0.7777777777777778,\"#fb9f3a\"],[0.8888888888888888,\"#fdca26\"],[1.0,\"#f0f921\"]]}],\"choropleth\":[{\"type\":\"choropleth\",\"colorbar\":{\"outlinewidth\":0,\"ticks\":\"\"}}],\"histogram2d\":[{\"type\":\"histogram2d\",\"colorbar\":{\"outlinewidth\":0,\"ticks\":\"\"},\"colorscale\":[[0.0,\"#0d0887\"],[0.1111111111111111,\"#46039f\"],[0.2222222222222222,\"#7201a8\"],[0.3333333333333333,\"#9c179e\"],[0.4444444444444444,\"#bd3786\"],[0.5555555555555556,\"#d8576b\"],[0.6666666666666666,\"#ed7953\"],[0.7777777777777778,\"#fb9f3a\"],[0.8888888888888888,\"#fdca26\"],[1.0,\"#f0f921\"]]}],\"heatmap\":[{\"type\":\"heatmap\",\"colorbar\":{\"outlinewidth\":0,\"ticks\":\"\"},\"colorscale\":[[0.0,\"#0d0887\"],[0.1111111111111111,\"#46039f\"],[0.2222222222222222,\"#7201a8\"],[0.3333333333333333,\"#9c179e\"],[0.4444444444444444,\"#bd3786\"],[0.5555555555555556,\"#d8576b\"],[0.6666666666666666,\"#ed7953\"],[0.7777777777777778,\"#fb9f3a\"],[0.8888888888888888,\"#fdca26\"],[1.0,\"#f0f921\"]]}],\"heatmapgl\":[{\"type\":\"heatmapgl\",\"colorbar\":{\"outlinewidth\":0,\"ticks\":\"\"},\"colorscale\":[[0.0,\"#0d0887\"],[0.1111111111111111,\"#46039f\"],[0.2222222222222222,\"#7201a8\"],[0.3333333333333333,\"#9c179e\"],[0.4444444444444444,\"#bd3786\"],[0.5555555555555556,\"#d8576b\"],[0.6666666666666666,\"#ed7953\"],[0.7777777777777778,\"#fb9f3a\"],[0.8888888888888888,\"#fdca26\"],[1.0,\"#f0f921\"]]}],\"contourcarpet\":[{\"type\":\"contourcarpet\",\"colorbar\":{\"outlinewidth\":0,\"ticks\":\"\"}}],\"contour\":[{\"type\":\"contour\",\"colorbar\":{\"outlinewidth\":0,\"ticks\":\"\"},\"colorscale\":[[0.0,\"#0d0887\"],[0.1111111111111111,\"#46039f\"],[0.2222222222222222,\"#7201a8\"],[0.3333333333333333,\"#9c179e\"],[0.4444444444444444,\"#bd3786\"],[0.5555555555555556,\"#d8576b\"],[0.6666666666666666,\"#ed7953\"],[0.7777777777777778,\"#fb9f3a\"],[0.8888888888888888,\"#fdca26\"],[1.0,\"#f0f921\"]]}],\"surface\":[{\"type\":\"surface\",\"colorbar\":{\"outlinewidth\":0,\"ticks\":\"\"},\"colorscale\":[[0.0,\"#0d0887\"],[0.1111111111111111,\"#46039f\"],[0.2222222222222222,\"#7201a8\"],[0.3333333333333333,\"#9c179e\"],[0.4444444444444444,\"#bd3786\"],[0.5555555555555556,\"#d8576b\"],[0.6666666666666666,\"#ed7953\"],[0.7777777777777778,\"#fb9f3a\"],[0.8888888888888888,\"#fdca26\"],[1.0,\"#f0f921\"]]}],\"mesh3d\":[{\"type\":\"mesh3d\",\"colorbar\":{\"outlinewidth\":0,\"ticks\":\"\"}}],\"scatter\":[{\"fillpattern\":{\"fillmode\":\"overlay\",\"size\":10,\"solidity\":0.2},\"type\":\"scatter\"}],\"parcoords\":[{\"type\":\"parcoords\",\"line\":{\"colorbar\":{\"outlinewidth\":0,\"ticks\":\"\"}}}],\"scatterpolargl\":[{\"type\":\"scatterpolargl\",\"marker\":{\"colorbar\":{\"outlinewidth\":0,\"ticks\":\"\"}}}],\"bar\":[{\"error_x\":{\"color\":\"#2a3f5f\"},\"error_y\":{\"color\":\"#2a3f5f\"},\"marker\":{\"line\":{\"color\":\"#E5ECF6\",\"width\":0.5},\"pattern\":{\"fillmode\":\"overlay\",\"size\":10,\"solidity\":0.2}},\"type\":\"bar\"}],\"scattergeo\":[{\"type\":\"scattergeo\",\"marker\":{\"colorbar\":{\"outlinewidth\":0,\"ticks\":\"\"}}}],\"scatterpolar\":[{\"type\":\"scatterpolar\",\"marker\":{\"colorbar\":{\"outlinewidth\":0,\"ticks\":\"\"}}}],\"histogram\":[{\"marker\":{\"pattern\":{\"fillmode\":\"overlay\",\"size\":10,\"solidity\":0.2}},\"type\":\"histogram\"}],\"scattergl\":[{\"type\":\"scattergl\",\"marker\":{\"colorbar\":{\"outlinewidth\":0,\"ticks\":\"\"}}}],\"scatter3d\":[{\"type\":\"scatter3d\",\"line\":{\"colorbar\":{\"outlinewidth\":0,\"ticks\":\"\"}},\"marker\":{\"colorbar\":{\"outlinewidth\":0,\"ticks\":\"\"}}}],\"scattermapbox\":[{\"type\":\"scattermapbox\",\"marker\":{\"colorbar\":{\"outlinewidth\":0,\"ticks\":\"\"}}}],\"scatterternary\":[{\"type\":\"scatterternary\",\"marker\":{\"colorbar\":{\"outlinewidth\":0,\"ticks\":\"\"}}}],\"scattercarpet\":[{\"type\":\"scattercarpet\",\"marker\":{\"colorbar\":{\"outlinewidth\":0,\"ticks\":\"\"}}}],\"carpet\":[{\"aaxis\":{\"endlinecolor\":\"#2a3f5f\",\"gridcolor\":\"white\",\"linecolor\":\"white\",\"minorgridcolor\":\"white\",\"startlinecolor\":\"#2a3f5f\"},\"baxis\":{\"endlinecolor\":\"#2a3f5f\",\"gridcolor\":\"white\",\"linecolor\":\"white\",\"minorgridcolor\":\"white\",\"startlinecolor\":\"#2a3f5f\"},\"type\":\"carpet\"}],\"table\":[{\"cells\":{\"fill\":{\"color\":\"#EBF0F8\"},\"line\":{\"color\":\"white\"}},\"header\":{\"fill\":{\"color\":\"#C8D4E3\"},\"line\":{\"color\":\"white\"}},\"type\":\"table\"}],\"barpolar\":[{\"marker\":{\"line\":{\"color\":\"#E5ECF6\",\"width\":0.5},\"pattern\":{\"fillmode\":\"overlay\",\"size\":10,\"solidity\":0.2}},\"type\":\"barpolar\"}],\"pie\":[{\"automargin\":true,\"type\":\"pie\"}]},\"layout\":{\"autotypenumbers\":\"strict\",\"colorway\":[\"#636efa\",\"#EF553B\",\"#00cc96\",\"#ab63fa\",\"#FFA15A\",\"#19d3f3\",\"#FF6692\",\"#B6E880\",\"#FF97FF\",\"#FECB52\"],\"font\":{\"color\":\"#2a3f5f\"},\"hovermode\":\"closest\",\"hoverlabel\":{\"align\":\"left\"},\"paper_bgcolor\":\"white\",\"plot_bgcolor\":\"#E5ECF6\",\"polar\":{\"bgcolor\":\"#E5ECF6\",\"angularaxis\":{\"gridcolor\":\"white\",\"linecolor\":\"white\",\"ticks\":\"\"},\"radialaxis\":{\"gridcolor\":\"white\",\"linecolor\":\"white\",\"ticks\":\"\"}},\"ternary\":{\"bgcolor\":\"#E5ECF6\",\"aaxis\":{\"gridcolor\":\"white\",\"linecolor\":\"white\",\"ticks\":\"\"},\"baxis\":{\"gridcolor\":\"white\",\"linecolor\":\"white\",\"ticks\":\"\"},\"caxis\":{\"gridcolor\":\"white\",\"linecolor\":\"white\",\"ticks\":\"\"}},\"coloraxis\":{\"colorbar\":{\"outlinewidth\":0,\"ticks\":\"\"}},\"colorscale\":{\"sequential\":[[0.0,\"#0d0887\"],[0.1111111111111111,\"#46039f\"],[0.2222222222222222,\"#7201a8\"],[0.3333333333333333,\"#9c179e\"],[0.4444444444444444,\"#bd3786\"],[0.5555555555555556,\"#d8576b\"],[0.6666666666666666,\"#ed7953\"],[0.7777777777777778,\"#fb9f3a\"],[0.8888888888888888,\"#fdca26\"],[1.0,\"#f0f921\"]],\"sequentialminus\":[[0.0,\"#0d0887\"],[0.1111111111111111,\"#46039f\"],[0.2222222222222222,\"#7201a8\"],[0.3333333333333333,\"#9c179e\"],[0.4444444444444444,\"#bd3786\"],[0.5555555555555556,\"#d8576b\"],[0.6666666666666666,\"#ed7953\"],[0.7777777777777778,\"#fb9f3a\"],[0.8888888888888888,\"#fdca26\"],[1.0,\"#f0f921\"]],\"diverging\":[[0,\"#8e0152\"],[0.1,\"#c51b7d\"],[0.2,\"#de77ae\"],[0.3,\"#f1b6da\"],[0.4,\"#fde0ef\"],[0.5,\"#f7f7f7\"],[0.6,\"#e6f5d0\"],[0.7,\"#b8e186\"],[0.8,\"#7fbc41\"],[0.9,\"#4d9221\"],[1,\"#276419\"]]},\"xaxis\":{\"gridcolor\":\"white\",\"linecolor\":\"white\",\"ticks\":\"\",\"title\":{\"standoff\":15},\"zerolinecolor\":\"white\",\"automargin\":true,\"zerolinewidth\":2},\"yaxis\":{\"gridcolor\":\"white\",\"linecolor\":\"white\",\"ticks\":\"\",\"title\":{\"standoff\":15},\"zerolinecolor\":\"white\",\"automargin\":true,\"zerolinewidth\":2},\"scene\":{\"xaxis\":{\"backgroundcolor\":\"#E5ECF6\",\"gridcolor\":\"white\",\"linecolor\":\"white\",\"showbackground\":true,\"ticks\":\"\",\"zerolinecolor\":\"white\",\"gridwidth\":2},\"yaxis\":{\"backgroundcolor\":\"#E5ECF6\",\"gridcolor\":\"white\",\"linecolor\":\"white\",\"showbackground\":true,\"ticks\":\"\",\"zerolinecolor\":\"white\",\"gridwidth\":2},\"zaxis\":{\"backgroundcolor\":\"#E5ECF6\",\"gridcolor\":\"white\",\"linecolor\":\"white\",\"showbackground\":true,\"ticks\":\"\",\"zerolinecolor\":\"white\",\"gridwidth\":2}},\"shapedefaults\":{\"line\":{\"color\":\"#2a3f5f\"}},\"annotationdefaults\":{\"arrowcolor\":\"#2a3f5f\",\"arrowhead\":0,\"arrowwidth\":1},\"geo\":{\"bgcolor\":\"white\",\"landcolor\":\"#E5ECF6\",\"subunitcolor\":\"white\",\"showland\":true,\"showlakes\":true,\"lakecolor\":\"white\"},\"title\":{\"x\":0.05},\"mapbox\":{\"style\":\"light\"}}},\"scene\":{\"domain\":{\"x\":[0.0,1.0],\"y\":[0.0,1.0]},\"xaxis\":{\"title\":{\"text\":\"support\"}},\"yaxis\":{\"title\":{\"text\":\"confidence\"}},\"zaxis\":{\"title\":{\"text\":\"lift\"}}},\"coloraxis\":{\"colorbar\":{\"title\":{\"text\":\"antecedent support\"}},\"colorscale\":[[0.0,\"#0d0887\"],[0.1111111111111111,\"#46039f\"],[0.2222222222222222,\"#7201a8\"],[0.3333333333333333,\"#9c179e\"],[0.4444444444444444,\"#bd3786\"],[0.5555555555555556,\"#d8576b\"],[0.6666666666666666,\"#ed7953\"],[0.7777777777777778,\"#fb9f3a\"],[0.8888888888888888,\"#fdca26\"],[1.0,\"#f0f921\"]]},\"legend\":{\"tracegroupgap\":0},\"title\":{\"text\":\"3d Plot for Rule Mining\"},\"height\":800,\"width\":900},                        {\"responsive\": true}                    ).then(function(){\n",
       "                            \n",
       "var gd = document.getElementById('14eb0d0f-9b1f-494e-9637-e6c9f6d0d8da');\n",
       "var x = new MutationObserver(function (mutations, observer) {{\n",
       "        var display = window.getComputedStyle(gd).display;\n",
       "        if (!display || display === 'none') {{\n",
       "            console.log([gd, 'removed!']);\n",
       "            Plotly.purge(gd);\n",
       "            observer.disconnect();\n",
       "        }}\n",
       "}});\n",
       "\n",
       "// Listen for the removal of the full notebook cells\n",
       "var notebookContainer = gd.closest('#notebook-container');\n",
       "if (notebookContainer) {{\n",
       "    x.observe(notebookContainer, {childList: true});\n",
       "}}\n",
       "\n",
       "// Listen for the clearing of the current output cell\n",
       "var outputEl = gd.closest('.output');\n",
       "if (outputEl) {{\n",
       "    x.observe(outputEl, {childList: true});\n",
       "}}\n",
       "\n",
       "                        })                };                });            </script>        </div>"
      ]
     },
     "metadata": {},
     "output_type": "display_data"
    }
   ],
   "source": [
    "# 3d plot\n",
    "\n",
    "plot_model(arules_same_category_condition, plot = '3d')"
   ]
  },
  {
   "attachments": {},
   "cell_type": "markdown",
   "id": "8604cbf2",
   "metadata": {},
   "source": [
    "## different category"
   ]
  },
  {
   "cell_type": "code",
   "execution_count": 65,
   "id": "25bc5f90",
   "metadata": {},
   "outputs": [
    {
     "data": {
      "text/html": [
       "        <script type=\"text/javascript\">\n",
       "        window.PlotlyConfig = {MathJaxConfig: 'local'};\n",
       "        if (window.MathJax && window.MathJax.Hub && window.MathJax.Hub.Config) {window.MathJax.Hub.Config({SVG: {font: \"STIX-Web\"}});}\n",
       "        if (typeof require !== 'undefined') {\n",
       "        require.undef(\"plotly\");\n",
       "        requirejs.config({\n",
       "            paths: {\n",
       "                'plotly': ['https://cdn.plot.ly/plotly-2.25.2.min']\n",
       "            }\n",
       "        });\n",
       "        require(['plotly'], function(Plotly) {\n",
       "            window._Plotly = Plotly;\n",
       "        });\n",
       "        }\n",
       "        </script>\n",
       "        "
      ]
     },
     "metadata": {},
     "output_type": "display_data"
    },
    {
     "data": {
      "application/vnd.plotly.v1+json": {
       "config": {
        "plotlyServerURL": "https://plot.ly"
       },
       "data": [
        {
         "customdata": [
          [
           "bottled water",
           "whole milk"
          ],
          [
           "sausage",
           "whole milk"
          ],
          [
           "rolls/buns",
           "whole milk"
          ],
          [
           "other vegetables",
           "whole milk"
          ],
          [
           "tropical fruit",
           "whole milk"
          ],
          [
           "root vegetables",
           "whole milk"
          ],
          [
           "soda",
           "whole milk"
          ],
          [
           "yogurt",
           "other vegetables"
          ],
          [
           "rolls/buns",
           "other vegetables"
          ],
          [
           "whole milk",
           "other vegetables"
          ],
          [
           "soda",
           "other vegetables"
          ],
          [
           "yogurt",
           "rolls/buns"
          ],
          [
           "whole milk",
           "rolls/buns"
          ],
          [
           "other vegetables",
           "rolls/buns"
          ],
          [
           "soda",
           "rolls/buns"
          ],
          [
           "rolls/buns",
           "soda"
          ],
          [
           "whole milk",
           "soda"
          ],
          [
           "other vegetables",
           "soda"
          ],
          [
           "other vegetables",
           "yogurt"
          ],
          [
           "rolls/buns",
           "yogurt"
          ]
         ],
         "hovertemplate": "support=%{x}<br>confidence=%{y}<br>antecedents_short=%{text}<br>antecedents=%{customdata[0]}<br>consequents=%{customdata[1]}<br>lift=%{marker.color}<extra></extra>",
         "legendgroup": "",
         "marker": {
          "color": [
           1.1476,
           1.1334,
           1.1145,
           1.1091,
           1.0877,
           1.0706,
           1.052,
           1.129,
           1.1143,
           1.1091,
           1.0517,
           1.1253,
           1.1145,
           1.1143,
           1.0929,
           1.0929,
           1.052,
           1.0517,
           1.129,
           1.1253
          ],
          "coloraxis": "coloraxis",
          "opacity": 0.5,
          "symbol": "circle"
         },
         "mode": "markers+text",
         "name": "",
         "orientation": "v",
         "showlegend": false,
         "text": [
          "bottled wa",
          "sausage",
          "rolls/buns",
          "other vege",
          "tropical f",
          "root veget",
          "soda",
          "yogurt",
          "rolls/buns",
          "whole milk",
          "soda",
          "yogurt",
          "whole milk",
          "other vege",
          "soda",
          "rolls/buns",
          "whole milk",
          "other vege",
          "other vege",
          "rolls/buns"
         ],
         "textposition": "top center",
         "type": "scatter",
         "x": [
          0.1124,
          0.107,
          0.1786,
          0.1914,
          0.1165,
          0.1131,
          0.1511,
          0.1203,
          0.1467,
          0.1914,
          0.1242,
          0.1113,
          0.1786,
          0.1467,
          0.1198,
          0.1198,
          0.1511,
          0.1242,
          0.1203,
          0.1113
         ],
         "xaxis": "x",
         "y": [
          0.5258,
          0.5193,
          0.5106,
          0.5082,
          0.4984,
          0.4905,
          0.482,
          0.4252,
          0.4197,
          0.4177,
          0.3961,
          0.3935,
          0.3897,
          0.3896,
          0.3822,
          0.3426,
          0.3298,
          0.3297,
          0.3195,
          0.3184
         ],
         "yaxis": "y"
        }
       ],
       "layout": {
        "coloraxis": {
         "colorbar": {
          "title": {
           "text": "lift"
          }
         },
         "colorscale": [
          [
           0,
           "#0d0887"
          ],
          [
           0.1111111111111111,
           "#46039f"
          ],
          [
           0.2222222222222222,
           "#7201a8"
          ],
          [
           0.3333333333333333,
           "#9c179e"
          ],
          [
           0.4444444444444444,
           "#bd3786"
          ],
          [
           0.5555555555555556,
           "#d8576b"
          ],
          [
           0.6666666666666666,
           "#ed7953"
          ],
          [
           0.7777777777777778,
           "#fb9f3a"
          ],
          [
           0.8888888888888888,
           "#fdca26"
          ],
          [
           1,
           "#f0f921"
          ]
         ]
        },
        "height": 800,
        "legend": {
         "tracegroupgap": 0
        },
        "margin": {
         "t": 60
        },
        "plot_bgcolor": "rgb(240,240,240)",
        "template": {
         "data": {
          "bar": [
           {
            "error_x": {
             "color": "#2a3f5f"
            },
            "error_y": {
             "color": "#2a3f5f"
            },
            "marker": {
             "line": {
              "color": "#E5ECF6",
              "width": 0.5
             },
             "pattern": {
              "fillmode": "overlay",
              "size": 10,
              "solidity": 0.2
             }
            },
            "type": "bar"
           }
          ],
          "barpolar": [
           {
            "marker": {
             "line": {
              "color": "#E5ECF6",
              "width": 0.5
             },
             "pattern": {
              "fillmode": "overlay",
              "size": 10,
              "solidity": 0.2
             }
            },
            "type": "barpolar"
           }
          ],
          "carpet": [
           {
            "aaxis": {
             "endlinecolor": "#2a3f5f",
             "gridcolor": "white",
             "linecolor": "white",
             "minorgridcolor": "white",
             "startlinecolor": "#2a3f5f"
            },
            "baxis": {
             "endlinecolor": "#2a3f5f",
             "gridcolor": "white",
             "linecolor": "white",
             "minorgridcolor": "white",
             "startlinecolor": "#2a3f5f"
            },
            "type": "carpet"
           }
          ],
          "choropleth": [
           {
            "colorbar": {
             "outlinewidth": 0,
             "ticks": ""
            },
            "type": "choropleth"
           }
          ],
          "contour": [
           {
            "colorbar": {
             "outlinewidth": 0,
             "ticks": ""
            },
            "colorscale": [
             [
              0,
              "#0d0887"
             ],
             [
              0.1111111111111111,
              "#46039f"
             ],
             [
              0.2222222222222222,
              "#7201a8"
             ],
             [
              0.3333333333333333,
              "#9c179e"
             ],
             [
              0.4444444444444444,
              "#bd3786"
             ],
             [
              0.5555555555555556,
              "#d8576b"
             ],
             [
              0.6666666666666666,
              "#ed7953"
             ],
             [
              0.7777777777777778,
              "#fb9f3a"
             ],
             [
              0.8888888888888888,
              "#fdca26"
             ],
             [
              1,
              "#f0f921"
             ]
            ],
            "type": "contour"
           }
          ],
          "contourcarpet": [
           {
            "colorbar": {
             "outlinewidth": 0,
             "ticks": ""
            },
            "type": "contourcarpet"
           }
          ],
          "heatmap": [
           {
            "colorbar": {
             "outlinewidth": 0,
             "ticks": ""
            },
            "colorscale": [
             [
              0,
              "#0d0887"
             ],
             [
              0.1111111111111111,
              "#46039f"
             ],
             [
              0.2222222222222222,
              "#7201a8"
             ],
             [
              0.3333333333333333,
              "#9c179e"
             ],
             [
              0.4444444444444444,
              "#bd3786"
             ],
             [
              0.5555555555555556,
              "#d8576b"
             ],
             [
              0.6666666666666666,
              "#ed7953"
             ],
             [
              0.7777777777777778,
              "#fb9f3a"
             ],
             [
              0.8888888888888888,
              "#fdca26"
             ],
             [
              1,
              "#f0f921"
             ]
            ],
            "type": "heatmap"
           }
          ],
          "heatmapgl": [
           {
            "colorbar": {
             "outlinewidth": 0,
             "ticks": ""
            },
            "colorscale": [
             [
              0,
              "#0d0887"
             ],
             [
              0.1111111111111111,
              "#46039f"
             ],
             [
              0.2222222222222222,
              "#7201a8"
             ],
             [
              0.3333333333333333,
              "#9c179e"
             ],
             [
              0.4444444444444444,
              "#bd3786"
             ],
             [
              0.5555555555555556,
              "#d8576b"
             ],
             [
              0.6666666666666666,
              "#ed7953"
             ],
             [
              0.7777777777777778,
              "#fb9f3a"
             ],
             [
              0.8888888888888888,
              "#fdca26"
             ],
             [
              1,
              "#f0f921"
             ]
            ],
            "type": "heatmapgl"
           }
          ],
          "histogram": [
           {
            "marker": {
             "pattern": {
              "fillmode": "overlay",
              "size": 10,
              "solidity": 0.2
             }
            },
            "type": "histogram"
           }
          ],
          "histogram2d": [
           {
            "colorbar": {
             "outlinewidth": 0,
             "ticks": ""
            },
            "colorscale": [
             [
              0,
              "#0d0887"
             ],
             [
              0.1111111111111111,
              "#46039f"
             ],
             [
              0.2222222222222222,
              "#7201a8"
             ],
             [
              0.3333333333333333,
              "#9c179e"
             ],
             [
              0.4444444444444444,
              "#bd3786"
             ],
             [
              0.5555555555555556,
              "#d8576b"
             ],
             [
              0.6666666666666666,
              "#ed7953"
             ],
             [
              0.7777777777777778,
              "#fb9f3a"
             ],
             [
              0.8888888888888888,
              "#fdca26"
             ],
             [
              1,
              "#f0f921"
             ]
            ],
            "type": "histogram2d"
           }
          ],
          "histogram2dcontour": [
           {
            "colorbar": {
             "outlinewidth": 0,
             "ticks": ""
            },
            "colorscale": [
             [
              0,
              "#0d0887"
             ],
             [
              0.1111111111111111,
              "#46039f"
             ],
             [
              0.2222222222222222,
              "#7201a8"
             ],
             [
              0.3333333333333333,
              "#9c179e"
             ],
             [
              0.4444444444444444,
              "#bd3786"
             ],
             [
              0.5555555555555556,
              "#d8576b"
             ],
             [
              0.6666666666666666,
              "#ed7953"
             ],
             [
              0.7777777777777778,
              "#fb9f3a"
             ],
             [
              0.8888888888888888,
              "#fdca26"
             ],
             [
              1,
              "#f0f921"
             ]
            ],
            "type": "histogram2dcontour"
           }
          ],
          "mesh3d": [
           {
            "colorbar": {
             "outlinewidth": 0,
             "ticks": ""
            },
            "type": "mesh3d"
           }
          ],
          "parcoords": [
           {
            "line": {
             "colorbar": {
              "outlinewidth": 0,
              "ticks": ""
             }
            },
            "type": "parcoords"
           }
          ],
          "pie": [
           {
            "automargin": true,
            "type": "pie"
           }
          ],
          "scatter": [
           {
            "fillpattern": {
             "fillmode": "overlay",
             "size": 10,
             "solidity": 0.2
            },
            "type": "scatter"
           }
          ],
          "scatter3d": [
           {
            "line": {
             "colorbar": {
              "outlinewidth": 0,
              "ticks": ""
             }
            },
            "marker": {
             "colorbar": {
              "outlinewidth": 0,
              "ticks": ""
             }
            },
            "type": "scatter3d"
           }
          ],
          "scattercarpet": [
           {
            "marker": {
             "colorbar": {
              "outlinewidth": 0,
              "ticks": ""
             }
            },
            "type": "scattercarpet"
           }
          ],
          "scattergeo": [
           {
            "marker": {
             "colorbar": {
              "outlinewidth": 0,
              "ticks": ""
             }
            },
            "type": "scattergeo"
           }
          ],
          "scattergl": [
           {
            "marker": {
             "colorbar": {
              "outlinewidth": 0,
              "ticks": ""
             }
            },
            "type": "scattergl"
           }
          ],
          "scattermapbox": [
           {
            "marker": {
             "colorbar": {
              "outlinewidth": 0,
              "ticks": ""
             }
            },
            "type": "scattermapbox"
           }
          ],
          "scatterpolar": [
           {
            "marker": {
             "colorbar": {
              "outlinewidth": 0,
              "ticks": ""
             }
            },
            "type": "scatterpolar"
           }
          ],
          "scatterpolargl": [
           {
            "marker": {
             "colorbar": {
              "outlinewidth": 0,
              "ticks": ""
             }
            },
            "type": "scatterpolargl"
           }
          ],
          "scatterternary": [
           {
            "marker": {
             "colorbar": {
              "outlinewidth": 0,
              "ticks": ""
             }
            },
            "type": "scatterternary"
           }
          ],
          "surface": [
           {
            "colorbar": {
             "outlinewidth": 0,
             "ticks": ""
            },
            "colorscale": [
             [
              0,
              "#0d0887"
             ],
             [
              0.1111111111111111,
              "#46039f"
             ],
             [
              0.2222222222222222,
              "#7201a8"
             ],
             [
              0.3333333333333333,
              "#9c179e"
             ],
             [
              0.4444444444444444,
              "#bd3786"
             ],
             [
              0.5555555555555556,
              "#d8576b"
             ],
             [
              0.6666666666666666,
              "#ed7953"
             ],
             [
              0.7777777777777778,
              "#fb9f3a"
             ],
             [
              0.8888888888888888,
              "#fdca26"
             ],
             [
              1,
              "#f0f921"
             ]
            ],
            "type": "surface"
           }
          ],
          "table": [
           {
            "cells": {
             "fill": {
              "color": "#EBF0F8"
             },
             "line": {
              "color": "white"
             }
            },
            "header": {
             "fill": {
              "color": "#C8D4E3"
             },
             "line": {
              "color": "white"
             }
            },
            "type": "table"
           }
          ]
         },
         "layout": {
          "annotationdefaults": {
           "arrowcolor": "#2a3f5f",
           "arrowhead": 0,
           "arrowwidth": 1
          },
          "autotypenumbers": "strict",
          "coloraxis": {
           "colorbar": {
            "outlinewidth": 0,
            "ticks": ""
           }
          },
          "colorscale": {
           "diverging": [
            [
             0,
             "#8e0152"
            ],
            [
             0.1,
             "#c51b7d"
            ],
            [
             0.2,
             "#de77ae"
            ],
            [
             0.3,
             "#f1b6da"
            ],
            [
             0.4,
             "#fde0ef"
            ],
            [
             0.5,
             "#f7f7f7"
            ],
            [
             0.6,
             "#e6f5d0"
            ],
            [
             0.7,
             "#b8e186"
            ],
            [
             0.8,
             "#7fbc41"
            ],
            [
             0.9,
             "#4d9221"
            ],
            [
             1,
             "#276419"
            ]
           ],
           "sequential": [
            [
             0,
             "#0d0887"
            ],
            [
             0.1111111111111111,
             "#46039f"
            ],
            [
             0.2222222222222222,
             "#7201a8"
            ],
            [
             0.3333333333333333,
             "#9c179e"
            ],
            [
             0.4444444444444444,
             "#bd3786"
            ],
            [
             0.5555555555555556,
             "#d8576b"
            ],
            [
             0.6666666666666666,
             "#ed7953"
            ],
            [
             0.7777777777777778,
             "#fb9f3a"
            ],
            [
             0.8888888888888888,
             "#fdca26"
            ],
            [
             1,
             "#f0f921"
            ]
           ],
           "sequentialminus": [
            [
             0,
             "#0d0887"
            ],
            [
             0.1111111111111111,
             "#46039f"
            ],
            [
             0.2222222222222222,
             "#7201a8"
            ],
            [
             0.3333333333333333,
             "#9c179e"
            ],
            [
             0.4444444444444444,
             "#bd3786"
            ],
            [
             0.5555555555555556,
             "#d8576b"
            ],
            [
             0.6666666666666666,
             "#ed7953"
            ],
            [
             0.7777777777777778,
             "#fb9f3a"
            ],
            [
             0.8888888888888888,
             "#fdca26"
            ],
            [
             1,
             "#f0f921"
            ]
           ]
          },
          "colorway": [
           "#636efa",
           "#EF553B",
           "#00cc96",
           "#ab63fa",
           "#FFA15A",
           "#19d3f3",
           "#FF6692",
           "#B6E880",
           "#FF97FF",
           "#FECB52"
          ],
          "font": {
           "color": "#2a3f5f"
          },
          "geo": {
           "bgcolor": "white",
           "lakecolor": "white",
           "landcolor": "#E5ECF6",
           "showlakes": true,
           "showland": true,
           "subunitcolor": "white"
          },
          "hoverlabel": {
           "align": "left"
          },
          "hovermode": "closest",
          "mapbox": {
           "style": "light"
          },
          "paper_bgcolor": "white",
          "plot_bgcolor": "#E5ECF6",
          "polar": {
           "angularaxis": {
            "gridcolor": "white",
            "linecolor": "white",
            "ticks": ""
           },
           "bgcolor": "#E5ECF6",
           "radialaxis": {
            "gridcolor": "white",
            "linecolor": "white",
            "ticks": ""
           }
          },
          "scene": {
           "xaxis": {
            "backgroundcolor": "#E5ECF6",
            "gridcolor": "white",
            "gridwidth": 2,
            "linecolor": "white",
            "showbackground": true,
            "ticks": "",
            "zerolinecolor": "white"
           },
           "yaxis": {
            "backgroundcolor": "#E5ECF6",
            "gridcolor": "white",
            "gridwidth": 2,
            "linecolor": "white",
            "showbackground": true,
            "ticks": "",
            "zerolinecolor": "white"
           },
           "zaxis": {
            "backgroundcolor": "#E5ECF6",
            "gridcolor": "white",
            "gridwidth": 2,
            "linecolor": "white",
            "showbackground": true,
            "ticks": "",
            "zerolinecolor": "white"
           }
          },
          "shapedefaults": {
           "line": {
            "color": "#2a3f5f"
           }
          },
          "ternary": {
           "aaxis": {
            "gridcolor": "white",
            "linecolor": "white",
            "ticks": ""
           },
           "baxis": {
            "gridcolor": "white",
            "linecolor": "white",
            "ticks": ""
           },
           "bgcolor": "#E5ECF6",
           "caxis": {
            "gridcolor": "white",
            "linecolor": "white",
            "ticks": ""
           }
          },
          "title": {
           "x": 0.05
          },
          "xaxis": {
           "automargin": true,
           "gridcolor": "white",
           "linecolor": "white",
           "ticks": "",
           "title": {
            "standoff": 15
           },
           "zerolinecolor": "white",
           "zerolinewidth": 2
          },
          "yaxis": {
           "automargin": true,
           "gridcolor": "white",
           "linecolor": "white",
           "ticks": "",
           "title": {
            "standoff": 15
           },
           "zerolinecolor": "white",
           "zerolinewidth": 2
          }
         }
        },
        "title": {
         "text": "2D Plot of Support, Confidence and Lift"
        },
        "xaxis": {
         "anchor": "y",
         "domain": [
          0,
          1
         ],
         "title": {
          "text": "support"
         },
         "type": "log"
        },
        "yaxis": {
         "anchor": "x",
         "domain": [
          0,
          1
         ],
         "title": {
          "text": "confidence"
         }
        }
       }
      },
      "text/html": [
       "<div>                            <div id=\"3fa313d5-db3d-4935-801d-ffbbb580f0af\" class=\"plotly-graph-div\" style=\"height:800px; width:100%;\"></div>            <script type=\"text/javascript\">                require([\"plotly\"], function(Plotly) {                    window.PLOTLYENV=window.PLOTLYENV || {};                                    if (document.getElementById(\"3fa313d5-db3d-4935-801d-ffbbb580f0af\")) {                    Plotly.newPlot(                        \"3fa313d5-db3d-4935-801d-ffbbb580f0af\",                        [{\"customdata\":[[\"bottled water\",\"whole milk\"],[\"sausage\",\"whole milk\"],[\"rolls\\u002fbuns\",\"whole milk\"],[\"other vegetables\",\"whole milk\"],[\"tropical fruit\",\"whole milk\"],[\"root vegetables\",\"whole milk\"],[\"soda\",\"whole milk\"],[\"yogurt\",\"other vegetables\"],[\"rolls\\u002fbuns\",\"other vegetables\"],[\"whole milk\",\"other vegetables\"],[\"soda\",\"other vegetables\"],[\"yogurt\",\"rolls\\u002fbuns\"],[\"whole milk\",\"rolls\\u002fbuns\"],[\"other vegetables\",\"rolls\\u002fbuns\"],[\"soda\",\"rolls\\u002fbuns\"],[\"rolls\\u002fbuns\",\"soda\"],[\"whole milk\",\"soda\"],[\"other vegetables\",\"soda\"],[\"other vegetables\",\"yogurt\"],[\"rolls\\u002fbuns\",\"yogurt\"]],\"hovertemplate\":\"support=%{x}\\u003cbr\\u003econfidence=%{y}\\u003cbr\\u003eantecedents_short=%{text}\\u003cbr\\u003eantecedents=%{customdata[0]}\\u003cbr\\u003econsequents=%{customdata[1]}\\u003cbr\\u003elift=%{marker.color}\\u003cextra\\u003e\\u003c\\u002fextra\\u003e\",\"legendgroup\":\"\",\"marker\":{\"color\":[1.1476,1.1334,1.1145,1.1091,1.0877,1.0706,1.052,1.129,1.1143,1.1091,1.0517,1.1253,1.1145,1.1143,1.0929,1.0929,1.052,1.0517,1.129,1.1253],\"coloraxis\":\"coloraxis\",\"opacity\":0.5,\"symbol\":\"circle\"},\"mode\":\"markers+text\",\"name\":\"\",\"orientation\":\"v\",\"showlegend\":false,\"text\":[\"bottled wa\",\"sausage\",\"rolls\\u002fbuns\",\"other vege\",\"tropical f\",\"root veget\",\"soda\",\"yogurt\",\"rolls\\u002fbuns\",\"whole milk\",\"soda\",\"yogurt\",\"whole milk\",\"other vege\",\"soda\",\"rolls\\u002fbuns\",\"whole milk\",\"other vege\",\"other vege\",\"rolls\\u002fbuns\"],\"x\":[0.1124,0.107,0.1786,0.1914,0.1165,0.1131,0.1511,0.1203,0.1467,0.1914,0.1242,0.1113,0.1786,0.1467,0.1198,0.1198,0.1511,0.1242,0.1203,0.1113],\"xaxis\":\"x\",\"y\":[0.5258,0.5193,0.5106,0.5082,0.4984,0.4905,0.482,0.4252,0.4197,0.4177,0.3961,0.3935,0.3897,0.3896,0.3822,0.3426,0.3298,0.3297,0.3195,0.3184],\"yaxis\":\"y\",\"type\":\"scatter\",\"textposition\":\"top center\"}],                        {\"template\":{\"data\":{\"histogram2dcontour\":[{\"type\":\"histogram2dcontour\",\"colorbar\":{\"outlinewidth\":0,\"ticks\":\"\"},\"colorscale\":[[0.0,\"#0d0887\"],[0.1111111111111111,\"#46039f\"],[0.2222222222222222,\"#7201a8\"],[0.3333333333333333,\"#9c179e\"],[0.4444444444444444,\"#bd3786\"],[0.5555555555555556,\"#d8576b\"],[0.6666666666666666,\"#ed7953\"],[0.7777777777777778,\"#fb9f3a\"],[0.8888888888888888,\"#fdca26\"],[1.0,\"#f0f921\"]]}],\"choropleth\":[{\"type\":\"choropleth\",\"colorbar\":{\"outlinewidth\":0,\"ticks\":\"\"}}],\"histogram2d\":[{\"type\":\"histogram2d\",\"colorbar\":{\"outlinewidth\":0,\"ticks\":\"\"},\"colorscale\":[[0.0,\"#0d0887\"],[0.1111111111111111,\"#46039f\"],[0.2222222222222222,\"#7201a8\"],[0.3333333333333333,\"#9c179e\"],[0.4444444444444444,\"#bd3786\"],[0.5555555555555556,\"#d8576b\"],[0.6666666666666666,\"#ed7953\"],[0.7777777777777778,\"#fb9f3a\"],[0.8888888888888888,\"#fdca26\"],[1.0,\"#f0f921\"]]}],\"heatmap\":[{\"type\":\"heatmap\",\"colorbar\":{\"outlinewidth\":0,\"ticks\":\"\"},\"colorscale\":[[0.0,\"#0d0887\"],[0.1111111111111111,\"#46039f\"],[0.2222222222222222,\"#7201a8\"],[0.3333333333333333,\"#9c179e\"],[0.4444444444444444,\"#bd3786\"],[0.5555555555555556,\"#d8576b\"],[0.6666666666666666,\"#ed7953\"],[0.7777777777777778,\"#fb9f3a\"],[0.8888888888888888,\"#fdca26\"],[1.0,\"#f0f921\"]]}],\"heatmapgl\":[{\"type\":\"heatmapgl\",\"colorbar\":{\"outlinewidth\":0,\"ticks\":\"\"},\"colorscale\":[[0.0,\"#0d0887\"],[0.1111111111111111,\"#46039f\"],[0.2222222222222222,\"#7201a8\"],[0.3333333333333333,\"#9c179e\"],[0.4444444444444444,\"#bd3786\"],[0.5555555555555556,\"#d8576b\"],[0.6666666666666666,\"#ed7953\"],[0.7777777777777778,\"#fb9f3a\"],[0.8888888888888888,\"#fdca26\"],[1.0,\"#f0f921\"]]}],\"contourcarpet\":[{\"type\":\"contourcarpet\",\"colorbar\":{\"outlinewidth\":0,\"ticks\":\"\"}}],\"contour\":[{\"type\":\"contour\",\"colorbar\":{\"outlinewidth\":0,\"ticks\":\"\"},\"colorscale\":[[0.0,\"#0d0887\"],[0.1111111111111111,\"#46039f\"],[0.2222222222222222,\"#7201a8\"],[0.3333333333333333,\"#9c179e\"],[0.4444444444444444,\"#bd3786\"],[0.5555555555555556,\"#d8576b\"],[0.6666666666666666,\"#ed7953\"],[0.7777777777777778,\"#fb9f3a\"],[0.8888888888888888,\"#fdca26\"],[1.0,\"#f0f921\"]]}],\"surface\":[{\"type\":\"surface\",\"colorbar\":{\"outlinewidth\":0,\"ticks\":\"\"},\"colorscale\":[[0.0,\"#0d0887\"],[0.1111111111111111,\"#46039f\"],[0.2222222222222222,\"#7201a8\"],[0.3333333333333333,\"#9c179e\"],[0.4444444444444444,\"#bd3786\"],[0.5555555555555556,\"#d8576b\"],[0.6666666666666666,\"#ed7953\"],[0.7777777777777778,\"#fb9f3a\"],[0.8888888888888888,\"#fdca26\"],[1.0,\"#f0f921\"]]}],\"mesh3d\":[{\"type\":\"mesh3d\",\"colorbar\":{\"outlinewidth\":0,\"ticks\":\"\"}}],\"scatter\":[{\"fillpattern\":{\"fillmode\":\"overlay\",\"size\":10,\"solidity\":0.2},\"type\":\"scatter\"}],\"parcoords\":[{\"type\":\"parcoords\",\"line\":{\"colorbar\":{\"outlinewidth\":0,\"ticks\":\"\"}}}],\"scatterpolargl\":[{\"type\":\"scatterpolargl\",\"marker\":{\"colorbar\":{\"outlinewidth\":0,\"ticks\":\"\"}}}],\"bar\":[{\"error_x\":{\"color\":\"#2a3f5f\"},\"error_y\":{\"color\":\"#2a3f5f\"},\"marker\":{\"line\":{\"color\":\"#E5ECF6\",\"width\":0.5},\"pattern\":{\"fillmode\":\"overlay\",\"size\":10,\"solidity\":0.2}},\"type\":\"bar\"}],\"scattergeo\":[{\"type\":\"scattergeo\",\"marker\":{\"colorbar\":{\"outlinewidth\":0,\"ticks\":\"\"}}}],\"scatterpolar\":[{\"type\":\"scatterpolar\",\"marker\":{\"colorbar\":{\"outlinewidth\":0,\"ticks\":\"\"}}}],\"histogram\":[{\"marker\":{\"pattern\":{\"fillmode\":\"overlay\",\"size\":10,\"solidity\":0.2}},\"type\":\"histogram\"}],\"scattergl\":[{\"type\":\"scattergl\",\"marker\":{\"colorbar\":{\"outlinewidth\":0,\"ticks\":\"\"}}}],\"scatter3d\":[{\"type\":\"scatter3d\",\"line\":{\"colorbar\":{\"outlinewidth\":0,\"ticks\":\"\"}},\"marker\":{\"colorbar\":{\"outlinewidth\":0,\"ticks\":\"\"}}}],\"scattermapbox\":[{\"type\":\"scattermapbox\",\"marker\":{\"colorbar\":{\"outlinewidth\":0,\"ticks\":\"\"}}}],\"scatterternary\":[{\"type\":\"scatterternary\",\"marker\":{\"colorbar\":{\"outlinewidth\":0,\"ticks\":\"\"}}}],\"scattercarpet\":[{\"type\":\"scattercarpet\",\"marker\":{\"colorbar\":{\"outlinewidth\":0,\"ticks\":\"\"}}}],\"carpet\":[{\"aaxis\":{\"endlinecolor\":\"#2a3f5f\",\"gridcolor\":\"white\",\"linecolor\":\"white\",\"minorgridcolor\":\"white\",\"startlinecolor\":\"#2a3f5f\"},\"baxis\":{\"endlinecolor\":\"#2a3f5f\",\"gridcolor\":\"white\",\"linecolor\":\"white\",\"minorgridcolor\":\"white\",\"startlinecolor\":\"#2a3f5f\"},\"type\":\"carpet\"}],\"table\":[{\"cells\":{\"fill\":{\"color\":\"#EBF0F8\"},\"line\":{\"color\":\"white\"}},\"header\":{\"fill\":{\"color\":\"#C8D4E3\"},\"line\":{\"color\":\"white\"}},\"type\":\"table\"}],\"barpolar\":[{\"marker\":{\"line\":{\"color\":\"#E5ECF6\",\"width\":0.5},\"pattern\":{\"fillmode\":\"overlay\",\"size\":10,\"solidity\":0.2}},\"type\":\"barpolar\"}],\"pie\":[{\"automargin\":true,\"type\":\"pie\"}]},\"layout\":{\"autotypenumbers\":\"strict\",\"colorway\":[\"#636efa\",\"#EF553B\",\"#00cc96\",\"#ab63fa\",\"#FFA15A\",\"#19d3f3\",\"#FF6692\",\"#B6E880\",\"#FF97FF\",\"#FECB52\"],\"font\":{\"color\":\"#2a3f5f\"},\"hovermode\":\"closest\",\"hoverlabel\":{\"align\":\"left\"},\"paper_bgcolor\":\"white\",\"plot_bgcolor\":\"#E5ECF6\",\"polar\":{\"bgcolor\":\"#E5ECF6\",\"angularaxis\":{\"gridcolor\":\"white\",\"linecolor\":\"white\",\"ticks\":\"\"},\"radialaxis\":{\"gridcolor\":\"white\",\"linecolor\":\"white\",\"ticks\":\"\"}},\"ternary\":{\"bgcolor\":\"#E5ECF6\",\"aaxis\":{\"gridcolor\":\"white\",\"linecolor\":\"white\",\"ticks\":\"\"},\"baxis\":{\"gridcolor\":\"white\",\"linecolor\":\"white\",\"ticks\":\"\"},\"caxis\":{\"gridcolor\":\"white\",\"linecolor\":\"white\",\"ticks\":\"\"}},\"coloraxis\":{\"colorbar\":{\"outlinewidth\":0,\"ticks\":\"\"}},\"colorscale\":{\"sequential\":[[0.0,\"#0d0887\"],[0.1111111111111111,\"#46039f\"],[0.2222222222222222,\"#7201a8\"],[0.3333333333333333,\"#9c179e\"],[0.4444444444444444,\"#bd3786\"],[0.5555555555555556,\"#d8576b\"],[0.6666666666666666,\"#ed7953\"],[0.7777777777777778,\"#fb9f3a\"],[0.8888888888888888,\"#fdca26\"],[1.0,\"#f0f921\"]],\"sequentialminus\":[[0.0,\"#0d0887\"],[0.1111111111111111,\"#46039f\"],[0.2222222222222222,\"#7201a8\"],[0.3333333333333333,\"#9c179e\"],[0.4444444444444444,\"#bd3786\"],[0.5555555555555556,\"#d8576b\"],[0.6666666666666666,\"#ed7953\"],[0.7777777777777778,\"#fb9f3a\"],[0.8888888888888888,\"#fdca26\"],[1.0,\"#f0f921\"]],\"diverging\":[[0,\"#8e0152\"],[0.1,\"#c51b7d\"],[0.2,\"#de77ae\"],[0.3,\"#f1b6da\"],[0.4,\"#fde0ef\"],[0.5,\"#f7f7f7\"],[0.6,\"#e6f5d0\"],[0.7,\"#b8e186\"],[0.8,\"#7fbc41\"],[0.9,\"#4d9221\"],[1,\"#276419\"]]},\"xaxis\":{\"gridcolor\":\"white\",\"linecolor\":\"white\",\"ticks\":\"\",\"title\":{\"standoff\":15},\"zerolinecolor\":\"white\",\"automargin\":true,\"zerolinewidth\":2},\"yaxis\":{\"gridcolor\":\"white\",\"linecolor\":\"white\",\"ticks\":\"\",\"title\":{\"standoff\":15},\"zerolinecolor\":\"white\",\"automargin\":true,\"zerolinewidth\":2},\"scene\":{\"xaxis\":{\"backgroundcolor\":\"#E5ECF6\",\"gridcolor\":\"white\",\"linecolor\":\"white\",\"showbackground\":true,\"ticks\":\"\",\"zerolinecolor\":\"white\",\"gridwidth\":2},\"yaxis\":{\"backgroundcolor\":\"#E5ECF6\",\"gridcolor\":\"white\",\"linecolor\":\"white\",\"showbackground\":true,\"ticks\":\"\",\"zerolinecolor\":\"white\",\"gridwidth\":2},\"zaxis\":{\"backgroundcolor\":\"#E5ECF6\",\"gridcolor\":\"white\",\"linecolor\":\"white\",\"showbackground\":true,\"ticks\":\"\",\"zerolinecolor\":\"white\",\"gridwidth\":2}},\"shapedefaults\":{\"line\":{\"color\":\"#2a3f5f\"}},\"annotationdefaults\":{\"arrowcolor\":\"#2a3f5f\",\"arrowhead\":0,\"arrowwidth\":1},\"geo\":{\"bgcolor\":\"white\",\"landcolor\":\"#E5ECF6\",\"subunitcolor\":\"white\",\"showland\":true,\"showlakes\":true,\"lakecolor\":\"white\"},\"title\":{\"x\":0.05},\"mapbox\":{\"style\":\"light\"}}},\"xaxis\":{\"anchor\":\"y\",\"domain\":[0.0,1.0],\"title\":{\"text\":\"support\"},\"type\":\"log\"},\"yaxis\":{\"anchor\":\"x\",\"domain\":[0.0,1.0],\"title\":{\"text\":\"confidence\"}},\"coloraxis\":{\"colorbar\":{\"title\":{\"text\":\"lift\"}},\"colorscale\":[[0.0,\"#0d0887\"],[0.1111111111111111,\"#46039f\"],[0.2222222222222222,\"#7201a8\"],[0.3333333333333333,\"#9c179e\"],[0.4444444444444444,\"#bd3786\"],[0.5555555555555556,\"#d8576b\"],[0.6666666666666666,\"#ed7953\"],[0.7777777777777778,\"#fb9f3a\"],[0.8888888888888888,\"#fdca26\"],[1.0,\"#f0f921\"]]},\"legend\":{\"tracegroupgap\":0},\"margin\":{\"t\":60},\"plot_bgcolor\":\"rgb(240,240,240)\",\"title\":{\"text\":\"2D Plot of Support, Confidence and Lift\"},\"height\":800},                        {\"responsive\": true}                    ).then(function(){\n",
       "                            \n",
       "var gd = document.getElementById('3fa313d5-db3d-4935-801d-ffbbb580f0af');\n",
       "var x = new MutationObserver(function (mutations, observer) {{\n",
       "        var display = window.getComputedStyle(gd).display;\n",
       "        if (!display || display === 'none') {{\n",
       "            console.log([gd, 'removed!']);\n",
       "            Plotly.purge(gd);\n",
       "            observer.disconnect();\n",
       "        }}\n",
       "}});\n",
       "\n",
       "// Listen for the removal of the full notebook cells\n",
       "var notebookContainer = gd.closest('#notebook-container');\n",
       "if (notebookContainer) {{\n",
       "    x.observe(notebookContainer, {childList: true});\n",
       "}}\n",
       "\n",
       "// Listen for the clearing of the current output cell\n",
       "var outputEl = gd.closest('.output');\n",
       "if (outputEl) {{\n",
       "    x.observe(outputEl, {childList: true});\n",
       "}}\n",
       "\n",
       "                        })                };                });            </script>        </div>"
      ]
     },
     "metadata": {},
     "output_type": "display_data"
    }
   ],
   "source": [
    "# 2d plot\n",
    "plot_model(arules_different_category_condition, plot = '2d')\n"
   ]
  },
  {
   "cell_type": "code",
   "execution_count": 66,
   "id": "29065fbb",
   "metadata": {},
   "outputs": [
    {
     "data": {
      "text/html": [
       "        <script type=\"text/javascript\">\n",
       "        window.PlotlyConfig = {MathJaxConfig: 'local'};\n",
       "        if (window.MathJax && window.MathJax.Hub && window.MathJax.Hub.Config) {window.MathJax.Hub.Config({SVG: {font: \"STIX-Web\"}});}\n",
       "        if (typeof require !== 'undefined') {\n",
       "        require.undef(\"plotly\");\n",
       "        requirejs.config({\n",
       "            paths: {\n",
       "                'plotly': ['https://cdn.plot.ly/plotly-2.25.2.min']\n",
       "            }\n",
       "        });\n",
       "        require(['plotly'], function(Plotly) {\n",
       "            window._Plotly = Plotly;\n",
       "        });\n",
       "        }\n",
       "        </script>\n",
       "        "
      ]
     },
     "metadata": {},
     "output_type": "display_data"
    },
    {
     "data": {
      "application/vnd.plotly.v1+json": {
       "config": {
        "plotlyServerURL": "https://plot.ly"
       },
       "data": [
        {
         "customdata": [
          [
           "bottled water",
           "whole milk"
          ],
          [
           "sausage",
           "whole milk"
          ],
          [
           "rolls/buns",
           "whole milk"
          ],
          [
           "other vegetables",
           "whole milk"
          ],
          [
           "tropical fruit",
           "whole milk"
          ],
          [
           "root vegetables",
           "whole milk"
          ],
          [
           "soda",
           "whole milk"
          ],
          [
           "yogurt",
           "other vegetables"
          ],
          [
           "rolls/buns",
           "other vegetables"
          ],
          [
           "whole milk",
           "other vegetables"
          ],
          [
           "soda",
           "other vegetables"
          ],
          [
           "yogurt",
           "rolls/buns"
          ],
          [
           "whole milk",
           "rolls/buns"
          ],
          [
           "other vegetables",
           "rolls/buns"
          ],
          [
           "soda",
           "rolls/buns"
          ],
          [
           "rolls/buns",
           "soda"
          ],
          [
           "whole milk",
           "soda"
          ],
          [
           "other vegetables",
           "soda"
          ],
          [
           "other vegetables",
           "yogurt"
          ],
          [
           "rolls/buns",
           "yogurt"
          ]
         ],
         "hovertemplate": "support=%{x}<br>confidence=%{y}<br>lift=%{z}<br>antecedents=%{customdata[0]}<br>consequents=%{customdata[1]}<br>antecedent support=%{marker.color}<extra></extra>",
         "legendgroup": "",
         "marker": {
          "color": [
           0.2137,
           0.206,
           0.3497,
           0.3766,
           0.2337,
           0.2306,
           0.3135,
           0.283,
           0.3497,
           0.4582,
           0.3135,
           0.283,
           0.4582,
           0.3766,
           0.3135,
           0.3497,
           0.4582,
           0.3766,
           0.3766,
           0.3497
          ],
          "coloraxis": "coloraxis",
          "opacity": 0.7,
          "symbol": "circle"
         },
         "mode": "markers",
         "name": "",
         "scene": "scene",
         "showlegend": false,
         "type": "scatter3d",
         "x": [
          0.1124,
          0.107,
          0.1786,
          0.1914,
          0.1165,
          0.1131,
          0.1511,
          0.1203,
          0.1467,
          0.1914,
          0.1242,
          0.1113,
          0.1786,
          0.1467,
          0.1198,
          0.1198,
          0.1511,
          0.1242,
          0.1203,
          0.1113
         ],
         "y": [
          0.5258,
          0.5193,
          0.5106,
          0.5082,
          0.4984,
          0.4905,
          0.482,
          0.4252,
          0.4197,
          0.4177,
          0.3961,
          0.3935,
          0.3897,
          0.3896,
          0.3822,
          0.3426,
          0.3298,
          0.3297,
          0.3195,
          0.3184
         ],
         "z": [
          1.1476,
          1.1334,
          1.1145,
          1.1091,
          1.0877,
          1.0706,
          1.052,
          1.129,
          1.1143,
          1.1091,
          1.0517,
          1.1253,
          1.1145,
          1.1143,
          1.0929,
          1.0929,
          1.052,
          1.0517,
          1.129,
          1.1253
         ]
        }
       ],
       "layout": {
        "coloraxis": {
         "colorbar": {
          "title": {
           "text": "antecedent support"
          }
         },
         "colorscale": [
          [
           0,
           "#0d0887"
          ],
          [
           0.1111111111111111,
           "#46039f"
          ],
          [
           0.2222222222222222,
           "#7201a8"
          ],
          [
           0.3333333333333333,
           "#9c179e"
          ],
          [
           0.4444444444444444,
           "#bd3786"
          ],
          [
           0.5555555555555556,
           "#d8576b"
          ],
          [
           0.6666666666666666,
           "#ed7953"
          ],
          [
           0.7777777777777778,
           "#fb9f3a"
          ],
          [
           0.8888888888888888,
           "#fdca26"
          ],
          [
           1,
           "#f0f921"
          ]
         ]
        },
        "height": 800,
        "legend": {
         "tracegroupgap": 0
        },
        "scene": {
         "domain": {
          "x": [
           0,
           1
          ],
          "y": [
           0,
           1
          ]
         },
         "xaxis": {
          "title": {
           "text": "support"
          }
         },
         "yaxis": {
          "title": {
           "text": "confidence"
          }
         },
         "zaxis": {
          "title": {
           "text": "lift"
          }
         }
        },
        "template": {
         "data": {
          "bar": [
           {
            "error_x": {
             "color": "#2a3f5f"
            },
            "error_y": {
             "color": "#2a3f5f"
            },
            "marker": {
             "line": {
              "color": "#E5ECF6",
              "width": 0.5
             },
             "pattern": {
              "fillmode": "overlay",
              "size": 10,
              "solidity": 0.2
             }
            },
            "type": "bar"
           }
          ],
          "barpolar": [
           {
            "marker": {
             "line": {
              "color": "#E5ECF6",
              "width": 0.5
             },
             "pattern": {
              "fillmode": "overlay",
              "size": 10,
              "solidity": 0.2
             }
            },
            "type": "barpolar"
           }
          ],
          "carpet": [
           {
            "aaxis": {
             "endlinecolor": "#2a3f5f",
             "gridcolor": "white",
             "linecolor": "white",
             "minorgridcolor": "white",
             "startlinecolor": "#2a3f5f"
            },
            "baxis": {
             "endlinecolor": "#2a3f5f",
             "gridcolor": "white",
             "linecolor": "white",
             "minorgridcolor": "white",
             "startlinecolor": "#2a3f5f"
            },
            "type": "carpet"
           }
          ],
          "choropleth": [
           {
            "colorbar": {
             "outlinewidth": 0,
             "ticks": ""
            },
            "type": "choropleth"
           }
          ],
          "contour": [
           {
            "colorbar": {
             "outlinewidth": 0,
             "ticks": ""
            },
            "colorscale": [
             [
              0,
              "#0d0887"
             ],
             [
              0.1111111111111111,
              "#46039f"
             ],
             [
              0.2222222222222222,
              "#7201a8"
             ],
             [
              0.3333333333333333,
              "#9c179e"
             ],
             [
              0.4444444444444444,
              "#bd3786"
             ],
             [
              0.5555555555555556,
              "#d8576b"
             ],
             [
              0.6666666666666666,
              "#ed7953"
             ],
             [
              0.7777777777777778,
              "#fb9f3a"
             ],
             [
              0.8888888888888888,
              "#fdca26"
             ],
             [
              1,
              "#f0f921"
             ]
            ],
            "type": "contour"
           }
          ],
          "contourcarpet": [
           {
            "colorbar": {
             "outlinewidth": 0,
             "ticks": ""
            },
            "type": "contourcarpet"
           }
          ],
          "heatmap": [
           {
            "colorbar": {
             "outlinewidth": 0,
             "ticks": ""
            },
            "colorscale": [
             [
              0,
              "#0d0887"
             ],
             [
              0.1111111111111111,
              "#46039f"
             ],
             [
              0.2222222222222222,
              "#7201a8"
             ],
             [
              0.3333333333333333,
              "#9c179e"
             ],
             [
              0.4444444444444444,
              "#bd3786"
             ],
             [
              0.5555555555555556,
              "#d8576b"
             ],
             [
              0.6666666666666666,
              "#ed7953"
             ],
             [
              0.7777777777777778,
              "#fb9f3a"
             ],
             [
              0.8888888888888888,
              "#fdca26"
             ],
             [
              1,
              "#f0f921"
             ]
            ],
            "type": "heatmap"
           }
          ],
          "heatmapgl": [
           {
            "colorbar": {
             "outlinewidth": 0,
             "ticks": ""
            },
            "colorscale": [
             [
              0,
              "#0d0887"
             ],
             [
              0.1111111111111111,
              "#46039f"
             ],
             [
              0.2222222222222222,
              "#7201a8"
             ],
             [
              0.3333333333333333,
              "#9c179e"
             ],
             [
              0.4444444444444444,
              "#bd3786"
             ],
             [
              0.5555555555555556,
              "#d8576b"
             ],
             [
              0.6666666666666666,
              "#ed7953"
             ],
             [
              0.7777777777777778,
              "#fb9f3a"
             ],
             [
              0.8888888888888888,
              "#fdca26"
             ],
             [
              1,
              "#f0f921"
             ]
            ],
            "type": "heatmapgl"
           }
          ],
          "histogram": [
           {
            "marker": {
             "pattern": {
              "fillmode": "overlay",
              "size": 10,
              "solidity": 0.2
             }
            },
            "type": "histogram"
           }
          ],
          "histogram2d": [
           {
            "colorbar": {
             "outlinewidth": 0,
             "ticks": ""
            },
            "colorscale": [
             [
              0,
              "#0d0887"
             ],
             [
              0.1111111111111111,
              "#46039f"
             ],
             [
              0.2222222222222222,
              "#7201a8"
             ],
             [
              0.3333333333333333,
              "#9c179e"
             ],
             [
              0.4444444444444444,
              "#bd3786"
             ],
             [
              0.5555555555555556,
              "#d8576b"
             ],
             [
              0.6666666666666666,
              "#ed7953"
             ],
             [
              0.7777777777777778,
              "#fb9f3a"
             ],
             [
              0.8888888888888888,
              "#fdca26"
             ],
             [
              1,
              "#f0f921"
             ]
            ],
            "type": "histogram2d"
           }
          ],
          "histogram2dcontour": [
           {
            "colorbar": {
             "outlinewidth": 0,
             "ticks": ""
            },
            "colorscale": [
             [
              0,
              "#0d0887"
             ],
             [
              0.1111111111111111,
              "#46039f"
             ],
             [
              0.2222222222222222,
              "#7201a8"
             ],
             [
              0.3333333333333333,
              "#9c179e"
             ],
             [
              0.4444444444444444,
              "#bd3786"
             ],
             [
              0.5555555555555556,
              "#d8576b"
             ],
             [
              0.6666666666666666,
              "#ed7953"
             ],
             [
              0.7777777777777778,
              "#fb9f3a"
             ],
             [
              0.8888888888888888,
              "#fdca26"
             ],
             [
              1,
              "#f0f921"
             ]
            ],
            "type": "histogram2dcontour"
           }
          ],
          "mesh3d": [
           {
            "colorbar": {
             "outlinewidth": 0,
             "ticks": ""
            },
            "type": "mesh3d"
           }
          ],
          "parcoords": [
           {
            "line": {
             "colorbar": {
              "outlinewidth": 0,
              "ticks": ""
             }
            },
            "type": "parcoords"
           }
          ],
          "pie": [
           {
            "automargin": true,
            "type": "pie"
           }
          ],
          "scatter": [
           {
            "fillpattern": {
             "fillmode": "overlay",
             "size": 10,
             "solidity": 0.2
            },
            "type": "scatter"
           }
          ],
          "scatter3d": [
           {
            "line": {
             "colorbar": {
              "outlinewidth": 0,
              "ticks": ""
             }
            },
            "marker": {
             "colorbar": {
              "outlinewidth": 0,
              "ticks": ""
             }
            },
            "type": "scatter3d"
           }
          ],
          "scattercarpet": [
           {
            "marker": {
             "colorbar": {
              "outlinewidth": 0,
              "ticks": ""
             }
            },
            "type": "scattercarpet"
           }
          ],
          "scattergeo": [
           {
            "marker": {
             "colorbar": {
              "outlinewidth": 0,
              "ticks": ""
             }
            },
            "type": "scattergeo"
           }
          ],
          "scattergl": [
           {
            "marker": {
             "colorbar": {
              "outlinewidth": 0,
              "ticks": ""
             }
            },
            "type": "scattergl"
           }
          ],
          "scattermapbox": [
           {
            "marker": {
             "colorbar": {
              "outlinewidth": 0,
              "ticks": ""
             }
            },
            "type": "scattermapbox"
           }
          ],
          "scatterpolar": [
           {
            "marker": {
             "colorbar": {
              "outlinewidth": 0,
              "ticks": ""
             }
            },
            "type": "scatterpolar"
           }
          ],
          "scatterpolargl": [
           {
            "marker": {
             "colorbar": {
              "outlinewidth": 0,
              "ticks": ""
             }
            },
            "type": "scatterpolargl"
           }
          ],
          "scatterternary": [
           {
            "marker": {
             "colorbar": {
              "outlinewidth": 0,
              "ticks": ""
             }
            },
            "type": "scatterternary"
           }
          ],
          "surface": [
           {
            "colorbar": {
             "outlinewidth": 0,
             "ticks": ""
            },
            "colorscale": [
             [
              0,
              "#0d0887"
             ],
             [
              0.1111111111111111,
              "#46039f"
             ],
             [
              0.2222222222222222,
              "#7201a8"
             ],
             [
              0.3333333333333333,
              "#9c179e"
             ],
             [
              0.4444444444444444,
              "#bd3786"
             ],
             [
              0.5555555555555556,
              "#d8576b"
             ],
             [
              0.6666666666666666,
              "#ed7953"
             ],
             [
              0.7777777777777778,
              "#fb9f3a"
             ],
             [
              0.8888888888888888,
              "#fdca26"
             ],
             [
              1,
              "#f0f921"
             ]
            ],
            "type": "surface"
           }
          ],
          "table": [
           {
            "cells": {
             "fill": {
              "color": "#EBF0F8"
             },
             "line": {
              "color": "white"
             }
            },
            "header": {
             "fill": {
              "color": "#C8D4E3"
             },
             "line": {
              "color": "white"
             }
            },
            "type": "table"
           }
          ]
         },
         "layout": {
          "annotationdefaults": {
           "arrowcolor": "#2a3f5f",
           "arrowhead": 0,
           "arrowwidth": 1
          },
          "autotypenumbers": "strict",
          "coloraxis": {
           "colorbar": {
            "outlinewidth": 0,
            "ticks": ""
           }
          },
          "colorscale": {
           "diverging": [
            [
             0,
             "#8e0152"
            ],
            [
             0.1,
             "#c51b7d"
            ],
            [
             0.2,
             "#de77ae"
            ],
            [
             0.3,
             "#f1b6da"
            ],
            [
             0.4,
             "#fde0ef"
            ],
            [
             0.5,
             "#f7f7f7"
            ],
            [
             0.6,
             "#e6f5d0"
            ],
            [
             0.7,
             "#b8e186"
            ],
            [
             0.8,
             "#7fbc41"
            ],
            [
             0.9,
             "#4d9221"
            ],
            [
             1,
             "#276419"
            ]
           ],
           "sequential": [
            [
             0,
             "#0d0887"
            ],
            [
             0.1111111111111111,
             "#46039f"
            ],
            [
             0.2222222222222222,
             "#7201a8"
            ],
            [
             0.3333333333333333,
             "#9c179e"
            ],
            [
             0.4444444444444444,
             "#bd3786"
            ],
            [
             0.5555555555555556,
             "#d8576b"
            ],
            [
             0.6666666666666666,
             "#ed7953"
            ],
            [
             0.7777777777777778,
             "#fb9f3a"
            ],
            [
             0.8888888888888888,
             "#fdca26"
            ],
            [
             1,
             "#f0f921"
            ]
           ],
           "sequentialminus": [
            [
             0,
             "#0d0887"
            ],
            [
             0.1111111111111111,
             "#46039f"
            ],
            [
             0.2222222222222222,
             "#7201a8"
            ],
            [
             0.3333333333333333,
             "#9c179e"
            ],
            [
             0.4444444444444444,
             "#bd3786"
            ],
            [
             0.5555555555555556,
             "#d8576b"
            ],
            [
             0.6666666666666666,
             "#ed7953"
            ],
            [
             0.7777777777777778,
             "#fb9f3a"
            ],
            [
             0.8888888888888888,
             "#fdca26"
            ],
            [
             1,
             "#f0f921"
            ]
           ]
          },
          "colorway": [
           "#636efa",
           "#EF553B",
           "#00cc96",
           "#ab63fa",
           "#FFA15A",
           "#19d3f3",
           "#FF6692",
           "#B6E880",
           "#FF97FF",
           "#FECB52"
          ],
          "font": {
           "color": "#2a3f5f"
          },
          "geo": {
           "bgcolor": "white",
           "lakecolor": "white",
           "landcolor": "#E5ECF6",
           "showlakes": true,
           "showland": true,
           "subunitcolor": "white"
          },
          "hoverlabel": {
           "align": "left"
          },
          "hovermode": "closest",
          "mapbox": {
           "style": "light"
          },
          "paper_bgcolor": "white",
          "plot_bgcolor": "#E5ECF6",
          "polar": {
           "angularaxis": {
            "gridcolor": "white",
            "linecolor": "white",
            "ticks": ""
           },
           "bgcolor": "#E5ECF6",
           "radialaxis": {
            "gridcolor": "white",
            "linecolor": "white",
            "ticks": ""
           }
          },
          "scene": {
           "xaxis": {
            "backgroundcolor": "#E5ECF6",
            "gridcolor": "white",
            "gridwidth": 2,
            "linecolor": "white",
            "showbackground": true,
            "ticks": "",
            "zerolinecolor": "white"
           },
           "yaxis": {
            "backgroundcolor": "#E5ECF6",
            "gridcolor": "white",
            "gridwidth": 2,
            "linecolor": "white",
            "showbackground": true,
            "ticks": "",
            "zerolinecolor": "white"
           },
           "zaxis": {
            "backgroundcolor": "#E5ECF6",
            "gridcolor": "white",
            "gridwidth": 2,
            "linecolor": "white",
            "showbackground": true,
            "ticks": "",
            "zerolinecolor": "white"
           }
          },
          "shapedefaults": {
           "line": {
            "color": "#2a3f5f"
           }
          },
          "ternary": {
           "aaxis": {
            "gridcolor": "white",
            "linecolor": "white",
            "ticks": ""
           },
           "baxis": {
            "gridcolor": "white",
            "linecolor": "white",
            "ticks": ""
           },
           "bgcolor": "#E5ECF6",
           "caxis": {
            "gridcolor": "white",
            "linecolor": "white",
            "ticks": ""
           }
          },
          "title": {
           "x": 0.05
          },
          "xaxis": {
           "automargin": true,
           "gridcolor": "white",
           "linecolor": "white",
           "ticks": "",
           "title": {
            "standoff": 15
           },
           "zerolinecolor": "white",
           "zerolinewidth": 2
          },
          "yaxis": {
           "automargin": true,
           "gridcolor": "white",
           "linecolor": "white",
           "ticks": "",
           "title": {
            "standoff": 15
           },
           "zerolinecolor": "white",
           "zerolinewidth": 2
          }
         }
        },
        "title": {
         "text": "3d Plot for Rule Mining"
        },
        "width": 900
       }
      },
      "text/html": [
       "<div>                            <div id=\"efdde37a-126e-4f74-b228-58d4e70aebba\" class=\"plotly-graph-div\" style=\"height:800px; width:900px;\"></div>            <script type=\"text/javascript\">                require([\"plotly\"], function(Plotly) {                    window.PLOTLYENV=window.PLOTLYENV || {};                                    if (document.getElementById(\"efdde37a-126e-4f74-b228-58d4e70aebba\")) {                    Plotly.newPlot(                        \"efdde37a-126e-4f74-b228-58d4e70aebba\",                        [{\"customdata\":[[\"bottled water\",\"whole milk\"],[\"sausage\",\"whole milk\"],[\"rolls\\u002fbuns\",\"whole milk\"],[\"other vegetables\",\"whole milk\"],[\"tropical fruit\",\"whole milk\"],[\"root vegetables\",\"whole milk\"],[\"soda\",\"whole milk\"],[\"yogurt\",\"other vegetables\"],[\"rolls\\u002fbuns\",\"other vegetables\"],[\"whole milk\",\"other vegetables\"],[\"soda\",\"other vegetables\"],[\"yogurt\",\"rolls\\u002fbuns\"],[\"whole milk\",\"rolls\\u002fbuns\"],[\"other vegetables\",\"rolls\\u002fbuns\"],[\"soda\",\"rolls\\u002fbuns\"],[\"rolls\\u002fbuns\",\"soda\"],[\"whole milk\",\"soda\"],[\"other vegetables\",\"soda\"],[\"other vegetables\",\"yogurt\"],[\"rolls\\u002fbuns\",\"yogurt\"]],\"hovertemplate\":\"support=%{x}\\u003cbr\\u003econfidence=%{y}\\u003cbr\\u003elift=%{z}\\u003cbr\\u003eantecedents=%{customdata[0]}\\u003cbr\\u003econsequents=%{customdata[1]}\\u003cbr\\u003eantecedent support=%{marker.color}\\u003cextra\\u003e\\u003c\\u002fextra\\u003e\",\"legendgroup\":\"\",\"marker\":{\"color\":[0.2137,0.206,0.3497,0.3766,0.2337,0.2306,0.3135,0.283,0.3497,0.4582,0.3135,0.283,0.4582,0.3766,0.3135,0.3497,0.4582,0.3766,0.3766,0.3497],\"coloraxis\":\"coloraxis\",\"opacity\":0.7,\"symbol\":\"circle\"},\"mode\":\"markers\",\"name\":\"\",\"scene\":\"scene\",\"showlegend\":false,\"x\":[0.1124,0.107,0.1786,0.1914,0.1165,0.1131,0.1511,0.1203,0.1467,0.1914,0.1242,0.1113,0.1786,0.1467,0.1198,0.1198,0.1511,0.1242,0.1203,0.1113],\"y\":[0.5258,0.5193,0.5106,0.5082,0.4984,0.4905,0.482,0.4252,0.4197,0.4177,0.3961,0.3935,0.3897,0.3896,0.3822,0.3426,0.3298,0.3297,0.3195,0.3184],\"z\":[1.1476,1.1334,1.1145,1.1091,1.0877,1.0706,1.052,1.129,1.1143,1.1091,1.0517,1.1253,1.1145,1.1143,1.0929,1.0929,1.052,1.0517,1.129,1.1253],\"type\":\"scatter3d\"}],                        {\"template\":{\"data\":{\"histogram2dcontour\":[{\"type\":\"histogram2dcontour\",\"colorbar\":{\"outlinewidth\":0,\"ticks\":\"\"},\"colorscale\":[[0.0,\"#0d0887\"],[0.1111111111111111,\"#46039f\"],[0.2222222222222222,\"#7201a8\"],[0.3333333333333333,\"#9c179e\"],[0.4444444444444444,\"#bd3786\"],[0.5555555555555556,\"#d8576b\"],[0.6666666666666666,\"#ed7953\"],[0.7777777777777778,\"#fb9f3a\"],[0.8888888888888888,\"#fdca26\"],[1.0,\"#f0f921\"]]}],\"choropleth\":[{\"type\":\"choropleth\",\"colorbar\":{\"outlinewidth\":0,\"ticks\":\"\"}}],\"histogram2d\":[{\"type\":\"histogram2d\",\"colorbar\":{\"outlinewidth\":0,\"ticks\":\"\"},\"colorscale\":[[0.0,\"#0d0887\"],[0.1111111111111111,\"#46039f\"],[0.2222222222222222,\"#7201a8\"],[0.3333333333333333,\"#9c179e\"],[0.4444444444444444,\"#bd3786\"],[0.5555555555555556,\"#d8576b\"],[0.6666666666666666,\"#ed7953\"],[0.7777777777777778,\"#fb9f3a\"],[0.8888888888888888,\"#fdca26\"],[1.0,\"#f0f921\"]]}],\"heatmap\":[{\"type\":\"heatmap\",\"colorbar\":{\"outlinewidth\":0,\"ticks\":\"\"},\"colorscale\":[[0.0,\"#0d0887\"],[0.1111111111111111,\"#46039f\"],[0.2222222222222222,\"#7201a8\"],[0.3333333333333333,\"#9c179e\"],[0.4444444444444444,\"#bd3786\"],[0.5555555555555556,\"#d8576b\"],[0.6666666666666666,\"#ed7953\"],[0.7777777777777778,\"#fb9f3a\"],[0.8888888888888888,\"#fdca26\"],[1.0,\"#f0f921\"]]}],\"heatmapgl\":[{\"type\":\"heatmapgl\",\"colorbar\":{\"outlinewidth\":0,\"ticks\":\"\"},\"colorscale\":[[0.0,\"#0d0887\"],[0.1111111111111111,\"#46039f\"],[0.2222222222222222,\"#7201a8\"],[0.3333333333333333,\"#9c179e\"],[0.4444444444444444,\"#bd3786\"],[0.5555555555555556,\"#d8576b\"],[0.6666666666666666,\"#ed7953\"],[0.7777777777777778,\"#fb9f3a\"],[0.8888888888888888,\"#fdca26\"],[1.0,\"#f0f921\"]]}],\"contourcarpet\":[{\"type\":\"contourcarpet\",\"colorbar\":{\"outlinewidth\":0,\"ticks\":\"\"}}],\"contour\":[{\"type\":\"contour\",\"colorbar\":{\"outlinewidth\":0,\"ticks\":\"\"},\"colorscale\":[[0.0,\"#0d0887\"],[0.1111111111111111,\"#46039f\"],[0.2222222222222222,\"#7201a8\"],[0.3333333333333333,\"#9c179e\"],[0.4444444444444444,\"#bd3786\"],[0.5555555555555556,\"#d8576b\"],[0.6666666666666666,\"#ed7953\"],[0.7777777777777778,\"#fb9f3a\"],[0.8888888888888888,\"#fdca26\"],[1.0,\"#f0f921\"]]}],\"surface\":[{\"type\":\"surface\",\"colorbar\":{\"outlinewidth\":0,\"ticks\":\"\"},\"colorscale\":[[0.0,\"#0d0887\"],[0.1111111111111111,\"#46039f\"],[0.2222222222222222,\"#7201a8\"],[0.3333333333333333,\"#9c179e\"],[0.4444444444444444,\"#bd3786\"],[0.5555555555555556,\"#d8576b\"],[0.6666666666666666,\"#ed7953\"],[0.7777777777777778,\"#fb9f3a\"],[0.8888888888888888,\"#fdca26\"],[1.0,\"#f0f921\"]]}],\"mesh3d\":[{\"type\":\"mesh3d\",\"colorbar\":{\"outlinewidth\":0,\"ticks\":\"\"}}],\"scatter\":[{\"fillpattern\":{\"fillmode\":\"overlay\",\"size\":10,\"solidity\":0.2},\"type\":\"scatter\"}],\"parcoords\":[{\"type\":\"parcoords\",\"line\":{\"colorbar\":{\"outlinewidth\":0,\"ticks\":\"\"}}}],\"scatterpolargl\":[{\"type\":\"scatterpolargl\",\"marker\":{\"colorbar\":{\"outlinewidth\":0,\"ticks\":\"\"}}}],\"bar\":[{\"error_x\":{\"color\":\"#2a3f5f\"},\"error_y\":{\"color\":\"#2a3f5f\"},\"marker\":{\"line\":{\"color\":\"#E5ECF6\",\"width\":0.5},\"pattern\":{\"fillmode\":\"overlay\",\"size\":10,\"solidity\":0.2}},\"type\":\"bar\"}],\"scattergeo\":[{\"type\":\"scattergeo\",\"marker\":{\"colorbar\":{\"outlinewidth\":0,\"ticks\":\"\"}}}],\"scatterpolar\":[{\"type\":\"scatterpolar\",\"marker\":{\"colorbar\":{\"outlinewidth\":0,\"ticks\":\"\"}}}],\"histogram\":[{\"marker\":{\"pattern\":{\"fillmode\":\"overlay\",\"size\":10,\"solidity\":0.2}},\"type\":\"histogram\"}],\"scattergl\":[{\"type\":\"scattergl\",\"marker\":{\"colorbar\":{\"outlinewidth\":0,\"ticks\":\"\"}}}],\"scatter3d\":[{\"type\":\"scatter3d\",\"line\":{\"colorbar\":{\"outlinewidth\":0,\"ticks\":\"\"}},\"marker\":{\"colorbar\":{\"outlinewidth\":0,\"ticks\":\"\"}}}],\"scattermapbox\":[{\"type\":\"scattermapbox\",\"marker\":{\"colorbar\":{\"outlinewidth\":0,\"ticks\":\"\"}}}],\"scatterternary\":[{\"type\":\"scatterternary\",\"marker\":{\"colorbar\":{\"outlinewidth\":0,\"ticks\":\"\"}}}],\"scattercarpet\":[{\"type\":\"scattercarpet\",\"marker\":{\"colorbar\":{\"outlinewidth\":0,\"ticks\":\"\"}}}],\"carpet\":[{\"aaxis\":{\"endlinecolor\":\"#2a3f5f\",\"gridcolor\":\"white\",\"linecolor\":\"white\",\"minorgridcolor\":\"white\",\"startlinecolor\":\"#2a3f5f\"},\"baxis\":{\"endlinecolor\":\"#2a3f5f\",\"gridcolor\":\"white\",\"linecolor\":\"white\",\"minorgridcolor\":\"white\",\"startlinecolor\":\"#2a3f5f\"},\"type\":\"carpet\"}],\"table\":[{\"cells\":{\"fill\":{\"color\":\"#EBF0F8\"},\"line\":{\"color\":\"white\"}},\"header\":{\"fill\":{\"color\":\"#C8D4E3\"},\"line\":{\"color\":\"white\"}},\"type\":\"table\"}],\"barpolar\":[{\"marker\":{\"line\":{\"color\":\"#E5ECF6\",\"width\":0.5},\"pattern\":{\"fillmode\":\"overlay\",\"size\":10,\"solidity\":0.2}},\"type\":\"barpolar\"}],\"pie\":[{\"automargin\":true,\"type\":\"pie\"}]},\"layout\":{\"autotypenumbers\":\"strict\",\"colorway\":[\"#636efa\",\"#EF553B\",\"#00cc96\",\"#ab63fa\",\"#FFA15A\",\"#19d3f3\",\"#FF6692\",\"#B6E880\",\"#FF97FF\",\"#FECB52\"],\"font\":{\"color\":\"#2a3f5f\"},\"hovermode\":\"closest\",\"hoverlabel\":{\"align\":\"left\"},\"paper_bgcolor\":\"white\",\"plot_bgcolor\":\"#E5ECF6\",\"polar\":{\"bgcolor\":\"#E5ECF6\",\"angularaxis\":{\"gridcolor\":\"white\",\"linecolor\":\"white\",\"ticks\":\"\"},\"radialaxis\":{\"gridcolor\":\"white\",\"linecolor\":\"white\",\"ticks\":\"\"}},\"ternary\":{\"bgcolor\":\"#E5ECF6\",\"aaxis\":{\"gridcolor\":\"white\",\"linecolor\":\"white\",\"ticks\":\"\"},\"baxis\":{\"gridcolor\":\"white\",\"linecolor\":\"white\",\"ticks\":\"\"},\"caxis\":{\"gridcolor\":\"white\",\"linecolor\":\"white\",\"ticks\":\"\"}},\"coloraxis\":{\"colorbar\":{\"outlinewidth\":0,\"ticks\":\"\"}},\"colorscale\":{\"sequential\":[[0.0,\"#0d0887\"],[0.1111111111111111,\"#46039f\"],[0.2222222222222222,\"#7201a8\"],[0.3333333333333333,\"#9c179e\"],[0.4444444444444444,\"#bd3786\"],[0.5555555555555556,\"#d8576b\"],[0.6666666666666666,\"#ed7953\"],[0.7777777777777778,\"#fb9f3a\"],[0.8888888888888888,\"#fdca26\"],[1.0,\"#f0f921\"]],\"sequentialminus\":[[0.0,\"#0d0887\"],[0.1111111111111111,\"#46039f\"],[0.2222222222222222,\"#7201a8\"],[0.3333333333333333,\"#9c179e\"],[0.4444444444444444,\"#bd3786\"],[0.5555555555555556,\"#d8576b\"],[0.6666666666666666,\"#ed7953\"],[0.7777777777777778,\"#fb9f3a\"],[0.8888888888888888,\"#fdca26\"],[1.0,\"#f0f921\"]],\"diverging\":[[0,\"#8e0152\"],[0.1,\"#c51b7d\"],[0.2,\"#de77ae\"],[0.3,\"#f1b6da\"],[0.4,\"#fde0ef\"],[0.5,\"#f7f7f7\"],[0.6,\"#e6f5d0\"],[0.7,\"#b8e186\"],[0.8,\"#7fbc41\"],[0.9,\"#4d9221\"],[1,\"#276419\"]]},\"xaxis\":{\"gridcolor\":\"white\",\"linecolor\":\"white\",\"ticks\":\"\",\"title\":{\"standoff\":15},\"zerolinecolor\":\"white\",\"automargin\":true,\"zerolinewidth\":2},\"yaxis\":{\"gridcolor\":\"white\",\"linecolor\":\"white\",\"ticks\":\"\",\"title\":{\"standoff\":15},\"zerolinecolor\":\"white\",\"automargin\":true,\"zerolinewidth\":2},\"scene\":{\"xaxis\":{\"backgroundcolor\":\"#E5ECF6\",\"gridcolor\":\"white\",\"linecolor\":\"white\",\"showbackground\":true,\"ticks\":\"\",\"zerolinecolor\":\"white\",\"gridwidth\":2},\"yaxis\":{\"backgroundcolor\":\"#E5ECF6\",\"gridcolor\":\"white\",\"linecolor\":\"white\",\"showbackground\":true,\"ticks\":\"\",\"zerolinecolor\":\"white\",\"gridwidth\":2},\"zaxis\":{\"backgroundcolor\":\"#E5ECF6\",\"gridcolor\":\"white\",\"linecolor\":\"white\",\"showbackground\":true,\"ticks\":\"\",\"zerolinecolor\":\"white\",\"gridwidth\":2}},\"shapedefaults\":{\"line\":{\"color\":\"#2a3f5f\"}},\"annotationdefaults\":{\"arrowcolor\":\"#2a3f5f\",\"arrowhead\":0,\"arrowwidth\":1},\"geo\":{\"bgcolor\":\"white\",\"landcolor\":\"#E5ECF6\",\"subunitcolor\":\"white\",\"showland\":true,\"showlakes\":true,\"lakecolor\":\"white\"},\"title\":{\"x\":0.05},\"mapbox\":{\"style\":\"light\"}}},\"scene\":{\"domain\":{\"x\":[0.0,1.0],\"y\":[0.0,1.0]},\"xaxis\":{\"title\":{\"text\":\"support\"}},\"yaxis\":{\"title\":{\"text\":\"confidence\"}},\"zaxis\":{\"title\":{\"text\":\"lift\"}}},\"coloraxis\":{\"colorbar\":{\"title\":{\"text\":\"antecedent support\"}},\"colorscale\":[[0.0,\"#0d0887\"],[0.1111111111111111,\"#46039f\"],[0.2222222222222222,\"#7201a8\"],[0.3333333333333333,\"#9c179e\"],[0.4444444444444444,\"#bd3786\"],[0.5555555555555556,\"#d8576b\"],[0.6666666666666666,\"#ed7953\"],[0.7777777777777778,\"#fb9f3a\"],[0.8888888888888888,\"#fdca26\"],[1.0,\"#f0f921\"]]},\"legend\":{\"tracegroupgap\":0},\"title\":{\"text\":\"3d Plot for Rule Mining\"},\"height\":800,\"width\":900},                        {\"responsive\": true}                    ).then(function(){\n",
       "                            \n",
       "var gd = document.getElementById('efdde37a-126e-4f74-b228-58d4e70aebba');\n",
       "var x = new MutationObserver(function (mutations, observer) {{\n",
       "        var display = window.getComputedStyle(gd).display;\n",
       "        if (!display || display === 'none') {{\n",
       "            console.log([gd, 'removed!']);\n",
       "            Plotly.purge(gd);\n",
       "            observer.disconnect();\n",
       "        }}\n",
       "}});\n",
       "\n",
       "// Listen for the removal of the full notebook cells\n",
       "var notebookContainer = gd.closest('#notebook-container');\n",
       "if (notebookContainer) {{\n",
       "    x.observe(notebookContainer, {childList: true});\n",
       "}}\n",
       "\n",
       "// Listen for the clearing of the current output cell\n",
       "var outputEl = gd.closest('.output');\n",
       "if (outputEl) {{\n",
       "    x.observe(outputEl, {childList: true});\n",
       "}}\n",
       "\n",
       "                        })                };                });            </script>        </div>"
      ]
     },
     "metadata": {},
     "output_type": "display_data"
    }
   ],
   "source": [
    "# 3d plot\n",
    "\n",
    "plot_model(arules_different_category_condition, plot = '3d')\n"
   ]
  },
  {
   "cell_type": "markdown",
   "id": "df32ee16",
   "metadata": {},
   "source": [
    "## \n"
   ]
  },
  {
   "cell_type": "markdown",
   "id": "c8945d2d",
   "metadata": {},
   "source": [
    "**Analysis**"
   ]
  },
  {
   "attachments": {},
   "cell_type": "markdown",
   "id": "852559c7",
   "metadata": {},
   "source": [
    "From what u can see in the diagrams, same category foods are not always bought together. This is actually true too because for example, when you go for your weekly Tesco shopping, you would buy bread (carbs), meat and fish (protein), milk (dairy), water (milk), which are not all from the same category. "
   ]
  }
 ],
 "metadata": {
  "kernelspec": {
   "display_name": "Python 3 (ipykernel)",
   "language": "python",
   "name": "python3"
  },
  "language_info": {
   "codemirror_mode": {
    "name": "ipython",
    "version": 3
   },
   "file_extension": ".py",
   "mimetype": "text/x-python",
   "name": "python",
   "nbconvert_exporter": "python",
   "pygments_lexer": "ipython3",
   "version": "3.9.17"
  }
 },
 "nbformat": 4,
 "nbformat_minor": 5
}
